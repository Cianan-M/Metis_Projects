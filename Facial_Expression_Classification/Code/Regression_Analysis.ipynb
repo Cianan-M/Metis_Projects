{
 "cells": [
  {
   "cell_type": "markdown",
   "metadata": {},
   "source": [
    "# Regression Analysis\n",
    "\n",
    "    1. Use statsmodel as way to determine baseline R^2\n",
    "    2. Cross validate data \n",
    "    3. Create graphs to enhance understanding of data "
   ]
  },
  {
   "cell_type": "code",
   "execution_count": 1,
   "metadata": {},
   "outputs": [],
   "source": [
    "import numpy as np\n",
    "import pandas as pd\n",
    "import pickle\n",
    "import matplotlib.pyplot as plt\n",
    "%matplotlib inline\n",
    "import seaborn as sns\n",
    "\n",
    "import statsmodels.api as sm\n",
    "import statsmodels.formula.api as smf\n",
    "import patsy\n",
    "from math import sqrt\n",
    "\n",
    "from sklearn.model_selection import train_test_split\n",
    "from sklearn.linear_model import LinearRegression\n",
    "from sklearn.metrics import mean_squared_error, r2_score\n",
    "from sklearn.model_selection import KFold\n",
    "import operator"
   ]
  },
  {
   "cell_type": "code",
   "execution_count": 2,
   "metadata": {},
   "outputs": [],
   "source": [
    "\"\"\"\n",
    "Load data from Data scraping/clenaing script\n",
    "\"\"\"\n",
    "\n",
    "df_advanced_stats = pd.read_pickle('df_advanced_stats.pickle')\n",
    "example_players = pd.read_pickle('example_players')"
   ]
  },
  {
   "cell_type": "code",
   "execution_count": 3,
   "metadata": {},
   "outputs": [],
   "source": [
    "# creating test dataframe to run with statsmodels \n",
    "test_df = df_advanced_stats.groupby('Player').agg({'WS_first_2yr':'mean','Age_yr1':'mean','Career_length':'mean'})\n",
    "\n",
    "# creating data frames to run cross validation with\n",
    "data = df_advanced_stats.groupby('Player').agg({'WS_first_2yr':'mean','Age_yr1':'mean'})\n",
    "target = df_advanced_stats.groupby('Player').agg({'Career_length':'mean'})\n"
   ]
  },
  {
   "cell_type": "code",
   "execution_count": 4,
   "metadata": {},
   "outputs": [],
   "source": [
    "\"\"\"\n",
    "Function that returns summary of linear regression for different dataframes\n",
    "\"\"\"\n",
    "def lin_reg(dataframe):\n",
    "    y, X = patsy.dmatrices('Career_length ~ WS_first_2yr + Age_yr1',\n",
    "                       data=dataframe, return_type=\"dataframe\")\n",
    "\n",
    "    model = sm.OLS(y, X)\n",
    "    fit = model.fit()\n",
    "    return fit.summary()"
   ]
  },
  {
   "cell_type": "code",
   "execution_count": 5,
   "metadata": {},
   "outputs": [
    {
     "data": {
      "text/html": [
       "<table class=\"simpletable\">\n",
       "<caption>OLS Regression Results</caption>\n",
       "<tr>\n",
       "  <th>Dep. Variable:</th>      <td>Career_length</td>  <th>  R-squared:         </th> <td>   0.399</td>\n",
       "</tr>\n",
       "<tr>\n",
       "  <th>Model:</th>                   <td>OLS</td>       <th>  Adj. R-squared:    </th> <td>   0.398</td>\n",
       "</tr>\n",
       "<tr>\n",
       "  <th>Method:</th>             <td>Least Squares</td>  <th>  F-statistic:       </th> <td>   241.9</td>\n",
       "</tr>\n",
       "<tr>\n",
       "  <th>Date:</th>             <td>Fri, 17 Jul 2020</td> <th>  Prob (F-statistic):</th> <td>2.80e-81</td>\n",
       "</tr>\n",
       "<tr>\n",
       "  <th>Time:</th>                 <td>10:17:40</td>     <th>  Log-Likelihood:    </th> <td> -1861.2</td>\n",
       "</tr>\n",
       "<tr>\n",
       "  <th>No. Observations:</th>      <td>   731</td>      <th>  AIC:               </th> <td>   3728.</td>\n",
       "</tr>\n",
       "<tr>\n",
       "  <th>Df Residuals:</th>          <td>   728</td>      <th>  BIC:               </th> <td>   3742.</td>\n",
       "</tr>\n",
       "<tr>\n",
       "  <th>Df Model:</th>              <td>     2</td>      <th>                     </th>     <td> </td>   \n",
       "</tr>\n",
       "<tr>\n",
       "  <th>Covariance Type:</th>      <td>nonrobust</td>    <th>                     </th>     <td> </td>   \n",
       "</tr>\n",
       "</table>\n",
       "<table class=\"simpletable\">\n",
       "<tr>\n",
       "        <td></td>          <th>coef</th>     <th>std err</th>      <th>t</th>      <th>P>|t|</th>  <th>[0.025</th>    <th>0.975]</th>  \n",
       "</tr>\n",
       "<tr>\n",
       "  <th>Intercept</th>    <td>   13.6365</td> <td>    1.283</td> <td>   10.630</td> <td> 0.000</td> <td>   11.118</td> <td>   16.155</td>\n",
       "</tr>\n",
       "<tr>\n",
       "  <th>WS_first_2yr</th> <td>    1.2248</td> <td>    0.059</td> <td>   20.796</td> <td> 0.000</td> <td>    1.109</td> <td>    1.340</td>\n",
       "</tr>\n",
       "<tr>\n",
       "  <th>Age_yr1</th>      <td>   -0.4108</td> <td>    0.057</td> <td>   -7.255</td> <td> 0.000</td> <td>   -0.522</td> <td>   -0.300</td>\n",
       "</tr>\n",
       "</table>\n",
       "<table class=\"simpletable\">\n",
       "<tr>\n",
       "  <th>Omnibus:</th>       <td>73.744</td> <th>  Durbin-Watson:     </th> <td>   1.980</td>\n",
       "</tr>\n",
       "<tr>\n",
       "  <th>Prob(Omnibus):</th> <td> 0.000</td> <th>  Jarque-Bera (JB):  </th> <td>  94.121</td>\n",
       "</tr>\n",
       "<tr>\n",
       "  <th>Skew:</th>          <td> 0.834</td> <th>  Prob(JB):          </th> <td>3.65e-21</td>\n",
       "</tr>\n",
       "<tr>\n",
       "  <th>Kurtosis:</th>      <td> 3.558</td> <th>  Cond. No.          </th> <td>    255.</td>\n",
       "</tr>\n",
       "</table><br/><br/>Warnings:<br/>[1] Standard Errors assume that the covariance matrix of the errors is correctly specified."
      ],
      "text/plain": [
       "<class 'statsmodels.iolib.summary.Summary'>\n",
       "\"\"\"\n",
       "                            OLS Regression Results                            \n",
       "==============================================================================\n",
       "Dep. Variable:          Career_length   R-squared:                       0.399\n",
       "Model:                            OLS   Adj. R-squared:                  0.398\n",
       "Method:                 Least Squares   F-statistic:                     241.9\n",
       "Date:                Fri, 17 Jul 2020   Prob (F-statistic):           2.80e-81\n",
       "Time:                        10:17:40   Log-Likelihood:                -1861.2\n",
       "No. Observations:                 731   AIC:                             3728.\n",
       "Df Residuals:                     728   BIC:                             3742.\n",
       "Df Model:                           2                                         \n",
       "Covariance Type:            nonrobust                                         \n",
       "================================================================================\n",
       "                   coef    std err          t      P>|t|      [0.025      0.975]\n",
       "--------------------------------------------------------------------------------\n",
       "Intercept       13.6365      1.283     10.630      0.000      11.118      16.155\n",
       "WS_first_2yr     1.2248      0.059     20.796      0.000       1.109       1.340\n",
       "Age_yr1         -0.4108      0.057     -7.255      0.000      -0.522      -0.300\n",
       "==============================================================================\n",
       "Omnibus:                       73.744   Durbin-Watson:                   1.980\n",
       "Prob(Omnibus):                  0.000   Jarque-Bera (JB):               94.121\n",
       "Skew:                           0.834   Prob(JB):                     3.65e-21\n",
       "Kurtosis:                       3.558   Cond. No.                         255.\n",
       "==============================================================================\n",
       "\n",
       "Warnings:\n",
       "[1] Standard Errors assume that the covariance matrix of the errors is correctly specified.\n",
       "\"\"\""
      ]
     },
     "execution_count": 5,
     "metadata": {},
     "output_type": "execute_result"
    }
   ],
   "source": [
    "lin_reg(test_df)"
   ]
  },
  {
   "cell_type": "code",
   "execution_count": 6,
   "metadata": {},
   "outputs": [],
   "source": [
    "\"\"\"\n",
    "Breaking our dependent and indepent variables into testing and training groups\n",
    "\"\"\"\n",
    "\n",
    "X, y = data, target\n",
    "\n",
    "X, X_test, y, y_test = train_test_split(X, y, test_size=.2, random_state=10) #hold out 20% of the data for final testing\n",
    "\n",
    "X, y = np.array(X), np.array(y)\n"
   ]
  },
  {
   "cell_type": "code",
   "execution_count": 7,
   "metadata": {},
   "outputs": [
    {
     "name": "stdout",
     "output_type": "stream",
     "text": [
      "Simple regression scores:  [0.4284286397163193, 0.49392969506167517, 0.28657837793590013, 0.4749487132928655, 0.32969176164087066]\n",
      "Simple mean cv r^2: 0.403 +- 0.081\n"
     ]
    }
   ],
   "source": [
    "\"\"\"\n",
    "Perfomring cross validation with 5 folds over our training data \n",
    "\"\"\"\n",
    "\n",
    "kf = KFold(n_splits=5, shuffle=True, random_state = 56)\n",
    "cv_lm_r2s = []\n",
    "\n",
    "for train_ind, val_ind in kf.split(X,y):\n",
    "    \n",
    "    X_train, y_train = X[train_ind], y[train_ind]\n",
    "    X_val, y_val = X[val_ind], y[val_ind] \n",
    "    \n",
    "    lm = LinearRegression()\n",
    "\n",
    "    lm.fit(X_train, y_train)\n",
    "    cv_lm_r2s.append(lm.score(X_val, y_val))\n",
    "    \n",
    "\n",
    "print('Simple regression scores: ', cv_lm_r2s)\n",
    "print(f'Simple mean cv r^2: {np.mean(cv_lm_r2s):.3f} +- {np.std(cv_lm_r2s):.3f}')"
   ]
  },
  {
   "cell_type": "code",
   "execution_count": 8,
   "metadata": {},
   "outputs": [
    {
     "data": {
      "image/png": "[encoded data removed]",
      "text/plain": [
       "<Figure size 432x288 with 1 Axes>"
      ]
     },
     "metadata": {
      "needs_background": "dark"
     },
     "output_type": "display_data"
    }
   ],
   "source": [
    "\"\"\"\n",
    "Graphing predicted career length vs actual career length\n",
    "All labels and axis turned white so it shows in presentation\n",
    "\"\"\"\n",
    "\n",
    "predictions = lm.predict(X_test)\n",
    "# flattens predicitions\n",
    "prediction_list = [item for sublist in predictions for item in sublist]\n",
    "\n",
    "# defines m and b for best fit line \n",
    "m, b = np.polyfit(prediction_list, y_test, 1)\n",
    "\n",
    "plt.scatter(y_test, predictions, color = 'orange')\n",
    "plt.xlim(1, 15)\n",
    "plt.ylim(1, 14)\n",
    "plt.plot(prediction_list, m*prediction_list + b, color = 'red')\n",
    "\n",
    "plt.xticks(color = 'white')\n",
    "plt.yticks(color = 'white')\n",
    "plt.xlabel('Actual Career Length', color = 'white')\n",
    "plt.ylabel('Predicted Career Length', color = 'white')\n",
    "plt.grid('white')\n",
    "\n",
    "plt.savefig('Pred_vs_act', dpi = 300, transparent = True)"
   ]
  },
  {
   "cell_type": "code",
   "execution_count": 9,
   "metadata": {},
   "outputs": [
    {
     "name": "stdout",
     "output_type": "stream",
     "text": [
      "0.2790710464389846\n",
      "2.998251040755731\n"
     ]
    }
   ],
   "source": [
    "# Determine R^2 and RMSE respectively \n",
    "print(lm.score(X_test, y_test))\n",
    "print(sqrt(mean_squared_error(y_test, predictions)))"
   ]
  },
  {
   "cell_type": "code",
   "execution_count": 10,
   "metadata": {},
   "outputs": [
    {
     "name": "stdout",
     "output_type": "stream",
     "text": [
      "[[ 4.63221081]\n",
      " [ 6.28082842]\n",
      " [14.50169746]\n",
      " [18.3578713 ]\n",
      " [ 6.53454552]]\n"
     ]
    },
    {
     "data": {
      "text/html": [
       "<div>\n",
       "<style scoped>\n",
       "    .dataframe tbody tr th:only-of-type {\n",
       "        vertical-align: middle;\n",
       "    }\n",
       "\n",
       "    .dataframe tbody tr th {\n",
       "        vertical-align: top;\n",
       "    }\n",
       "\n",
       "    .dataframe thead th {\n",
       "        text-align: right;\n",
       "    }\n",
       "</style>\n",
       "<table border=\"1\" class=\"dataframe\">\n",
       "  <thead>\n",
       "    <tr style=\"text-align: right;\">\n",
       "      <th></th>\n",
       "      <th>WS_first_2yr</th>\n",
       "      <th>Age_yr1</th>\n",
       "    </tr>\n",
       "    <tr>\n",
       "      <th>Player</th>\n",
       "      <th></th>\n",
       "      <th></th>\n",
       "    </tr>\n",
       "  </thead>\n",
       "  <tbody>\n",
       "    <tr>\n",
       "      <th>Brandon Hunter</th>\n",
       "      <td>0.4</td>\n",
       "      <td>23.0</td>\n",
       "    </tr>\n",
       "    <tr>\n",
       "      <th>Darko Miličić</th>\n",
       "      <td>-0.2</td>\n",
       "      <td>18.0</td>\n",
       "    </tr>\n",
       "    <tr>\n",
       "      <th>Dwyane Wade</th>\n",
       "      <td>7.8</td>\n",
       "      <td>22.0</td>\n",
       "    </tr>\n",
       "    <tr>\n",
       "      <th>LeBron James</th>\n",
       "      <td>9.7</td>\n",
       "      <td>19.0</td>\n",
       "    </tr>\n",
       "    <tr>\n",
       "      <th>Maciej Lampe</th>\n",
       "      <td>0.0</td>\n",
       "      <td>18.0</td>\n",
       "    </tr>\n",
       "  </tbody>\n",
       "</table>\n",
       "</div>"
      ],
      "text/plain": [
       "                WS_first_2yr  Age_yr1\n",
       "Player                               \n",
       "Brandon Hunter           0.4     23.0\n",
       "Darko Miličić           -0.2     18.0\n",
       "Dwyane Wade              7.8     22.0\n",
       "LeBron James             9.7     19.0\n",
       "Maciej Lampe             0.0     18.0"
      ]
     },
     "execution_count": 10,
     "metadata": {},
     "output_type": "execute_result"
    }
   ],
   "source": [
    "# Examining example players\n",
    "minus_career_length = example_players.groupby('Player').agg({'WS_first_2yr':'mean','Age_yr1':'mean'})\n",
    "prediction_example = lm.predict(minus_career_length)\n",
    "print(prediction_example)\n",
    "minus_career_length.head()"
   ]
  },
  {
   "cell_type": "code",
   "execution_count": 11,
   "metadata": {},
   "outputs": [
    {
     "data": {
      "image/png": "[encoded data removed]",
      "text/plain": [
       "<Figure size 432x288 with 2 Axes>"
      ]
     },
     "metadata": {},
     "output_type": "display_data"
    }
   ],
   "source": [
    "# Heatmap creation \n",
    "data = pd.DataFrame({'WS first 2 years': data.WS_first_2yr, 'Career Length': target.Career_length, 'Age entering NBA': data.Age_yr1})\n",
    "data_pivoted = data.pivot_table(\"WS first 2 years\", \"Career Length\", \"Age entering NBA\")\n",
    "ax = sns.heatmap(data_pivoted, cmap=\"YlGnBu\")\n",
    "ax.spines['bottom'].set_color('white')\n",
    "ax.spines['top'].set_color('white') \n",
    "ax.spines['right'].set_color('white')\n",
    "ax.spines['left'].set_color('white')\n",
    "\n",
    "ax.tick_params(axis='x', colors='white')\n",
    "ax.tick_params(axis='y', colors='white')\n",
    "\n",
    "ax.yaxis.label.set_color('white')\n",
    "ax.xaxis.label.set_color('white')\n",
    "\n",
    "plt.savefig('Heatmap', dpi = 300, transparent = True)"
   ]
  },
  {
   "cell_type": "code",
   "execution_count": null,
   "metadata": {},
   "outputs": [],
   "source": []
  },
  {
   "cell_type": "code",
   "execution_count": null,
   "metadata": {},
   "outputs": [],
   "source": []
  }
 ],
 "metadata": {
  "kernelspec": {
   "display_name": "Python 3",
   "language": "python",
   "name": "python3"
  },
  "language_info": {
   "codemirror_mode": {
    "name": "ipython",
    "version": 3
   },
   "file_extension": ".py",
   "mimetype": "text/x-python",
   "name": "python",
   "nbconvert_exporter": "python",
   "pygments_lexer": "ipython3",
   "version": "3.7.6"
  }
 },
 "nbformat": 4,
 "nbformat_minor": 4
}
