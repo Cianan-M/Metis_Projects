{
 "cells": [
  {
   "cell_type": "code",
   "execution_count": 210,
   "metadata": {},
   "outputs": [],
   "source": [
    "import numpy as np\n",
    "import pandas as pd\n",
    "\n",
    "import matplotlib.pyplot as plt\n",
    "\n",
    "from sklearn.metrics import precision_score, recall_score, accuracy_score, roc_auc_score\n",
    "import pickle\n",
    "import seaborn as sns\n",
    "import cv2"
   ]
  },
  {
   "cell_type": "markdown",
   "metadata": {},
   "source": [
    "### Load Model data"
   ]
  },
  {
   "cell_type": "code",
   "execution_count": 2,
   "metadata": {},
   "outputs": [],
   "source": [
    "x_test = pd.read_pickle('x_testc')\n",
    "x_train = pd.read_pickle('x_trainc')\n",
    "y_test = pd.read_pickle('y_testc')\n",
    "y_train = pd.read_pickle('y_trainc')\n",
    "rf = pd.read_pickle('rf_no_crop_cv')\n",
    "xg = pd.read_pickle('xgb_no_crop_cv')\n",
    "svm = pd.read_pickle('svm_no_crop')"
   ]
  },
  {
   "cell_type": "code",
   "execution_count": 207,
   "metadata": {},
   "outputs": [
    {
     "name": "stderr",
     "output_type": "stream",
     "text": [
      "[Parallel(n_jobs=8)]: Using backend ThreadingBackend with 8 concurrent workers.\n",
      "[Parallel(n_jobs=8)]: Done  34 tasks      | elapsed:    0.0s\n",
      "[Parallel(n_jobs=8)]: Done 184 tasks      | elapsed:    0.1s\n",
      "[Parallel(n_jobs=8)]: Done 400 out of 400 | elapsed:    0.2s finished\n"
     ]
    }
   ],
   "source": [
    "rfp = rf.predict_proba(x_test)\n",
    "xgbp = xg.predict_proba(np.array(x_test))\n",
    "svmp = svm.predict_proba(x_test)"
   ]
  },
  {
   "cell_type": "markdown",
   "metadata": {},
   "source": [
    "### Probabilities weighting\n",
    "\n",
    "    Tried giving weights to the probabilites from each model to get a high accuracy"
   ]
  },
  {
   "cell_type": "code",
   "execution_count": 56,
   "metadata": {},
   "outputs": [],
   "source": [
    "prob_sum = rfp + xgbp + svmp"
   ]
  },
  {
   "cell_type": "code",
   "execution_count": 27,
   "metadata": {},
   "outputs": [],
   "source": [
    "acc = []\n",
    "# loops through different wieghts to give each model\n",
    "for x in np.linspace(5,15,11):\n",
    "    for y in np.linspace(5,15,11):\n",
    "        for z in np.linspace(5,15,11):\n",
    "            # assigns weights and sums probabilities \n",
    "            prob_sum = (.1*x)*rfp + (.1*y)*svmp + (.1*z)*xgbp\n",
    "            # finds highest prob and creates class pred\n",
    "            class_pred = prob_sum.argmax()\n",
    "            # finds acuracy score and puts in a list\n",
    "            acc.append(accuracy_score(class_pred, y_test))\n",
    "\n",
    "# finds highest accuracy \n",
    "acc.max()"
   ]
  },
  {
   "cell_type": "markdown",
   "metadata": {},
   "source": [
    "### Accuracy for each facial expression"
   ]
  },
  {
   "cell_type": "code",
   "execution_count": 20,
   "metadata": {},
   "outputs": [],
   "source": [
    "def expression_acc(exp):\n",
    "    \n",
    "    if exp == xg:\n",
    "        predicted_exp = exp.predict(np.array(x_test))\n",
    "    else:\n",
    "        predicted_exp = exp.predict(x_test)\n",
    "\n",
    "    accu = []\n",
    "    correct2 = []\n",
    "    \n",
    "    #loops through all classes to index each seperately and compare to predicited values\n",
    "    for v in [0,1,2,3,4,5,6]:\n",
    "        ind = []\n",
    "        num = 0\n",
    "        #loops through y_test to create index of where facial expression occurs in y_test\n",
    "        for count, i in enumerate(y_test):\n",
    "            if i == v:\n",
    "                num += 1\n",
    "                ind.append(count)\n",
    "        \n",
    "        # loops through predicted x_test classes and creates index\n",
    "        ind1 = []\n",
    "        num1 = 0\n",
    "        for count, i in enumerate(predicted_exp):\n",
    "            if i == v:\n",
    "                num1 += 1\n",
    "                ind1.append(count)\n",
    "        \n",
    "        # checks to see how many of the predicted indexes are correct\n",
    "        correct = 0\n",
    "        for i in ind1:\n",
    "            if i in ind:\n",
    "                correct +=1\n",
    "        \n",
    "        #appends number correct and accuracy percentage for each class\n",
    "        correct2.append(correct)\n",
    "        accu.append(correct/num)\n",
    "    \n",
    "    return accu, correct\n",
    "\n",
    "\"\"\"\n",
    "This function is used to determine per class the accuracy percentage of each model\n",
    "\"\"\""
   ]
  },
  {
   "cell_type": "code",
   "execution_count": 21,
   "metadata": {},
   "outputs": [
    {
     "name": "stderr",
     "output_type": "stream",
     "text": [
      "[Parallel(n_jobs=8)]: Using backend ThreadingBackend with 8 concurrent workers.\n",
      "[Parallel(n_jobs=8)]: Done  34 tasks      | elapsed:    0.2s\n",
      "[Parallel(n_jobs=8)]: Done 184 tasks      | elapsed:    0.2s\n",
      "[Parallel(n_jobs=8)]: Done 400 out of 400 | elapsed:    0.3s finished\n"
     ]
    }
   ],
   "source": [
    "accu_rf, correct_rf = expression_acc(rf)"
   ]
  },
  {
   "cell_type": "code",
   "execution_count": 22,
   "metadata": {},
   "outputs": [],
   "source": [
    "accu_xg, correct_xg = expression_acc(xg)"
   ]
  },
  {
   "cell_type": "code",
   "execution_count": 24,
   "metadata": {},
   "outputs": [],
   "source": [
    "accu_svm, correct_svm = expression_acc(svm)"
   ]
  },
  {
   "cell_type": "code",
   "execution_count": 200,
   "metadata": {},
   "outputs": [],
   "source": [
    "# creates dataframe from expression_acc function results\n",
    "class_name = ['Afraid','Angry','Disgust','Happy','Neutral','Sad','Suprised']\n",
    "df1 = pd.DataFrame(accu_rf)\n",
    "df1['Model']='Random Forest'\n",
    "df1['Class']=class_name\n",
    "df2 = pd.DataFrame(accu_xg)\n",
    "df2['Model']='XGClassifer'\n",
    "df2['Class']=class_name\n",
    "df3 = pd.DataFrame(accu_svm)\n",
    "df3['Model']='Support Vector Machine'\n",
    "df3['Class']=class_name"
   ]
  },
  {
   "cell_type": "code",
   "execution_count": 208,
   "metadata": {},
   "outputs": [],
   "source": [
    "# combines dataframes vertically \n",
    "df_com = pd.concat([df1, df2, df3])"
   ]
  },
  {
   "cell_type": "code",
   "execution_count": 193,
   "metadata": {},
   "outputs": [],
   "source": [
    "# takes average of all individual percentages per class, used for average line in graph\n",
    "mean_line = h[\"Percentage\"].mean()"
   ]
  },
  {
   "cell_type": "code",
   "execution_count": 205,
   "metadata": {},
   "outputs": [
    {
     "name": "stderr",
     "output_type": "stream",
     "text": [
      "/opt/anaconda3/lib/python3.7/site-packages/seaborn/categorical.py:3669: UserWarning: The `factorplot` function has been renamed to `catplot`. The original name will be removed in a future release. Please update your code. Note that the default `kind` in `factorplot` (`'point'`) has changed `'strip'` in `catplot`.\n",
      "  warnings.warn(msg)\n"
     ]
    },
    {
     "data": {
      "image/png": "[encoded data removed]",
      "text/plain": [
       "<Figure size 515.875x360 with 1 Axes>"
      ]
     },
     "metadata": {
      "needs_background": "dark"
     },
     "output_type": "display_data"
    }
   ],
   "source": [
    "#graph creation\n",
    "sns.factorplot(x='Class', y=0, hue='Model', data=h, kind='bar', palette=[\"C2\", \"C1\", \"C3\"])\n",
    "plt.axhline(mean_line, ls='--', color = 'white')\n",
    "plt.xticks(color = 'white', rotation=45)\n",
    "plt.yticks(color = 'white')\n",
    "plt.xlabel('Class', color = 'white')\n",
    "plt.ylabel('', color = 'white')\n",
    "plt.savefig('Expressions', dpi = 300, transparent = True)"
   ]
  },
  {
   "cell_type": "code",
   "execution_count": null,
   "metadata": {},
   "outputs": [],
   "source": []
  },
  {
   "cell_type": "code",
   "execution_count": null,
   "metadata": {},
   "outputs": [],
   "source": []
  }
 ],
 "metadata": {
  "kernelspec": {
   "display_name": "Python 3",
   "language": "python",
   "name": "python3"
  },
  "language_info": {
   "codemirror_mode": {
    "name": "ipython",
    "version": 3
   },
   "file_extension": ".py",
   "mimetype": "text/x-python",
   "name": "python",
   "nbconvert_exporter": "python",
   "pygments_lexer": "ipython3",
   "version": "3.7.6"
  }
 },
 "nbformat": 4,
 "nbformat_minor": 4
}
