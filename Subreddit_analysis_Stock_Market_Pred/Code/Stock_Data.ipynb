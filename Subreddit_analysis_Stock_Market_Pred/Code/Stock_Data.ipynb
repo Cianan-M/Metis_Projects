{
 "cells": [
  {
   "cell_type": "markdown",
   "metadata": {},
   "source": [
    "## Combining Stock Data With Reddit Posts "
   ]
  },
  {
   "cell_type": "code",
   "execution_count": 66,
   "metadata": {},
   "outputs": [],
   "source": [
    "import pandas as pd\n",
    "import numpy as np\n",
    "import datetime as dt\n",
    "import re \n",
    "import string\n",
    "import matplotlib.pyplot as plt"
   ]
  },
  {
   "cell_type": "code",
   "execution_count": 86,
   "metadata": {},
   "outputs": [],
   "source": [
    "# Loading Stock data\n",
    "apple_stock = pd.read_csv('HistoricalQuotes (2).csv')\n"
   ]
  },
  {
   "cell_type": "code",
   "execution_count": 4,
   "metadata": {},
   "outputs": [],
   "source": [
    "# Cleaning Apple Stock Data Frame\n",
    "apple_stock_clean = apple_stock\n",
    "colstocheck = apple_stock_clean.columns\n",
    "# Removes Money symbol\n",
    "apple_stock_clean[colstocheck] = apple_stock_clean[colstocheck].replace({'\\$':''}, regex = True)\n",
    "# Removes white spaces\n",
    "apple_stock_clean[colstocheck] = apple_stock_clean[colstocheck].replace({'\\s':''}, regex = True)\n",
    "apple_stock_clean.rename(columns={' Close/Last': 'Close', ' Open': 'Open'}, inplace = True)\n"
   ]
  },
  {
   "cell_type": "code",
   "execution_count": 5,
   "metadata": {},
   "outputs": [],
   "source": [
    "apple_stock_clean['Close'] = apple_stock_clean['Close'].astype(float)\n",
    "apple_stock_clean['Open'] = apple_stock_clean['Open'].astype(float)\n",
    "\n",
    "# Creating a column that outputs the change in stock price\n",
    "diff_df_stock = apple_stock_clean\n",
    "diff_df_stock['Day_Diff'] = diff_df_stock.Close - diff_df_stock.Open"
   ]
  },
  {
   "cell_type": "code",
   "execution_count": 6,
   "metadata": {},
   "outputs": [],
   "source": [
    "#making class for increase or decrease in stock \n",
    "change = diff_df_stock['Day_Diff'].to_list()\n",
    "\n",
    "up_down = []\n",
    "for stock_change in change:\n",
    "    if stock_change > 0:\n",
    "        up_downs = 0\n",
    "    elif stock_change < 0:\n",
    "        up_downs = 1\n",
    "        \n",
    "    up_down.append(up_downs)\n",
    "    \n",
    "diff_df_stock['Class'] = up_down"
   ]
  },
  {
   "cell_type": "code",
   "execution_count": 7,
   "metadata": {},
   "outputs": [],
   "source": [
    "def date_convert(dataframe): \n",
    "\n",
    "    \"\"\"\n",
    "    This function takes the date from the stock dataframe and moves it back a day to match reddit data and date\n",
    "\n",
    "    \"\"\"\n",
    "    dates_list = dataframe.Date.tolist()\n",
    "    new_dates = []\n",
    "    for date in dates_list:\n",
    "        new_date = ''\n",
    "        month = date[:2]\n",
    "        day = date[3:5]\n",
    "        year = date[6:]\n",
    "\n",
    "        u = (int(day)-1)\n",
    "        if u < 10 and u > 0:\n",
    "            day_c = '0'+ str(u)\n",
    "        elif u == 0 and month == '02':\n",
    "            day_c = '31'\n",
    "            month = '01'\n",
    "        elif u == 0 and month == '03':\n",
    "            day_c = '28'\n",
    "            month = '02'\n",
    "        elif u == 0 and month == '04':\n",
    "            day_c = '31'\n",
    "            month = '03'\n",
    "        elif u == 0 and month == '05':\n",
    "            day_c = '30'\n",
    "            month = '04'\n",
    "        elif u == 0 and month == '06':\n",
    "            day_c = '31'\n",
    "            month = '05'\n",
    "        elif u == 0 and month == '07':\n",
    "            day_c = '30'\n",
    "            month = '06'\n",
    "        elif u == 0 and month == '08':\n",
    "            day_c = '31'\n",
    "            month = '07'\n",
    "        elif u == 0 and month == '09':\n",
    "            day_c = '31'\n",
    "            month = '08'\n",
    "        elif u == 0 and month == '10':\n",
    "            day_c = '30'\n",
    "            month = '09'\n",
    "        elif u == 0 and month == '11':\n",
    "            day_c = '31'\n",
    "            month = '10'\n",
    "        elif u == 0 and month == '12':\n",
    "            day_c = '30'\n",
    "            month = '11'\n",
    "        else:\n",
    "            day_c = str(u)\n",
    "\n",
    "        new_date = year+'-'+ month +'-'+ day_c\n",
    "        new_dates.append(new_date)\n",
    "        \n",
    "    return new_dates"
   ]
  },
  {
   "cell_type": "code",
   "execution_count": 8,
   "metadata": {},
   "outputs": [],
   "source": [
    "converted_dates = date_convert(diff_df_stock)"
   ]
  },
  {
   "cell_type": "code",
   "execution_count": 9,
   "metadata": {},
   "outputs": [],
   "source": [
    "# reads in apple data from Topic Modeling notebook\n",
    "df_apple1 = pd.read_csv('Apple_topics_df.csv')"
   ]
  },
  {
   "cell_type": "code",
   "execution_count": 10,
   "metadata": {},
   "outputs": [],
   "source": [
    "# Removes fridays and saturdays since the stock market isnt active on saturdays or sundays\n",
    "apple_df_days_removed = df_apple1[df_apple1['Day_of_Week'] != 4]\n",
    "apple_df_days_removed = apple_df_days_removed[apple_df_days_removed['Day_of_Week'] != 5]\n",
    "apple_df_days_removed.reset_index(inplace = True, drop = True)"
   ]
  },
  {
   "cell_type": "code",
   "execution_count": 12,
   "metadata": {},
   "outputs": [],
   "source": [
    "# Finds overapping dates between stock market df and apple dataframe \n",
    "date_app = apple_df_days_removed.Date_Posted.unique().tolist()\n",
    "\n",
    "is_in = []\n",
    "index = []\n",
    "for count, date in enumerate(converted_dates):\n",
    "    if date in date_app:\n",
    "        index.append(count)\n",
    "        is_in.append(date)"
   ]
  },
  {
   "cell_type": "code",
   "execution_count": 13,
   "metadata": {},
   "outputs": [],
   "source": [
    "# sorts out dates not present in stock market dataframe\n",
    "date_sorted =[]\n",
    "for ind in index:\n",
    "    entry = diff_df_stock.iloc[ind].tolist()\n",
    "    date_sorted.append(entry)"
   ]
  },
  {
   "cell_type": "code",
   "execution_count": 63,
   "metadata": {},
   "outputs": [],
   "source": [
    "# create new dataframe for stock data\n",
    "apple_stock_sort = pd.DataFrame(date_sorted, columns = ['Date','Close', 'Volume','Open', 'High','Low','Day_Diff','Class'] )"
   ]
  },
  {
   "cell_type": "code",
   "execution_count": 15,
   "metadata": {},
   "outputs": [],
   "source": [
    "# the length of the stock dataframe has less dates than the reddit dataframe, mostly due to holidays\n",
    "# converting teh dates again will allow us to match each date up perfectly \n",
    "converted_dates2 = date_convert(apple_stock_sort)"
   ]
  },
  {
   "cell_type": "code",
   "execution_count": 16,
   "metadata": {},
   "outputs": [],
   "source": [
    "# finds dates not in stock df\n",
    "date_app = apple_df_days_removed.Date_Posted.unique().tolist()\n",
    "\n",
    "not_in = []\n",
    "for date in date_app:\n",
    "    if date not in converted_dates2:\n",
    "        not_in.append(date)"
   ]
  },
  {
   "cell_type": "code",
   "execution_count": 17,
   "metadata": {},
   "outputs": [],
   "source": [
    "# removes rows with dates that dont match stock data\n",
    "for count, entry in enumerate(not_in):\n",
    "    if count == 0:\n",
    "        date_sorted2 = apple_df_days_removed[apple_df_days_removed['Date_Posted'] != entry]\n",
    "    else:\n",
    "        date_sorted2 = date_sorted2[date_sorted2['Date_Posted'] != entry]"
   ]
  },
  {
   "cell_type": "code",
   "execution_count": 54,
   "metadata": {},
   "outputs": [],
   "source": [
    "# This takes reddit data and puts all posts and their information from one day into a singular list\n",
    "# This is done so that teh information can be inserted into a machine learning model \n",
    "dates = date_sorted2.Date_Posted.unique().tolist()\n",
    "\n",
    "date_list = []\n",
    "for date in dates:\n",
    "    dates = apple_df_days_removed.groupby('Date_Posted').get_group(date)\n",
    "    dates_lists = []\n",
    "    nc = dates.Number_of_Comments.tolist()\n",
    "    ur = dates.Upvote_ratio.tolist()\n",
    "    s = dates.Score.tolist()\n",
    "    t = dates.Topic.tolist()\n",
    "    topic_list = []\n",
    "    # breaks topics into vectors so it is easier to find each topics feature importance later \n",
    "    for i ,j in enumerate(t):\n",
    "        zeros = np.zeros(len(date_sorted2.Topic.unique())).tolist()\n",
    "        zeros = [round(x) for x in zeros] # change zeros to int\n",
    "        zeros[j] = 1\n",
    "        topic_list.append(zeros)\n",
    "    topic_list = [inner for outer in topic_list for inner in outer] # combine lists in the list\n",
    "    i = dates.Total_Interactions\n",
    "    #dates_lists = [t, ur, i, nc, s]\n",
    "    dates_lists = [topic_list,ur,i,nc,s]\n",
    "    \n",
    "    compiled_info = [j for i in dates_lists for j in i] # combine lists in the list\n",
    "    \n",
    "    # Creates list that can be fed into machine learning models\n",
    "    date_list.append(compiled_info)"
   ]
  },
  {
   "cell_type": "code",
   "execution_count": 55,
   "metadata": {},
   "outputs": [],
   "source": [
    "# adding stock change to above list\n",
    "apple_final_df = pd.DataFrame(date_list)\n",
    "apple_final_df['Stock_Change'] = apple_stock_sort.Class.tolist()"
   ]
  },
  {
   "cell_type": "code",
   "execution_count": 56,
   "metadata": {},
   "outputs": [
    {
     "data": {
      "text/plain": [
       "0    450\n",
       "1    371\n",
       "Name: Stock_Change, dtype: int64"
      ]
     },
     "execution_count": 56,
     "metadata": {},
     "output_type": "execute_result"
    }
   ],
   "source": [
    "# Distribution of increase or deacrease in stock data\n",
    "apple_final_df['Stock_Change'].value_counts()"
   ]
  },
  {
   "cell_type": "code",
   "execution_count": null,
   "metadata": {},
   "outputs": [],
   "source": []
  },
  {
   "cell_type": "code",
   "execution_count": 58,
   "metadata": {},
   "outputs": [],
   "source": [
    "# creates csv for next notebook\n",
    "apple_final_df.to_csv('Apple_stocks_data_test.csv', index= False)"
   ]
  },
  {
   "cell_type": "code",
   "execution_count": null,
   "metadata": {},
   "outputs": [],
   "source": []
  },
  {
   "cell_type": "code",
   "execution_count": null,
   "metadata": {},
   "outputs": [],
   "source": []
  }
 ],
 "metadata": {
  "kernelspec": {
   "display_name": "Python 3",
   "language": "python",
   "name": "python3"
  },
  "language_info": {
   "codemirror_mode": {
    "name": "ipython",
    "version": 3
   },
   "file_extension": ".py",
   "mimetype": "text/x-python",
   "name": "python",
   "nbconvert_exporter": "python",
   "pygments_lexer": "ipython3",
   "version": "3.7.6"
  }
 },
 "nbformat": 4,
 "nbformat_minor": 4
}
