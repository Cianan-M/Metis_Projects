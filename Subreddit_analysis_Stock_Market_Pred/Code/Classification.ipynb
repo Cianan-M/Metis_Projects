{
 "cells": [
  {
   "cell_type": "markdown",
   "metadata": {},
   "source": [
    "## Machine Learning Classification"
   ]
  },
  {
   "cell_type": "code",
   "execution_count": 182,
   "metadata": {},
   "outputs": [],
   "source": [
    "import pandas as pd\n",
    "import numpy as np\n",
    "from sklearn.ensemble import RandomForestClassifier\n",
    "from sklearn.model_selection import train_test_split\n",
    "from sklearn.model_selection import GridSearchCV\n",
    "from sklearn.metrics import precision_score, recall_score, accuracy_score, roc_auc_score\n",
    "from sklearn.metrics import f1_score\n",
    "from sklearn.linear_model import LogisticRegression\n",
    "from xgboost import XGBClassifier\n",
    "from sklearn import metrics\n",
    "import matplotlib.pyplot as plt\n",
    "%matplotlib inline\n",
    "import seaborn as sns"
   ]
  },
  {
   "cell_type": "code",
   "execution_count": 72,
   "metadata": {},
   "outputs": [],
   "source": [
    "# Read in data from Stock notebook\n",
    "apple_data = pd.read_csv('Apple_stocks_data.csv')\n",
    "apple_data1 =pd.read_csv('Apple_stocks_data_test.csv')"
   ]
  },
  {
   "cell_type": "code",
   "execution_count": 201,
   "metadata": {},
   "outputs": [],
   "source": [
    "#Breaking the data into indpendent and dependent variables\n",
    "x = apple_data1.iloc[:, 0:230]\n",
    "y = apple_data1.Stock_Change"
   ]
  },
  {
   "cell_type": "code",
   "execution_count": 83,
   "metadata": {},
   "outputs": [],
   "source": [
    "# Splitting the data into training and test sets\n",
    "x_train, x_test, y_train, y_test = train_test_split(x, y, test_size=0.2, random_state=42)"
   ]
  },
  {
   "cell_type": "code",
   "execution_count": 84,
   "metadata": {},
   "outputs": [],
   "source": [
    "#y_train = [inner for outer in y_train for inner in outer]"
   ]
  },
  {
   "cell_type": "markdown",
   "metadata": {},
   "source": [
    "## Random Forest"
   ]
  },
  {
   "cell_type": "code",
   "execution_count": 186,
   "metadata": {},
   "outputs": [],
   "source": [
    "# Creating Random Forest Model\n",
    "rfc = RandomForestClassifier(n_estimators = 1000, random_state = 1245, min_samples_split= 2)\n",
    "results = rfc.fit(x_train, y_train)"
   ]
  },
  {
   "cell_type": "code",
   "execution_count": 188,
   "metadata": {},
   "outputs": [
    {
     "name": "stdout",
     "output_type": "stream",
     "text": [
      "0.503030303030303 0.40476190476190477 0.22972972972972974 0.2931034482758621\n"
     ]
    }
   ],
   "source": [
    "# Finds Presicision/Accuracy/Reacll/F1\n",
    "acc = accuracy_score(results.predict(x_test), y_test)\n",
    "pre = precision_score(y_test, results.predict(x_test))\n",
    "recall = recall_score(y_test, results.predict(x_test))\n",
    "f1 = f1_score(y_test, results.predict(x_test))\n",
    "\n",
    "print(acc, pre, recall, f1)"
   ]
  },
  {
   "cell_type": "code",
   "execution_count": 100,
   "metadata": {},
   "outputs": [
    {
     "name": "stdout",
     "output_type": "stream",
     "text": [
      "{'bootstrap': True,\n",
      " 'ccp_alpha': 0.0,\n",
      " 'class_weight': None,\n",
      " 'criterion': 'gini',\n",
      " 'max_depth': None,\n",
      " 'max_features': 'sqrt',\n",
      " 'max_leaf_nodes': None,\n",
      " 'max_samples': None,\n",
      " 'min_impurity_decrease': 0.0,\n",
      " 'min_impurity_split': None,\n",
      " 'min_samples_leaf': 2,\n",
      " 'min_samples_split': 6,\n",
      " 'min_weight_fraction_leaf': 0.0,\n",
      " 'n_estimators': 250,\n",
      " 'n_jobs': -1,\n",
      " 'oob_score': False,\n",
      " 'random_state': 1245,\n",
      " 'verbose': 0,\n",
      " 'warm_start': False}\n"
     ]
    }
   ],
   "source": [
    "#GridSearch to find best parameters fr random forest\n",
    "\n",
    "model_params = {\n",
    "    'n_estimators': [250],\n",
    "    'min_samples_leaf': [1,2,3],\n",
    "    'min_samples_split': [2, 4, 6],\n",
    "    'max_features': ['sqrt','log2']}\n",
    "\n",
    "clf = GridSearchCV(rfc, model_params, cv=5)\n",
    "model = clf.fit(x, y)\n",
    "from pprint import pprint\n",
    "pprint(model.best_estimator_.get_params())"
   ]
  },
  {
   "cell_type": "markdown",
   "metadata": {},
   "source": [
    "## Log Reg"
   ]
  },
  {
   "cell_type": "code",
   "execution_count": 189,
   "metadata": {},
   "outputs": [
    {
     "name": "stderr",
     "output_type": "stream",
     "text": [
      "/opt/anaconda3/lib/python3.7/site-packages/sklearn/linear_model/_logistic.py:940: ConvergenceWarning: lbfgs failed to converge (status=1):\n",
      "STOP: TOTAL NO. of ITERATIONS REACHED LIMIT.\n",
      "\n",
      "Increase the number of iterations (max_iter) or scale the data as shown in:\n",
      "    https://scikit-learn.org/stable/modules/preprocessing.html\n",
      "Please also refer to the documentation for alternative solver options:\n",
      "    https://scikit-learn.org/stable/modules/linear_model.html#logistic-regression\n",
      "  extra_warning_msg=_LOGISTIC_SOLVER_CONVERGENCE_MSG)\n"
     ]
    },
    {
     "data": {
      "text/plain": [
       "LogisticRegression(C=1.0, class_weight=None, dual=False, fit_intercept=True,\n",
       "                   intercept_scaling=1, l1_ratio=None, max_iter=100,\n",
       "                   multi_class='auto', n_jobs=None, penalty='l2',\n",
       "                   random_state=None, solver='lbfgs', tol=0.0001, verbose=0,\n",
       "                   warm_start=False)"
      ]
     },
     "execution_count": 189,
     "metadata": {},
     "output_type": "execute_result"
    }
   ],
   "source": [
    "# Train logisitic Regression\n",
    "logreg = LogisticRegression()\n",
    "logreg.fit(x_train, y_train)"
   ]
  },
  {
   "cell_type": "code",
   "execution_count": 88,
   "metadata": {},
   "outputs": [
    {
     "data": {
      "text/plain": [
       "0.5454545454545454"
      ]
     },
     "execution_count": 88,
     "metadata": {},
     "output_type": "execute_result"
    }
   ],
   "source": []
  },
  {
   "cell_type": "code",
   "execution_count": 192,
   "metadata": {},
   "outputs": [
    {
     "name": "stdout",
     "output_type": "stream",
     "text": [
      "0.5454545454545454 0.4909090909090909 0.36486486486486486 0.4186046511627907\n"
     ]
    }
   ],
   "source": [
    "# Finds Presicision/Accuracy/Reacll/F1\n",
    "acc = accuracy_score(logreg.predict(x_test), y_test)\n",
    "pre = precision_score(y_test, logreg.predict(x_test))\n",
    "recall = recall_score(y_test, logreg.predict(x_test))\n",
    "f1 = f1_score(y_test, logreg.predict(x_test))\n",
    "\n",
    "print(acc, pre, recall, f1)"
   ]
  },
  {
   "cell_type": "markdown",
   "metadata": {},
   "source": [
    "## XGB"
   ]
  },
  {
   "cell_type": "code",
   "execution_count": 194,
   "metadata": {},
   "outputs": [],
   "source": [
    "# Converts test and train data to arrsy for XGB\n",
    "y_train = np.array(y_train)\n",
    "#y_test = [inner for outer in y_test for inner in outer]\n",
    "y_test = np.array(y_test)\n",
    "x_train = np.array(x_train)\n",
    "x_test = np.array(x_test)"
   ]
  },
  {
   "cell_type": "code",
   "execution_count": 195,
   "metadata": {},
   "outputs": [
    {
     "name": "stdout",
     "output_type": "stream",
     "text": [
      "[17:48:21] WARNING: /Users/travis/build/dmlc/xgboost/src/learner.cc:480: \n",
      "Parameters: { verbose } might not be used.\n",
      "\n",
      "  This may not be accurate due to some parameters are only used in language bindings but\n",
      "  passed down to XGBoost core.  Or some parameters are not used but slip through this\n",
      "  verification. Please open an issue if you find above cases.\n",
      "\n",
      "\n",
      "[0]\tvalidation_0-error:0.33689\tvalidation_1-error:0.50909\n",
      "Multiple eval metrics have been passed: 'validation_1-error' will be used for early stopping.\n",
      "\n",
      "Will train until validation_1-error hasn't improved in 100 rounds.\n",
      "[1]\tvalidation_0-error:0.31250\tvalidation_1-error:0.50909\n",
      "[2]\tvalidation_0-error:0.32012\tvalidation_1-error:0.50909\n",
      "[3]\tvalidation_0-error:0.30488\tvalidation_1-error:0.49091\n",
      "[4]\tvalidation_0-error:0.30945\tvalidation_1-error:0.48485\n",
      "[5]\tvalidation_0-error:0.29726\tvalidation_1-error:0.49697\n",
      "[6]\tvalidation_0-error:0.29268\tvalidation_1-error:0.49091\n",
      "[7]\tvalidation_0-error:0.28354\tvalidation_1-error:0.47879\n",
      "[8]\tvalidation_0-error:0.29268\tvalidation_1-error:0.46667\n",
      "[9]\tvalidation_0-error:0.28354\tvalidation_1-error:0.47879\n",
      "[10]\tvalidation_0-error:0.27744\tvalidation_1-error:0.49091\n",
      "[11]\tvalidation_0-error:0.27439\tvalidation_1-error:0.49091\n",
      "[12]\tvalidation_0-error:0.27439\tvalidation_1-error:0.49697\n",
      "[13]\tvalidation_0-error:0.27744\tvalidation_1-error:0.50303\n",
      "[14]\tvalidation_0-error:0.26982\tvalidation_1-error:0.51515\n",
      "[15]\tvalidation_0-error:0.27287\tvalidation_1-error:0.50909\n",
      "[16]\tvalidation_0-error:0.26829\tvalidation_1-error:0.51515\n",
      "[17]\tvalidation_0-error:0.26372\tvalidation_1-error:0.52121\n",
      "[18]\tvalidation_0-error:0.25762\tvalidation_1-error:0.52121\n",
      "[19]\tvalidation_0-error:0.26067\tvalidation_1-error:0.50909\n",
      "[20]\tvalidation_0-error:0.25915\tvalidation_1-error:0.50909\n",
      "[21]\tvalidation_0-error:0.26220\tvalidation_1-error:0.49697\n",
      "[22]\tvalidation_0-error:0.26220\tvalidation_1-error:0.50303\n",
      "[23]\tvalidation_0-error:0.25457\tvalidation_1-error:0.50909\n",
      "[24]\tvalidation_0-error:0.25152\tvalidation_1-error:0.51515\n",
      "[25]\tvalidation_0-error:0.24695\tvalidation_1-error:0.52121\n",
      "[26]\tvalidation_0-error:0.25000\tvalidation_1-error:0.52121\n",
      "[27]\tvalidation_0-error:0.25000\tvalidation_1-error:0.51515\n",
      "[28]\tvalidation_0-error:0.24238\tvalidation_1-error:0.51515\n",
      "[29]\tvalidation_0-error:0.24085\tvalidation_1-error:0.51515\n",
      "[30]\tvalidation_0-error:0.23628\tvalidation_1-error:0.50909\n",
      "[31]\tvalidation_0-error:0.23628\tvalidation_1-error:0.52121\n",
      "[32]\tvalidation_0-error:0.23476\tvalidation_1-error:0.52121\n",
      "[33]\tvalidation_0-error:0.22713\tvalidation_1-error:0.50303\n",
      "[34]\tvalidation_0-error:0.22561\tvalidation_1-error:0.50303\n",
      "[35]\tvalidation_0-error:0.22866\tvalidation_1-error:0.50303\n",
      "[36]\tvalidation_0-error:0.22409\tvalidation_1-error:0.49091\n",
      "[37]\tvalidation_0-error:0.22561\tvalidation_1-error:0.49697\n",
      "[38]\tvalidation_0-error:0.22104\tvalidation_1-error:0.50303\n",
      "[39]\tvalidation_0-error:0.22256\tvalidation_1-error:0.49697\n",
      "[40]\tvalidation_0-error:0.21799\tvalidation_1-error:0.49091\n",
      "[41]\tvalidation_0-error:0.22104\tvalidation_1-error:0.48485\n",
      "[42]\tvalidation_0-error:0.21494\tvalidation_1-error:0.49091\n",
      "[43]\tvalidation_0-error:0.21037\tvalidation_1-error:0.49091\n",
      "[44]\tvalidation_0-error:0.20579\tvalidation_1-error:0.48485\n",
      "[45]\tvalidation_0-error:0.20579\tvalidation_1-error:0.48485\n",
      "[46]\tvalidation_0-error:0.20122\tvalidation_1-error:0.48485\n",
      "[47]\tvalidation_0-error:0.19970\tvalidation_1-error:0.49091\n",
      "[48]\tvalidation_0-error:0.20122\tvalidation_1-error:0.49091\n",
      "[49]\tvalidation_0-error:0.20122\tvalidation_1-error:0.49697\n",
      "[50]\tvalidation_0-error:0.19970\tvalidation_1-error:0.49697\n",
      "[51]\tvalidation_0-error:0.19512\tvalidation_1-error:0.49697\n",
      "[52]\tvalidation_0-error:0.19817\tvalidation_1-error:0.49091\n",
      "[53]\tvalidation_0-error:0.20122\tvalidation_1-error:0.47879\n",
      "[54]\tvalidation_0-error:0.19055\tvalidation_1-error:0.47879\n",
      "[55]\tvalidation_0-error:0.19512\tvalidation_1-error:0.47879\n",
      "[56]\tvalidation_0-error:0.18902\tvalidation_1-error:0.46061\n",
      "[57]\tvalidation_0-error:0.18902\tvalidation_1-error:0.46667\n",
      "[58]\tvalidation_0-error:0.17530\tvalidation_1-error:0.46667\n",
      "[59]\tvalidation_0-error:0.18445\tvalidation_1-error:0.47879\n",
      "[60]\tvalidation_0-error:0.18445\tvalidation_1-error:0.47879\n",
      "[61]\tvalidation_0-error:0.17835\tvalidation_1-error:0.47273\n",
      "[62]\tvalidation_0-error:0.18293\tvalidation_1-error:0.47273\n",
      "[63]\tvalidation_0-error:0.17835\tvalidation_1-error:0.48485\n",
      "[64]\tvalidation_0-error:0.17835\tvalidation_1-error:0.50303\n",
      "[65]\tvalidation_0-error:0.17378\tvalidation_1-error:0.50303\n",
      "[66]\tvalidation_0-error:0.16768\tvalidation_1-error:0.49697\n",
      "[67]\tvalidation_0-error:0.16616\tvalidation_1-error:0.49091\n",
      "[68]\tvalidation_0-error:0.16768\tvalidation_1-error:0.50303\n",
      "[69]\tvalidation_0-error:0.16463\tvalidation_1-error:0.47879\n",
      "[70]\tvalidation_0-error:0.16159\tvalidation_1-error:0.47879\n",
      "[71]\tvalidation_0-error:0.16159\tvalidation_1-error:0.47879\n",
      "[72]\tvalidation_0-error:0.15854\tvalidation_1-error:0.47879\n",
      "[73]\tvalidation_0-error:0.15701\tvalidation_1-error:0.47879\n",
      "[74]\tvalidation_0-error:0.15701\tvalidation_1-error:0.49091\n",
      "[75]\tvalidation_0-error:0.15854\tvalidation_1-error:0.49091\n",
      "[76]\tvalidation_0-error:0.15854\tvalidation_1-error:0.49091\n",
      "[77]\tvalidation_0-error:0.15396\tvalidation_1-error:0.50303\n",
      "[78]\tvalidation_0-error:0.15396\tvalidation_1-error:0.47879\n",
      "[79]\tvalidation_0-error:0.15244\tvalidation_1-error:0.49091\n",
      "[80]\tvalidation_0-error:0.15091\tvalidation_1-error:0.49091\n",
      "[81]\tvalidation_0-error:0.15091\tvalidation_1-error:0.49091\n",
      "[82]\tvalidation_0-error:0.14787\tvalidation_1-error:0.48485\n",
      "[83]\tvalidation_0-error:0.14482\tvalidation_1-error:0.47879\n",
      "[84]\tvalidation_0-error:0.14634\tvalidation_1-error:0.48485\n",
      "[85]\tvalidation_0-error:0.14482\tvalidation_1-error:0.48485\n",
      "[86]\tvalidation_0-error:0.14024\tvalidation_1-error:0.48485\n",
      "[87]\tvalidation_0-error:0.13262\tvalidation_1-error:0.49091\n",
      "[88]\tvalidation_0-error:0.13415\tvalidation_1-error:0.49697\n",
      "[89]\tvalidation_0-error:0.13262\tvalidation_1-error:0.49697\n",
      "[90]\tvalidation_0-error:0.13262\tvalidation_1-error:0.49697\n",
      "[91]\tvalidation_0-error:0.13872\tvalidation_1-error:0.50303\n",
      "[92]\tvalidation_0-error:0.13872\tvalidation_1-error:0.50303\n",
      "[93]\tvalidation_0-error:0.13872\tvalidation_1-error:0.50909\n",
      "[94]\tvalidation_0-error:0.12957\tvalidation_1-error:0.50303\n",
      "[95]\tvalidation_0-error:0.12652\tvalidation_1-error:0.50303\n",
      "[96]\tvalidation_0-error:0.12652\tvalidation_1-error:0.50303\n",
      "[97]\tvalidation_0-error:0.12652\tvalidation_1-error:0.49091\n",
      "[98]\tvalidation_0-error:0.12348\tvalidation_1-error:0.48485\n",
      "[99]\tvalidation_0-error:0.12348\tvalidation_1-error:0.48485\n",
      "[100]\tvalidation_0-error:0.12348\tvalidation_1-error:0.48485\n",
      "[101]\tvalidation_0-error:0.12652\tvalidation_1-error:0.48485\n",
      "[102]\tvalidation_0-error:0.12500\tvalidation_1-error:0.48485\n",
      "[103]\tvalidation_0-error:0.12652\tvalidation_1-error:0.49091\n",
      "[104]\tvalidation_0-error:0.12348\tvalidation_1-error:0.48485\n",
      "[105]\tvalidation_0-error:0.12195\tvalidation_1-error:0.47879\n",
      "[106]\tvalidation_0-error:0.12195\tvalidation_1-error:0.47273\n",
      "[107]\tvalidation_0-error:0.12195\tvalidation_1-error:0.48485\n",
      "[108]\tvalidation_0-error:0.11128\tvalidation_1-error:0.47273\n",
      "[109]\tvalidation_0-error:0.11128\tvalidation_1-error:0.47273\n",
      "[110]\tvalidation_0-error:0.11281\tvalidation_1-error:0.46667\n",
      "[111]\tvalidation_0-error:0.11128\tvalidation_1-error:0.47273\n",
      "[112]\tvalidation_0-error:0.11128\tvalidation_1-error:0.47273\n",
      "[113]\tvalidation_0-error:0.10823\tvalidation_1-error:0.47879\n",
      "[114]\tvalidation_0-error:0.10671\tvalidation_1-error:0.47879\n",
      "[115]\tvalidation_0-error:0.10671\tvalidation_1-error:0.47879\n",
      "[116]\tvalidation_0-error:0.10213\tvalidation_1-error:0.47879\n",
      "[117]\tvalidation_0-error:0.10518\tvalidation_1-error:0.47879\n",
      "[118]\tvalidation_0-error:0.10518\tvalidation_1-error:0.47273\n",
      "[119]\tvalidation_0-error:0.10366\tvalidation_1-error:0.47273\n",
      "[120]\tvalidation_0-error:0.10061\tvalidation_1-error:0.47879\n",
      "[121]\tvalidation_0-error:0.10213\tvalidation_1-error:0.47879\n",
      "[122]\tvalidation_0-error:0.09451\tvalidation_1-error:0.47273\n",
      "[123]\tvalidation_0-error:0.09451\tvalidation_1-error:0.46667\n",
      "[124]\tvalidation_0-error:0.09299\tvalidation_1-error:0.47273\n",
      "[125]\tvalidation_0-error:0.09299\tvalidation_1-error:0.47273\n",
      "[126]\tvalidation_0-error:0.08841\tvalidation_1-error:0.47273\n",
      "[127]\tvalidation_0-error:0.08841\tvalidation_1-error:0.46667\n",
      "[128]\tvalidation_0-error:0.08994\tvalidation_1-error:0.46667\n",
      "[129]\tvalidation_0-error:0.09146\tvalidation_1-error:0.46667\n",
      "[130]\tvalidation_0-error:0.08841\tvalidation_1-error:0.47273\n",
      "[131]\tvalidation_0-error:0.08689\tvalidation_1-error:0.46667\n",
      "[132]\tvalidation_0-error:0.09146\tvalidation_1-error:0.47273\n",
      "[133]\tvalidation_0-error:0.08689\tvalidation_1-error:0.46061\n",
      "[134]\tvalidation_0-error:0.08537\tvalidation_1-error:0.46667\n",
      "[135]\tvalidation_0-error:0.08537\tvalidation_1-error:0.46667\n",
      "[136]\tvalidation_0-error:0.08537\tvalidation_1-error:0.46061\n",
      "[137]\tvalidation_0-error:0.08384\tvalidation_1-error:0.46061\n",
      "[138]\tvalidation_0-error:0.08384\tvalidation_1-error:0.45454\n",
      "[139]\tvalidation_0-error:0.08232\tvalidation_1-error:0.46061\n",
      "[140]\tvalidation_0-error:0.07927\tvalidation_1-error:0.46061\n",
      "[141]\tvalidation_0-error:0.07774\tvalidation_1-error:0.46061\n",
      "[142]\tvalidation_0-error:0.07927\tvalidation_1-error:0.45454\n",
      "[143]\tvalidation_0-error:0.07774\tvalidation_1-error:0.46061\n",
      "[144]\tvalidation_0-error:0.07774\tvalidation_1-error:0.46061\n",
      "[145]\tvalidation_0-error:0.07622\tvalidation_1-error:0.46061\n",
      "[146]\tvalidation_0-error:0.07774\tvalidation_1-error:0.46061\n",
      "[147]\tvalidation_0-error:0.07774\tvalidation_1-error:0.46667\n",
      "[148]\tvalidation_0-error:0.07622\tvalidation_1-error:0.46667\n",
      "[149]\tvalidation_0-error:0.07469\tvalidation_1-error:0.46061\n",
      "[150]\tvalidation_0-error:0.07622\tvalidation_1-error:0.46061\n",
      "[151]\tvalidation_0-error:0.07317\tvalidation_1-error:0.46061\n",
      "[152]\tvalidation_0-error:0.07469\tvalidation_1-error:0.46061\n",
      "[153]\tvalidation_0-error:0.07469\tvalidation_1-error:0.46667\n",
      "[154]\tvalidation_0-error:0.07469\tvalidation_1-error:0.46667\n",
      "[155]\tvalidation_0-error:0.07469\tvalidation_1-error:0.46061\n",
      "[156]\tvalidation_0-error:0.07622\tvalidation_1-error:0.47273\n",
      "[157]\tvalidation_0-error:0.07774\tvalidation_1-error:0.47273\n",
      "[158]\tvalidation_0-error:0.07469\tvalidation_1-error:0.46061\n",
      "[159]\tvalidation_0-error:0.07165\tvalidation_1-error:0.45454\n",
      "[160]\tvalidation_0-error:0.07012\tvalidation_1-error:0.46061\n",
      "[161]\tvalidation_0-error:0.06860\tvalidation_1-error:0.46061\n",
      "[162]\tvalidation_0-error:0.05793\tvalidation_1-error:0.44849\n",
      "[163]\tvalidation_0-error:0.06250\tvalidation_1-error:0.44849\n",
      "[164]\tvalidation_0-error:0.06098\tvalidation_1-error:0.44849\n",
      "[165]\tvalidation_0-error:0.06098\tvalidation_1-error:0.44849\n",
      "[166]\tvalidation_0-error:0.05945\tvalidation_1-error:0.45454\n",
      "[167]\tvalidation_0-error:0.05793\tvalidation_1-error:0.45454\n",
      "[168]\tvalidation_0-error:0.05793\tvalidation_1-error:0.44849\n",
      "[169]\tvalidation_0-error:0.05488\tvalidation_1-error:0.45454\n",
      "[170]\tvalidation_0-error:0.05488\tvalidation_1-error:0.45454\n",
      "[171]\tvalidation_0-error:0.05488\tvalidation_1-error:0.44849\n",
      "[172]\tvalidation_0-error:0.05488\tvalidation_1-error:0.44242\n",
      "[173]\tvalidation_0-error:0.05640\tvalidation_1-error:0.44242\n",
      "[174]\tvalidation_0-error:0.05793\tvalidation_1-error:0.44242\n",
      "[175]\tvalidation_0-error:0.05793\tvalidation_1-error:0.44849\n",
      "[176]\tvalidation_0-error:0.05640\tvalidation_1-error:0.44849\n",
      "[177]\tvalidation_0-error:0.05640\tvalidation_1-error:0.44849\n",
      "[178]\tvalidation_0-error:0.05640\tvalidation_1-error:0.43636\n",
      "[179]\tvalidation_0-error:0.05640\tvalidation_1-error:0.44849\n",
      "[180]\tvalidation_0-error:0.05945\tvalidation_1-error:0.45454\n",
      "[181]\tvalidation_0-error:0.05793\tvalidation_1-error:0.45454\n",
      "[182]\tvalidation_0-error:0.05183\tvalidation_1-error:0.45454\n",
      "[183]\tvalidation_0-error:0.05488\tvalidation_1-error:0.44849\n",
      "[184]\tvalidation_0-error:0.05335\tvalidation_1-error:0.45454\n",
      "[185]\tvalidation_0-error:0.04878\tvalidation_1-error:0.44849\n",
      "[186]\tvalidation_0-error:0.05031\tvalidation_1-error:0.43636\n",
      "[187]\tvalidation_0-error:0.04878\tvalidation_1-error:0.44242\n",
      "[188]\tvalidation_0-error:0.04726\tvalidation_1-error:0.43636\n",
      "[189]\tvalidation_0-error:0.04573\tvalidation_1-error:0.44242\n",
      "[190]\tvalidation_0-error:0.04573\tvalidation_1-error:0.44849\n",
      "[191]\tvalidation_0-error:0.04573\tvalidation_1-error:0.44849\n",
      "[192]\tvalidation_0-error:0.04268\tvalidation_1-error:0.44849\n",
      "[193]\tvalidation_0-error:0.04421\tvalidation_1-error:0.44242\n",
      "[194]\tvalidation_0-error:0.04421\tvalidation_1-error:0.44849\n",
      "[195]\tvalidation_0-error:0.04421\tvalidation_1-error:0.43636\n",
      "[196]\tvalidation_0-error:0.04116\tvalidation_1-error:0.43030\n",
      "[197]\tvalidation_0-error:0.03963\tvalidation_1-error:0.43030\n",
      "[198]\tvalidation_0-error:0.03963\tvalidation_1-error:0.44242\n",
      "[199]\tvalidation_0-error:0.03963\tvalidation_1-error:0.44242\n",
      "[200]\tvalidation_0-error:0.03963\tvalidation_1-error:0.44242\n",
      "[201]\tvalidation_0-error:0.03963\tvalidation_1-error:0.44242\n",
      "[202]\tvalidation_0-error:0.03811\tvalidation_1-error:0.44242\n",
      "[203]\tvalidation_0-error:0.03811\tvalidation_1-error:0.44849\n",
      "[204]\tvalidation_0-error:0.03658\tvalidation_1-error:0.44849\n",
      "[205]\tvalidation_0-error:0.03658\tvalidation_1-error:0.44242\n",
      "[206]\tvalidation_0-error:0.03658\tvalidation_1-error:0.44242\n",
      "[207]\tvalidation_0-error:0.03506\tvalidation_1-error:0.44242\n",
      "[208]\tvalidation_0-error:0.03506\tvalidation_1-error:0.44242\n",
      "[209]\tvalidation_0-error:0.03658\tvalidation_1-error:0.44242\n",
      "[210]\tvalidation_0-error:0.03354\tvalidation_1-error:0.44242\n",
      "[211]\tvalidation_0-error:0.03201\tvalidation_1-error:0.44849\n",
      "[212]\tvalidation_0-error:0.03506\tvalidation_1-error:0.44849\n",
      "[213]\tvalidation_0-error:0.03506\tvalidation_1-error:0.44849\n",
      "[214]\tvalidation_0-error:0.03354\tvalidation_1-error:0.45454\n",
      "[215]\tvalidation_0-error:0.03354\tvalidation_1-error:0.44849\n",
      "[216]\tvalidation_0-error:0.03506\tvalidation_1-error:0.44242\n",
      "[217]\tvalidation_0-error:0.03506\tvalidation_1-error:0.44849\n",
      "[218]\tvalidation_0-error:0.03506\tvalidation_1-error:0.43636\n",
      "[219]\tvalidation_0-error:0.03354\tvalidation_1-error:0.44242\n",
      "[220]\tvalidation_0-error:0.03506\tvalidation_1-error:0.44849\n",
      "[221]\tvalidation_0-error:0.03506\tvalidation_1-error:0.45454\n",
      "[222]\tvalidation_0-error:0.03354\tvalidation_1-error:0.45454\n",
      "[223]\tvalidation_0-error:0.03354\tvalidation_1-error:0.46061\n",
      "[224]\tvalidation_0-error:0.03354\tvalidation_1-error:0.47273\n",
      "[225]\tvalidation_0-error:0.03354\tvalidation_1-error:0.47273\n",
      "[226]\tvalidation_0-error:0.03201\tvalidation_1-error:0.45454\n",
      "[227]\tvalidation_0-error:0.03049\tvalidation_1-error:0.46061\n",
      "[228]\tvalidation_0-error:0.03049\tvalidation_1-error:0.46061\n",
      "[229]\tvalidation_0-error:0.03049\tvalidation_1-error:0.45454\n",
      "[230]\tvalidation_0-error:0.02896\tvalidation_1-error:0.45454\n",
      "[231]\tvalidation_0-error:0.03201\tvalidation_1-error:0.45454\n",
      "[232]\tvalidation_0-error:0.03049\tvalidation_1-error:0.47273\n",
      "[233]\tvalidation_0-error:0.03049\tvalidation_1-error:0.46061\n",
      "[234]\tvalidation_0-error:0.02896\tvalidation_1-error:0.45454\n",
      "[235]\tvalidation_0-error:0.02896\tvalidation_1-error:0.45454\n",
      "[236]\tvalidation_0-error:0.02896\tvalidation_1-error:0.44849\n",
      "[237]\tvalidation_0-error:0.02896\tvalidation_1-error:0.44849\n",
      "[238]\tvalidation_0-error:0.02896\tvalidation_1-error:0.44849\n",
      "[239]\tvalidation_0-error:0.02896\tvalidation_1-error:0.44849\n",
      "[240]\tvalidation_0-error:0.02896\tvalidation_1-error:0.45454\n",
      "[241]\tvalidation_0-error:0.02896\tvalidation_1-error:0.44849\n",
      "[242]\tvalidation_0-error:0.02896\tvalidation_1-error:0.44849\n",
      "[243]\tvalidation_0-error:0.02896\tvalidation_1-error:0.45454\n",
      "[244]\tvalidation_0-error:0.03049\tvalidation_1-error:0.44849\n",
      "[245]\tvalidation_0-error:0.03049\tvalidation_1-error:0.44849\n",
      "[246]\tvalidation_0-error:0.02744\tvalidation_1-error:0.46061\n",
      "[247]\tvalidation_0-error:0.02744\tvalidation_1-error:0.45454\n",
      "[248]\tvalidation_0-error:0.02896\tvalidation_1-error:0.45454\n",
      "[249]\tvalidation_0-error:0.02896\tvalidation_1-error:0.46061\n",
      "[250]\tvalidation_0-error:0.02896\tvalidation_1-error:0.46061\n",
      "[251]\tvalidation_0-error:0.02896\tvalidation_1-error:0.46061\n",
      "[252]\tvalidation_0-error:0.02592\tvalidation_1-error:0.46061\n",
      "[253]\tvalidation_0-error:0.02592\tvalidation_1-error:0.45454\n",
      "[254]\tvalidation_0-error:0.02592\tvalidation_1-error:0.45454\n",
      "[255]\tvalidation_0-error:0.02592\tvalidation_1-error:0.46061\n",
      "[256]\tvalidation_0-error:0.02592\tvalidation_1-error:0.47273\n",
      "[257]\tvalidation_0-error:0.02439\tvalidation_1-error:0.47273\n",
      "[258]\tvalidation_0-error:0.02439\tvalidation_1-error:0.47273\n",
      "[259]\tvalidation_0-error:0.02439\tvalidation_1-error:0.47273\n",
      "[260]\tvalidation_0-error:0.02439\tvalidation_1-error:0.47273\n",
      "[261]\tvalidation_0-error:0.02439\tvalidation_1-error:0.47273\n",
      "[262]\tvalidation_0-error:0.02439\tvalidation_1-error:0.47273\n",
      "[263]\tvalidation_0-error:0.02439\tvalidation_1-error:0.47273\n",
      "[264]\tvalidation_0-error:0.02592\tvalidation_1-error:0.47273\n",
      "[265]\tvalidation_0-error:0.02439\tvalidation_1-error:0.47273\n",
      "[266]\tvalidation_0-error:0.02439\tvalidation_1-error:0.47273\n",
      "[267]\tvalidation_0-error:0.02439\tvalidation_1-error:0.47273\n",
      "[268]\tvalidation_0-error:0.02592\tvalidation_1-error:0.47879\n",
      "[269]\tvalidation_0-error:0.02592\tvalidation_1-error:0.47879\n",
      "[270]\tvalidation_0-error:0.02592\tvalidation_1-error:0.47879\n",
      "[271]\tvalidation_0-error:0.02592\tvalidation_1-error:0.47879\n",
      "[272]\tvalidation_0-error:0.02439\tvalidation_1-error:0.47879\n",
      "[273]\tvalidation_0-error:0.02287\tvalidation_1-error:0.47879\n",
      "[274]\tvalidation_0-error:0.02439\tvalidation_1-error:0.47879\n",
      "[275]\tvalidation_0-error:0.02439\tvalidation_1-error:0.47879\n",
      "[276]\tvalidation_0-error:0.02592\tvalidation_1-error:0.47879\n",
      "[277]\tvalidation_0-error:0.02439\tvalidation_1-error:0.47879\n",
      "[278]\tvalidation_0-error:0.02439\tvalidation_1-error:0.47879\n",
      "[279]\tvalidation_0-error:0.02439\tvalidation_1-error:0.47879\n",
      "[280]\tvalidation_0-error:0.02439\tvalidation_1-error:0.47879\n",
      "[281]\tvalidation_0-error:0.02439\tvalidation_1-error:0.47879\n",
      "[282]\tvalidation_0-error:0.02439\tvalidation_1-error:0.47879\n",
      "[283]\tvalidation_0-error:0.02439\tvalidation_1-error:0.47879\n",
      "[284]\tvalidation_0-error:0.02439\tvalidation_1-error:0.47879\n",
      "[285]\tvalidation_0-error:0.02439\tvalidation_1-error:0.47879\n",
      "[286]\tvalidation_0-error:0.02439\tvalidation_1-error:0.47879\n",
      "[287]\tvalidation_0-error:0.02439\tvalidation_1-error:0.47879\n",
      "[288]\tvalidation_0-error:0.02439\tvalidation_1-error:0.47879\n",
      "[289]\tvalidation_0-error:0.02439\tvalidation_1-error:0.47879\n",
      "[290]\tvalidation_0-error:0.02439\tvalidation_1-error:0.47879\n",
      "[291]\tvalidation_0-error:0.02439\tvalidation_1-error:0.47879\n",
      "[292]\tvalidation_0-error:0.02439\tvalidation_1-error:0.47879\n",
      "[293]\tvalidation_0-error:0.02439\tvalidation_1-error:0.47879\n",
      "[294]\tvalidation_0-error:0.02439\tvalidation_1-error:0.47879\n",
      "[295]\tvalidation_0-error:0.02439\tvalidation_1-error:0.47879\n",
      "[296]\tvalidation_0-error:0.02439\tvalidation_1-error:0.47879\n",
      "Stopping. Best iteration:\n",
      "[196]\tvalidation_0-error:0.04116\tvalidation_1-error:0.43030\n",
      "\n"
     ]
    }
   ],
   "source": [
    "# Trains XGBClassifier model\n",
    "boost = XGBClassifier(max_depth=4, colsample_bytree =1, min_child_weight = 7,gamma =1.5,  \n",
    "                      learning_rate=.05, n_estimators=100000,\n",
    "                      objective='binary:logistic', verbose = 1)\n",
    "        \n",
    "eval_set = [(x_train,y_train),(x_test,y_test)] \n",
    "results = boost.fit(x_train, y_train, eval_set = eval_set, verbose=True, early_stopping_rounds=100)"
   ]
  },
  {
   "cell_type": "code",
   "execution_count": 197,
   "metadata": {},
   "outputs": [
    {
     "name": "stdout",
     "output_type": "stream",
     "text": [
      "0.5696969696969697 0.5245901639344263 0.43243243243243246 0.4740740740740741\n"
     ]
    }
   ],
   "source": [
    "# Finds Presicision/Accuracy/Reacll/F1\n",
    "acc = accuracy_score(results.predict(x_test), y_test)\n",
    "pre = precision_score(y_test, results.predict(x_test))\n",
    "recall = recall_score(y_test, results.predict(x_test))\n",
    "f1 = f1_score(y_test, results.predict(x_test))\n",
    "\n",
    "print(acc, pre, recall, f1)"
   ]
  },
  {
   "cell_type": "code",
   "execution_count": 120,
   "metadata": {},
   "outputs": [],
   "source": [
    "# Parameters for a gridsearch for XGB\n",
    "params = {\n",
    "        'min_child_weight': [5, 7],\n",
    "        'gamma': [0.5, 1, 2],\n",
    "        'subsample': [0.6, 0.8, 1.0],\n",
    "        'colsample_bytree': [0.7, 1.0],\n",
    "        'max_depth': [3, 4, 5]\n",
    "        }"
   ]
  },
  {
   "cell_type": "code",
   "execution_count": 157,
   "metadata": {},
   "outputs": [],
   "source": [
    "# Gridsearch for XGB\n",
    "\n",
    "# grid = GridSearchCV(estimator=boost, param_grid=params, scoring='roc_auc', n_jobs=4, verbose=3 )\n",
    "# grid.fit(x_test, y_test)\n",
    "# print('\\n All results:')\n",
    "# print(grid.cv_results_)\n",
    "# print('\\n Best estimator:')\n",
    "# print(grid.best_estimator_)\n",
    "# print('\\n Best score:')\n",
    "# print(grid.best_score_ * 2 - 1)\n",
    "# print('\\n Best parameters:')\n",
    "# print(grid.best_params_)\n",
    "# results = pd.DataFrame(grid.cv_results_)\n",
    "# results.to_csv('xgb-grid-search-results-01.csv', index=False)\n",
    "\n",
    "# y_test = grid.best_estimator_.predict_proba(test)\n",
    "# results_df = pd.DataFrame(data={'id':test_df['id'], 'target':y_test[:,1]})\n",
    "# results_df.to_csv('submission-grid-search-xgb-porto-01.csv', index=False)\n"
   ]
  },
  {
   "cell_type": "code",
   "execution_count": 163,
   "metadata": {},
   "outputs": [],
   "source": [
    "# Used to find across all posts the total feature importance of a Topic\n",
    "imp = boost.feature_importances_\n",
    "imp[0:19]\n",
    "count =0\n",
    "count1 = 19\n",
    "imp_list = []\n",
    "for i in range(10):\n",
    "    # Increments up 19 to grab topic data from 1 post at a time\n",
    "    count += 19\n",
    "    count1 += 19\n",
    "    imp_list.append(imp[count:count1].tolist())\n",
    "\n",
    "feature_importance_topic= np.array(ipc_list).sum(axis=0)"
   ]
  },
  {
   "cell_type": "code",
   "execution_count": 176,
   "metadata": {},
   "outputs": [
    {
     "data": {
      "text/plain": [
       "array([0.02005253, 0.02319096, 0.02061042, 0.01438178, 0.04669887,\n",
       "       0.02087799, 0.02255129, 0.02673613, 0.0136747 , 0.01981091,\n",
       "       0.01452388, 0.10975269, 0.02106031, 0.10407941, 0.02526417,\n",
       "       0.02937335, 0.01379687, 0.01297033, 0.02170279])"
      ]
     },
     "execution_count": 176,
     "metadata": {},
     "output_type": "execute_result"
    }
   ],
   "source": [
    "feature_importance_topic"
   ]
  },
  {
   "cell_type": "code",
   "execution_count": 200,
   "metadata": {},
   "outputs": [
    {
     "data": {
      "image/png": "[encoded data removed]",
      "text/plain": [
       "<Figure size 720x360 with 1 Axes>"
      ]
     },
     "metadata": {
      "needs_background": "light"
     },
     "output_type": "display_data"
    }
   ],
   "source": [
    "# Graph of feature Importance\n",
    "topic = []\n",
    "for i in range(19):\n",
    "    topic.append(i)\n",
    "plt.figure(figsize=(10,5))\n",
    "plt.barh(topic,feature_importance_topic, color ='orange')\n",
    "plt.yticks([0,1,2,3,4,5,6,7,8,9,10,11,12,13,14,15,16,17,18])\n",
    "plt.savefig('Topic_feature_performance', dpi = 300, transparent = True)"
   ]
  },
  {
   "cell_type": "code",
   "execution_count": null,
   "metadata": {},
   "outputs": [],
   "source": []
  },
  {
   "cell_type": "code",
   "execution_count": null,
   "metadata": {},
   "outputs": [],
   "source": []
  }
 ],
 "metadata": {
  "kernelspec": {
   "display_name": "Python 3",
   "language": "python",
   "name": "python3"
  },
  "language_info": {
   "codemirror_mode": {
    "name": "ipython",
    "version": 3
   },
   "file_extension": ".py",
   "mimetype": "text/x-python",
   "name": "python",
   "nbconvert_exporter": "python",
   "pygments_lexer": "ipython3",
   "version": "3.7.6"
  }
 },
 "nbformat": 4,
 "nbformat_minor": 4
}
