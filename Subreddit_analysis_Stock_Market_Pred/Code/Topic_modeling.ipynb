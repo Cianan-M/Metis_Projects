{
 "cells": [
  {
   "cell_type": "markdown",
   "metadata": {},
   "source": [
    "## Topic Modeling/Clustering"
   ]
  },
  {
   "cell_type": "code",
   "execution_count": 90,
   "metadata": {},
   "outputs": [],
   "source": [
    "import pandas as pd\n",
    "import numpy as np\n",
    "import nltk\n",
    "import pickle\n",
    "import praw\n",
    "import psaw\n",
    "import datetime as dt\n",
    "import re \n",
    "import string\n",
    "from nltk.corpus import stopwords\n",
    "from sklearn.feature_extraction.text import CountVectorizer \n",
    "from sklearn.decomposition import TruncatedSVD\n",
    "from sklearn.decomposition import NMF\n",
    "from sklearn.metrics.pairwise import cosine_similarity\n",
    "from vaderSentiment.vaderSentiment import SentimentIntensityAnalyzer \n",
    "from textblob import TextBlob\n",
    "import operator\n",
    "\n",
    "from sklearn.cluster import MiniBatchKMeans\n",
    "from sklearn.feature_extraction.text import TfidfVectorizer\n",
    "from sklearn.decomposition import PCA\n",
    "import matplotlib.pyplot as plt\n",
    "from sklearn.cluster import KMeans\n",
    "\n",
    "import spacy\n",
    "import gensim\n",
    "import gensim.corpora as corpora\n",
    "from gensim.utils import simple_preprocess\n",
    "from gensim.models import CoherenceModel\n",
    "\n",
    "import pyLDAvis\n",
    "import pyLDAvis.gensim  # don't skip this\n",
    "import matplotlib.pyplot as plt\n",
    "%matplotlib inline\n",
    "\n",
    "from nltk.util import ngrams\n",
    "from nltk.tokenize import word_tokenize\n",
    "\n",
    "from sklearn import metrics\n",
    "from sklearn.metrics import pairwise_distances\n",
    "from sklearn.metrics import silhouette_score\n",
    "from sklearn.preprocessing import scale\n",
    "from pprint import pprint"
   ]
  },
  {
   "cell_type": "code",
   "execution_count": 41,
   "metadata": {},
   "outputs": [],
   "source": [
    "# Loads data from reddit data notebook\n",
    "df_apple1 = pd.read_csv('Apple_com_df.csv')"
   ]
  },
  {
   "cell_type": "markdown",
   "metadata": {},
   "source": [
    "## KMeans"
   ]
  },
  {
   "cell_type": "code",
   "execution_count": 42,
   "metadata": {},
   "outputs": [
    {
     "name": "stderr",
     "output_type": "stream",
     "text": [
      "<>:9: DeprecationWarning: invalid escape sequence \\w\n",
      "<>:9: DeprecationWarning: invalid escape sequence \\w\n",
      "<>:9: DeprecationWarning: invalid escape sequence \\w\n",
      "<ipython-input-42-7d8f8b9c6551>:9: DeprecationWarning: invalid escape sequence \\w\n",
      "  cleaning = re.sub('\\w*\\d\\w*', ' ', cleaning)\n"
     ]
    }
   ],
   "source": [
    "# makes list of stop words\n",
    "stop_words = stopwords.words('english')\n",
    "# creates list of all post titles\n",
    "apple_df_titles = df_apple1.Title\n",
    "title_list = apple_df_titles.tolist()\n",
    "\n",
    "# cleaning of titles\n",
    "text = []\n",
    "for i in range(len(title_list)):\n",
    "    cleaning = re.sub('[%s]' % re.escape(string.punctuation),' ', title_list[i])\n",
    "    cleaning = cleaning.lower()\n",
    "    cleaning = re.sub('\\w*\\d\\w*', ' ', cleaning)\n",
    "    text.append(cleaning)\n",
    "\n",
    "# removes stop words\n",
    "stop = [[word for word in simple_preprocess(str(doc)) if word not in stop_words] for doc in text]\n",
    "\n",
    "# creates new list of cleaned titles\n",
    "sub_titles = []\n",
    "for sent in stop:\n",
    "    joined = ' '.join(sent)\n",
    "    sub_titles.append(joined)"
   ]
  },
  {
   "cell_type": "code",
   "execution_count": 43,
   "metadata": {},
   "outputs": [],
   "source": [
    "# Fitsand transfroms cleaned titles using TdifVectorizer \n",
    "vectorizer = TfidfVectorizer(stop_words='english')\n",
    "X = vectorizer.fit_transform(sub_titles)\n",
    "features = vectorizer.transform(sub_titles)"
   ]
  },
  {
   "cell_type": "code",
   "execution_count": 48,
   "metadata": {},
   "outputs": [],
   "source": [
    "# Uses TDIFVectorizer transformed data to run Kmeans \n",
    "kmeans = KMeans(n_clusters=19, random_state=42).fit(X)"
   ]
  },
  {
   "cell_type": "code",
   "execution_count": 105,
   "metadata": {},
   "outputs": [
    {
     "name": "stdout",
     "output_type": "stream",
     "text": [
      "Cluster 0:\n",
      " cook\n",
      " tim\n",
      " ceo\n",
      " apple\n",
      " says\n",
      " trump\n",
      " iphone\n",
      " twitter\n",
      " china\n",
      " calls\n",
      "Cluster 1:\n",
      " app\n",
      " store\n",
      " apple\n",
      " ios\n",
      " new\n",
      " apps\n",
      " free\n",
      " google\n",
      " iphone\n",
      " tv\n",
      "Cluster 2:\n",
      " ipad\n",
      " pro\n",
      " new\n",
      " apple\n",
      " inch\n",
      " mini\n",
      " keyboard\n",
      " iphone\n",
      " review\n",
      " computer\n",
      "Cluster 3:\n",
      " mac\n",
      " pro\n",
      " mini\n",
      " apple\n",
      " new\n",
      " os\n",
      " old\n",
      " arm\n",
      " years\n",
      " time\n",
      "Cluster 4:\n",
      " iphone\n",
      " apple\n",
      " se\n",
      " xs\n",
      " new\n",
      " xr\n",
      " max\n",
      " plus\n",
      " camera\n",
      " pro\n",
      "Cluster 5:\n",
      " battery\n",
      " life\n",
      " iphone\n",
      " case\n",
      " xs\n",
      " replacement\n",
      " apple\n",
      " smart\n",
      " max\n",
      " psa\n",
      "Cluster 6:\n",
      " watch\n",
      " apple\n",
      " series\n",
      " new\n",
      " bands\n",
      " iphone\n",
      " watchos\n",
      " life\n",
      " saved\n",
      " app\n",
      "Cluster 7:\n",
      " apps\n",
      " ios\n",
      " apple\n",
      " party\n",
      " iphone\n",
      " mac\n",
      " use\n",
      " app\n",
      " ipad\n",
      " default\n",
      "Cluster 8:\n",
      " macbook\n",
      " pro\n",
      " air\n",
      " inch\n",
      " new\n",
      " apple\n",
      " keyboard\n",
      " review\n",
      " vs\n",
      " touch\n",
      "Cluster 9:\n",
      " ios\n",
      " beta\n",
      " releases\n",
      " apple\n",
      " iphone\n",
      " developer\n",
      " new\n",
      " public\n",
      " devices\n",
      " releasing\n",
      "Cluster 10:\n",
      " daily\n",
      " thread\n",
      " tech\n",
      " support\n",
      " january\n",
      " april\n",
      " december\n",
      " august\n",
      " june\n",
      " february\n",
      "Cluster 11:\n",
      " apple\n",
      " music\n",
      " tv\n",
      " new\n",
      " maps\n",
      " product\n",
      " card\n",
      " store\n",
      " iphones\n",
      " google\n",
      "Cluster 12:\n",
      " like\n",
      " display\n",
      " apple\n",
      " iphone\n",
      " looks\n",
      " xdr\n",
      " oled\n",
      " pro\n",
      " look\n",
      " new\n",
      "Cluster 13:\n",
      " siri\n",
      " iphones\n",
      " touch\n",
      " new\n",
      " wwdc\n",
      " safari\n",
      " use\n",
      " phone\n",
      " itunes\n",
      " id\n",
      "Cluster 14:\n",
      " pay\n",
      " apple\n",
      " cash\n",
      " available\n",
      " germany\n",
      " stores\n",
      " coming\n",
      " accept\n",
      " target\n",
      " use\n",
      "Cluster 15:\n",
      " jobs\n",
      " steve\n",
      " ago\n",
      " years\n",
      " today\n",
      " apple\n",
      " cook\n",
      " tim\n",
      " interview\n",
      " theater\n",
      "Cluster 16:\n",
      " airpods\n",
      " pro\n",
      " apple\n",
      " new\n",
      " wireless\n",
      " case\n",
      " firmware\n",
      " charging\n",
      " ear\n",
      " pair\n",
      "Cluster 17:\n",
      " macos\n",
      " mojave\n",
      " catalina\n",
      " apple\n",
      " ios\n",
      " sierra\n",
      " beta\n",
      " high\n",
      " support\n",
      " releases\n",
      "Cluster 18:\n",
      " usb\n",
      " lightning\n",
      " cable\n",
      " adapter\n",
      " apple\n",
      " charging\n",
      " charger\n",
      " new\n",
      " port\n",
      " iphones\n"
     ]
    }
   ],
   "source": [
    "# Prints out each cluster and main words\n",
    "order_centroids = kmeans.cluster_centers_.argsort()[:, ::-1]\n",
    "terms = vectorizer.get_feature_names()\n",
    "for i in range(19):\n",
    "    print(\"Cluster %d:\" % i),\n",
    "    for ind in order_centroids[i, :10]:\n",
    "        print(' %s' % terms[ind]),"
   ]
  },
  {
   "cell_type": "code",
   "execution_count": 78,
   "metadata": {},
   "outputs": [],
   "source": [
    "# Adds topic column to original dataframe\n",
    "y = kmeans.predict(X)\n",
    "y.tolist()\n",
    "df_apple1['Topic'] = y "
   ]
  },
  {
   "cell_type": "code",
   "execution_count": 93,
   "metadata": {},
   "outputs": [],
   "source": [
    "# Sums teh upvote to downvote ratio for every post in a topic \n",
    "# Finds number of every topic\n",
    "totl = []\n",
    "counts= []\n",
    "for i in range(19):\n",
    "    summed = 0\n",
    "    count = 0\n",
    "    for j in range(len(df_apple1.Topic)):\n",
    "        if y[j] == i:\n",
    "            ur = df_apple1.Upvote_ratio[j]\n",
    "            summed += ur\n",
    "            count += 1\n",
    "    totl.append(summed)\n",
    "    counts.append(count)"
   ]
  },
  {
   "cell_type": "code",
   "execution_count": 102,
   "metadata": {},
   "outputs": [
    {
     "data": {
      "text/plain": [
       "110"
      ]
     },
     "execution_count": 102,
     "metadata": {},
     "output_type": "execute_result"
    }
   ],
   "source": []
  },
  {
   "cell_type": "code",
   "execution_count": 98,
   "metadata": {},
   "outputs": [],
   "source": [
    "# uses summed upvote ration and count of eveyr topic to take the average upvote ratio of ervy topic\n",
    "avg = []\n",
    "for i in range(19):\n",
    "    avgp = totl[i]/counts[i]\n",
    "    avg.append(avgp)\n",
    "    "
   ]
  },
  {
   "cell_type": "code",
   "execution_count": 99,
   "metadata": {},
   "outputs": [],
   "source": [
    "# created for graph\n",
    "topic = []\n",
    "for i in range(19):\n",
    "    topic.append(i)"
   ]
  },
  {
   "cell_type": "code",
   "execution_count": 104,
   "metadata": {},
   "outputs": [
    {
     "data": {
      "image/png": "[encoded data removed]",
      "text/plain": [
       "<Figure size 432x288 with 1 Axes>"
      ]
     },
     "metadata": {
      "needs_background": "light"
     },
     "output_type": "display_data"
    }
   ],
   "source": [
    "# Plots average upvote ratio per topic \n",
    "plt.bar(topic, avg, color = 'orange')\n",
    "plt.xticks([0,1,2,3,4,5,6,7,8,9,10,11,12,13,14,15,16,17,18])\n",
    "plt.savefig('Avg_upvote_ratio_per topic', dpi = 300, transparent = True)"
   ]
  },
  {
   "cell_type": "code",
   "execution_count": null,
   "metadata": {},
   "outputs": [],
   "source": []
  },
  {
   "cell_type": "code",
   "execution_count": 81,
   "metadata": {},
   "outputs": [],
   "source": [
    "# Makes csv for next notebook\n",
    "df_apple1.to_csv('Apple_topics_df.csv', index= False)"
   ]
  },
  {
   "cell_type": "code",
   "execution_count": 46,
   "metadata": {},
   "outputs": [],
   "source": [
    "# Finds teh summed square error and shilloute coef for KMeans from 2 topics to 30 topics\n",
    "SSEs = []\n",
    "Sil_coefs = []\n",
    "for k in range(2,30):\n",
    "    km = KMeans(n_clusters=k, random_state=1)\n",
    "    km.fit(X)\n",
    "    labels = km.labels_\n",
    "    Sil_coefs.append(metrics.silhouette_score(X, labels, metric='euclidean'))\n",
    "    SSEs.append(km.inertia_)"
   ]
  },
  {
   "cell_type": "code",
   "execution_count": 83,
   "metadata": {},
   "outputs": [
    {
     "data": {
      "image/png": "[encoded data removed]",
      "text/plain": [
       "<Figure size 1080x360 with 2 Axes>"
      ]
     },
     "metadata": {
      "needs_background": "light"
     },
     "output_type": "display_data"
    }
   ],
   "source": [
    "#PLots the list of sil coef and SSE to help determine optimal number of clusters\n",
    "fig, (ax1, ax2) = plt.subplots(1,2, figsize=(15,5), sharex=True)\n",
    "k_clusters = range(2,30)\n",
    "ax1.plot(k_clusters, Sil_coefs,c='orange')\n",
    "ax1.set_xlabel('number of clusters')\n",
    "ax1.set_ylabel('silhouette coefficient')\n",
    "\n",
    "# plot here on ax2\n",
    "ax2.plot(k_clusters, SSEs, c='orange')\n",
    "ax2.set_xlabel('number of clusters')\n",
    "ax2.set_ylabel('SSE');"
   ]
  },
  {
   "cell_type": "markdown",
   "metadata": {},
   "source": [
    "## PCA"
   ]
  },
  {
   "cell_type": "code",
   "execution_count": 51,
   "metadata": {},
   "outputs": [],
   "source": [
    "#Reduce kmenas resulst down to 2 dim so that we can graph results\n",
    "pca = PCA(n_components=2, random_state=42)\n",
    "reduced_features = pca.fit_transform(features.toarray())\n",
    "\n",
    "# reduce the cluster centers to 2D\n",
    "reduced_cluster_centers = pca.transform(kmeans.cluster_centers_)"
   ]
  },
  {
   "cell_type": "code",
   "execution_count": 52,
   "metadata": {},
   "outputs": [
    {
     "data": {
      "text/plain": [
       "array([[ 2.09312913e-02, -1.54569580e-02],\n",
       "       [ 3.86926739e-02, -3.73481109e-02],\n",
       "       [-1.10600467e-01,  7.92956473e-02],\n",
       "       [-4.44445384e-02,  3.52001940e-02],\n",
       "       [-1.81376219e-02, -3.76142175e-02],\n",
       "       [-1.25264003e-02, -2.17069335e-02],\n",
       "       [ 2.30041618e-02, -3.79836391e-02],\n",
       "       [ 2.88531597e-02, -2.67656704e-02],\n",
       "       [-2.23655717e-01,  1.78243840e-01],\n",
       "       [ 4.61198037e-02, -5.51894148e-02],\n",
       "       [ 5.48393465e-01,  6.39107950e-01],\n",
       "       [ 1.93654721e-02, -1.94591523e-02],\n",
       "       [-1.06656966e-02, -8.94360784e-03],\n",
       "       [ 9.04543931e-03,  5.34639820e-04],\n",
       "       [ 3.11931456e-02, -2.77489915e-02],\n",
       "       [ 1.00952882e-02, -1.18787960e-02],\n",
       "       [-1.93863898e-02,  1.43709603e-02],\n",
       "       [ 2.39770258e-02, -9.55812802e-03],\n",
       "       [-2.38924019e-02,  9.06426708e-03]])"
      ]
     },
     "execution_count": 52,
     "metadata": {},
     "output_type": "execute_result"
    }
   ],
   "source": [
    "reduced_cluster_centers"
   ]
  },
  {
   "cell_type": "code",
   "execution_count": 85,
   "metadata": {},
   "outputs": [
    {
     "data": {
      "image/png": "[encoded data removed]",
      "text/plain": [
       "<Figure size 720x360 with 1 Axes>"
      ]
     },
     "metadata": {
      "needs_background": "light"
     },
     "output_type": "display_data"
    }
   ],
   "source": [
    "# Graph showing relations between clusters\n",
    "plt.figure(figsize=(10,5))\n",
    "plt.scatter(reduced_features[:,0], reduced_features[:,1], c=kmeans.predict(features))\n",
    "plt.scatter(reduced_cluster_centers[:, 0], reduced_cluster_centers[:,1], marker='x', s=150, c='red')\n",
    "plt.savefig('Topic_clusters', dpi = 300, transparent = True)"
   ]
  },
  {
   "cell_type": "markdown",
   "metadata": {},
   "source": [
    "### Unused code left for later reference"
   ]
  },
  {
   "cell_type": "markdown",
   "metadata": {},
   "source": [
    "## LDA"
   ]
  },
  {
   "cell_type": "code",
   "execution_count": 65,
   "metadata": {},
   "outputs": [],
   "source": [
    "\n",
    "apple_df_titles = df_apple1.Title\n",
    "title_list = apple_df_titles.tolist()"
   ]
  },
  {
   "cell_type": "code",
   "execution_count": 66,
   "metadata": {},
   "outputs": [
    {
     "name": "stderr",
     "output_type": "stream",
     "text": [
      "<>:5: DeprecationWarning: invalid escape sequence \\w\n",
      "<>:5: DeprecationWarning: invalid escape sequence \\w\n",
      "<>:5: DeprecationWarning: invalid escape sequence \\w\n",
      "<ipython-input-66-c33f81c46561>:5: DeprecationWarning: invalid escape sequence \\w\n",
      "  cleaning = re.sub('\\w*\\d\\w*', ' ', cleaning)\n"
     ]
    }
   ],
   "source": [
    "text = []\n",
    "for i in range(len(title_list)):\n",
    "    cleaning = re.sub('[%s]' % re.escape(string.punctuation),' ', title_list[i])\n",
    "    cleaning = cleaning.lower()\n",
    "    cleaning = re.sub('\\w*\\d\\w*', ' ', cleaning)\n",
    "    text.append(cleaning)"
   ]
  },
  {
   "cell_type": "code",
   "execution_count": 67,
   "metadata": {},
   "outputs": [
    {
     "name": "stdout",
     "output_type": "stream",
     "text": [
      "[['here', 'is', 'everything', 'apple', 'killed', 'or', 'tried', 'to', 'kill', 'at', 'wwdc']]\n"
     ]
    }
   ],
   "source": [
    "def sent_to_words(text):\n",
    "    for sentence in text:\n",
    "        yield(gensim.utils.simple_preprocess(str(sentence), deacc=True))  # deacc=True removes punctuations\n",
    "\n",
    "data_words = list(sent_to_words(text))\n",
    "\n",
    "print(data_words[:1])"
   ]
  },
  {
   "cell_type": "code",
   "execution_count": 68,
   "metadata": {},
   "outputs": [],
   "source": [
    "bigram = gensim.models.Phrases(data_words, min_count=5, threshold=100) # higher threshold fewer phrases.\n",
    "trigram = gensim.models.Phrases(bigram[data_words], threshold=100) "
   ]
  },
  {
   "cell_type": "code",
   "execution_count": 69,
   "metadata": {},
   "outputs": [],
   "source": [
    "bigram_mod = gensim.models.phrases.Phraser(bigram)\n",
    "trigram_mod = gensim.models.phrases.Phraser(trigram)"
   ]
  },
  {
   "cell_type": "code",
   "execution_count": 70,
   "metadata": {},
   "outputs": [],
   "source": [
    "def remove_stopwords(texts):\n",
    "    return [[word for word in simple_preprocess(str(doc)) if word not in stop_words] for doc in texts]\n",
    "\n",
    "def make_bigrams(texts):\n",
    "    return [bigram_mod[doc] for doc in texts]\n",
    "\n",
    "def make_trigrams(texts):\n",
    "    return [trigram_mod[bigram_mod[doc]] for doc in texts]\n",
    "\n",
    "def lemmatization(texts, allowed_postags=['NOUN', 'ADJ', 'VERB', 'ADV']):\n",
    "    \"\"\"https://spacy.io/api/annotation\"\"\"\n",
    "    texts_out = []\n",
    "    for sent in texts:\n",
    "        doc = nlp(\" \".join(sent)) \n",
    "        texts_out.append([token.lemma_ for token in doc if token.pos_ in allowed_postags])\n",
    "    return texts_out"
   ]
  },
  {
   "cell_type": "code",
   "execution_count": 60,
   "metadata": {},
   "outputs": [
    {
     "name": "stdout",
     "output_type": "stream",
     "text": [
      "[['kill', 'try']]\n"
     ]
    }
   ],
   "source": [
    "# Remove Stop Words\n",
    "data_words_nostops = remove_stopwords(data_words)\n",
    "\n",
    "# Form Bigrams\n",
    "#data_words_bigrams = make_bigrams(data_words_nostops)\n",
    "\n",
    "# Initialize spacy 'en' model, keeping only tagger component (for efficiency)\n",
    "# python3 -m spacy download en\n",
    "nlp = spacy.load('en', disable=['parser', 'ner'])\n",
    "\n",
    "# Do lemmatization keeping only noun, adj, vb, adv\n",
    "#data_lemmatized = lemmatization(data_words_bigrams, allowed_postags=['NOUN', 'ADJ', 'VERB', 'ADV'])\n",
    "\n",
    "print(data_lemmatized[:1])"
   ]
  },
  {
   "cell_type": "code",
   "execution_count": 71,
   "metadata": {},
   "outputs": [
    {
     "data": {
      "text/plain": [
       "['apple', 'closes', 'retail', 'stores', 'dallas', 'area', 'starting', 'july']"
      ]
     },
     "execution_count": 71,
     "metadata": {},
     "output_type": "execute_result"
    }
   ],
   "source": [
    "data_words_nostops[1]"
   ]
  },
  {
   "cell_type": "code",
   "execution_count": 72,
   "metadata": {},
   "outputs": [
    {
     "name": "stdout",
     "output_type": "stream",
     "text": [
      "[[(0, 1), (1, 1), (2, 1), (3, 1), (4, 1), (5, 1)]]\n"
     ]
    }
   ],
   "source": [
    "# Create Dictionary\n",
    "id2word = corpora.Dictionary(data_words_nostops)\n",
    "\n",
    "# Create Corpus\n",
    "texts = data_words_nostops\n",
    "\n",
    "# Term Document Frequency\n",
    "corpus = [id2word.doc2bow(text) for text in texts]\n",
    "\n",
    "# View\n",
    "print(corpus[:1])"
   ]
  },
  {
   "cell_type": "code",
   "execution_count": 73,
   "metadata": {},
   "outputs": [],
   "source": [
    "lda_model = gensim.models.ldamodel.LdaModel(corpus=corpus,\n",
    "                                           id2word=id2word,\n",
    "                                           num_topics=19, \n",
    "                                           random_state=100,\n",
    "                                           update_every=1,\n",
    "                                           chunksize=100,\n",
    "                                           passes=10,\n",
    "                                           alpha='auto',\n",
    "                                           per_word_topics=True)"
   ]
  },
  {
   "cell_type": "code",
   "execution_count": 74,
   "metadata": {},
   "outputs": [
    {
     "name": "stdout",
     "output_type": "stream",
     "text": [
      "[(0,\n",
      "  '0.171*\"life\" + 0.024*\"craig\" + 0.019*\"federighi\" + 0.000*\"macbook\" + '\n",
      "  '0.000*\"saved\" + 0.000*\"consumer\" + 0.000*\"victim\" + 0.000*\"lauderdale\" + '\n",
      "  '0.000*\"attack\" + 0.000*\"interviewed\"'),\n",
      " (1,\n",
      "  '0.311*\"ipad\" + 0.086*\"wwdc\" + 0.074*\"design\" + 0.052*\"come\" + 0.040*\"even\" '\n",
      "  '+ 0.035*\"keynote\" + 0.021*\"big\" + 0.020*\"ui\" + 0.014*\"podcast\" + '\n",
      "  '0.009*\"talks\"'),\n",
      " (2,\n",
      "  '0.119*\"developers\" + 0.093*\"good\" + 0.085*\"keep\" + 0.067*\"shift\" + '\n",
      "  '0.046*\"games\" + 0.000*\"night\" + 0.000*\"macbook\" + 0.000*\"work\" + '\n",
      "  '0.000*\"seeds\" + 0.000*\"without\"'),\n",
      " (3,\n",
      "  '0.160*\"store\" + 0.159*\"touch\" + 0.079*\"support\" + 0.078*\"id\" + '\n",
      "  '0.068*\"feature\" + 0.056*\"mode\" + 0.029*\"face\" + 0.026*\"microsoft\" + '\n",
      "  '0.022*\"dark\" + 0.015*\"password\"'),\n",
      " (4,\n",
      "  '0.716*\"apple\" + 0.139*\"new\" + 0.011*\"news\" + 0.010*\"show\" + 0.009*\"talk\" + '\n",
      "  '0.007*\"starting\" + 0.006*\"times\" + 0.006*\"future\" + 0.005*\"retail\" + '\n",
      "  '0.004*\"remote\"'),\n",
      " (5,\n",
      "  '0.116*\"like\" + 0.111*\"else\" + 0.102*\"really\" + 0.075*\"people\" + '\n",
      "  '0.052*\"itunes\" + 0.043*\"longer\" + 0.042*\"say\" + 0.034*\"feel\" + '\n",
      "  '0.026*\"system\" + 0.023*\"faster\"'),\n",
      " (6,\n",
      "  '0.215*\"apps\" + 0.162*\"get\" + 0.045*\"share\" + 0.042*\"stop\" + 0.033*\"turn\" + '\n",
      "  '0.029*\"chip\" + 0.027*\"allow\" + 0.020*\"huge\" + 0.017*\"surface\" + '\n",
      "  '0.017*\"privacy\"'),\n",
      " (7,\n",
      "  '0.380*\"app\" + 0.083*\"video\" + 0.070*\"could\" + 0.062*\"best\" + 0.061*\"users\" '\n",
      "  '+ 0.029*\"access\" + 0.023*\"getting\" + 0.020*\"give\" + 0.019*\"models\" + '\n",
      "  '0.005*\"capable\"'),\n",
      " (8,\n",
      "  '0.073*\"home\" + 0.059*\"works\" + 0.056*\"better\" + 0.055*\"end\" + '\n",
      "  '0.049*\"keyboard\" + 0.046*\"much\" + 0.044*\"control\" + 0.044*\"game\" + '\n",
      "  '0.038*\"picture\" + 0.029*\"smart\"'),\n",
      " (9,\n",
      "  '0.283*\"mac\" + 0.109*\"says\" + 0.083*\"today\" + 0.053*\"product\" + '\n",
      "  '0.052*\"windows\" + 0.048*\"se\" + 0.030*\"announces\" + 0.023*\"intel\" + '\n",
      "  '0.017*\"former\" + 0.016*\"refurbished\"'),\n",
      " (10,\n",
      "  '0.213*\"macos\" + 0.086*\"phone\" + 0.077*\"using\" + 0.064*\"devices\" + '\n",
      "  '0.056*\"features\" + 0.047*\"month\" + 0.025*\"program\" + 0.023*\"card\" + '\n",
      "  '0.021*\"launches\" + 0.020*\"facebook\"'),\n",
      " (11,\n",
      "  '0.183*\"watch\" + 0.171*\"use\" + 0.098*\"first\" + 0.096*\"time\" + 0.053*\"see\" + '\n",
      "  '0.035*\"said\" + 0.030*\"every\" + 0.027*\"months\" + 0.023*\"let\" + '\n",
      "  '0.020*\"chrome\"'),\n",
      " (12,\n",
      "  '0.204*\"siri\" + 0.142*\"screen\" + 0.072*\"open\" + 0.054*\"need\" + 0.039*\"found\" '\n",
      "  '+ 0.032*\"full\" + 0.027*\"help\" + 0.027*\"non\" + 0.019*\"employee\" + '\n",
      "  '0.018*\"mkbhd\"'),\n",
      " (13,\n",
      "  '0.447*\"ios\" + 0.084*\"years\" + 0.075*\"google\" + 0.057*\"wireless\" + '\n",
      "  '0.050*\"android\" + 0.035*\"may\" + 0.031*\"switch\" + 0.013*\"reveals\" + '\n",
      "  '0.009*\"ability\" + 0.004*\"considering\"'),\n",
      " (14,\n",
      "  '0.077*\"make\" + 0.069*\"would\" + 0.064*\"back\" + 0.062*\"think\" + '\n",
      "  '0.046*\"device\" + 0.038*\"finally\" + 0.038*\"us\" + 0.032*\"os\" + '\n",
      "  '0.032*\"products\" + 0.031*\"force\"'),\n",
      " (15,\n",
      "  '0.695*\"iphone\" + 0.044*\"power\" + 0.024*\"reportedly\" + 0.015*\"move\" + '\n",
      "  '0.013*\"streaming\" + 0.008*\"perspective\" + 0.007*\"media\" + 0.007*\"designer\" '\n",
      "  '+ 0.006*\"airplay\" + 0.005*\"state\"'),\n",
      " (16,\n",
      "  '0.293*\"pro\" + 0.076*\"iphones\" + 0.073*\"bar\" + 0.056*\"beta\" + 0.051*\"button\" '\n",
      "  '+ 0.037*\"photos\" + 0.022*\"run\" + 0.022*\"claims\" + 0.022*\"developer\" + '\n",
      "  '0.020*\"adapter\"'),\n",
      " (17,\n",
      "  '0.102*\"still\" + 0.083*\"year\" + 0.078*\"safari\" + 0.049*\"launch\" + '\n",
      "  '0.045*\"inch\" + 0.043*\"plus\" + 0.039*\"ever\" + 0.038*\"data\" + 0.038*\"youtube\" '\n",
      "  '+ 0.033*\"used\"'),\n",
      " (18,\n",
      "  '0.185*\"airpods\" + 0.110*\"cook\" + 0.109*\"tim\" + 0.070*\"battery\" + '\n",
      "  '0.051*\"made\" + 0.046*\"charging\" + 0.028*\"experience\" + 0.028*\"look\" + '\n",
      "  '0.027*\"gets\" + 0.027*\"user\"')]\n"
     ]
    }
   ],
   "source": [
    "pprint(lda_model.print_topics())\n",
    "doc_lda = lda_model[corpus]"
   ]
  },
  {
   "cell_type": "code",
   "execution_count": 76,
   "metadata": {},
   "outputs": [
    {
     "name": "stdout",
     "output_type": "stream",
     "text": [
      "\n",
      "Perplexity:  -19.18309848559277\n",
      "\n",
      "Coherence Score:  0.4260701431730038\n"
     ]
    }
   ],
   "source": [
    "# Compute Perplexity\n",
    "print('\\nPerplexity: ', lda_model.log_perplexity(corpus))  # a measure of how good the model is. lower the better.\n",
    "\n",
    "# Compute Coherence Score\n",
    "coherence_model_lda = CoherenceModel(model=lda_model, texts=data_words_nostops, dictionary=id2word, coherence='c_v')\n",
    "coherence_lda = coherence_model_lda.get_coherence()\n",
    "print('\\nCoherence Score: ', coherence_lda)"
   ]
  },
  {
   "cell_type": "code",
   "execution_count": null,
   "metadata": {},
   "outputs": [],
   "source": []
  },
  {
   "cell_type": "code",
   "execution_count": 37,
   "metadata": {},
   "outputs": [],
   "source": [
    "def compute_coherence_values(dictionary, corpus, texts, limit, start=2, step=3):\n",
    "    \"\"\"\n",
    "    Compute c_v coherence for various number of topics\n",
    "\n",
    "    Parameters:\n",
    "    ----------\n",
    "    dictionary : Gensim dictionary\n",
    "    corpus : Gensim corpus\n",
    "    texts : List of input texts\n",
    "    limit : Max num of topics\n",
    "\n",
    "    Returns:\n",
    "    -------\n",
    "    model_list : List of LDA topic models\n",
    "    coherence_values : Coherence values corresponding to the LDA model with respective number of topics\n",
    "    \"\"\"\n",
    "    coherence_values = []\n",
    "    model_list = []\n",
    "    for num_topics in range(start, limit, step):\n",
    "#         model = gensim.models.wrappers.LdaMallet(mallet_path, corpus=corpus, num_topics=num_topics, id2word=id2word)\n",
    "#         model_list.append(model)\n",
    "        lda_model = gensim.models.ldamodel.LdaModel(corpus=corpus,\n",
    "                                           id2word=id2word,\n",
    "                                           num_topics=num_topics, \n",
    "                                           random_state=100,\n",
    "                                           update_every=1,\n",
    "                                           chunksize=100,\n",
    "                                           passes=10,\n",
    "                                           alpha='auto',\n",
    "                                           per_word_topics=True)\n",
    "        coherencemodel = CoherenceModel(model=lda_model, texts=texts, dictionary=dictionary, coherence='c_v')\n",
    "        coherence_values.append(coherencemodel.get_coherence())\n",
    "\n",
    "    return model_list, coherence_values"
   ]
  },
  {
   "cell_type": "code",
   "execution_count": 39,
   "metadata": {},
   "outputs": [],
   "source": [
    "model_list, coherence_values = compute_coherence_values(dictionary=id2word, corpus=corpus, texts=data_lemmatized, start=2, limit=8, step=2)\n"
   ]
  },
  {
   "cell_type": "code",
   "execution_count": 36,
   "metadata": {},
   "outputs": [
    {
     "data": {
      "image/png": "[encoded data removed]",
      "text/plain": [
       "<Figure size 432x288 with 1 Axes>"
      ]
     },
     "metadata": {
      "needs_background": "light"
     },
     "output_type": "display_data"
    }
   ],
   "source": [
    "\n",
    "import matplotlib.pyplot as plt\n",
    "limit=8; start=2; step=2;\n",
    "x = range(start, limit, step)\n",
    "plt.plot(x, coherence_values)\n",
    "plt.xlabel(\"Num Topics\")\n",
    "plt.ylabel(\"Coherence score\")\n",
    "plt.legend((\"coherence_values\"), loc='best')\n",
    "plt.show()"
   ]
  },
  {
   "cell_type": "code",
   "execution_count": null,
   "metadata": {},
   "outputs": [],
   "source": []
  }
 ],
 "metadata": {
  "kernelspec": {
   "display_name": "Python 3",
   "language": "python",
   "name": "python3"
  },
  "language_info": {
   "codemirror_mode": {
    "name": "ipython",
    "version": 3
   },
   "file_extension": ".py",
   "mimetype": "text/x-python",
   "name": "python",
   "nbconvert_exporter": "python",
   "pygments_lexer": "ipython3",
   "version": "3.7.6"
  }
 },
 "nbformat": 4,
 "nbformat_minor": 4
}
