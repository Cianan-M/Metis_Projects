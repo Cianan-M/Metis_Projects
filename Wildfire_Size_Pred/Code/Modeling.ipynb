{
 "cells": [
  {
   "cell_type": "code",
   "execution_count": 382,
   "metadata": {},
   "outputs": [],
   "source": [
    "from sklearn.ensemble import RandomForestClassifier\n",
    "from sklearn.model_selection import train_test_split\n",
    "from sklearn.model_selection import GridSearchCV\n",
    "from sklearn.metrics import precision_score, recall_score, accuracy_score, roc_auc_score\n",
    "from sklearn.metrics import f1_score\n",
    "from pprint import pprint\n",
    "import numpy as np\n",
    "import pandas as pd\n",
    "from imblearn.over_sampling import SMOTE \n",
    "import matplotlib.pyplot as plt\n",
    "from xgboost import XGBClassifier\n",
    "from sklearn import metrics\n",
    "from collections import Counter\n",
    "from sklearn import svm"
   ]
  },
  {
   "cell_type": "code",
   "execution_count": 17,
   "metadata": {},
   "outputs": [],
   "source": [
    "# load in data from dat_processing\n",
    "fire_data = pd.read_csv('Fire_regions_w_r')"
   ]
  },
  {
   "cell_type": "code",
   "execution_count": null,
   "metadata": {},
   "outputs": [],
   "source": []
  },
  {
   "cell_type": "code",
   "execution_count": 59,
   "metadata": {},
   "outputs": [],
   "source": [
    "# getting a list of months\n",
    "month= []\n",
    "for i in range(len(fire_data)):\n",
    "    month.append(int(fire_data.ALARM_DATE[i][5:7]))"
   ]
  },
  {
   "cell_type": "code",
   "execution_count": 407,
   "metadata": {},
   "outputs": [],
   "source": [
    "# getting list of windspeed\n",
    "wind_spe = []\n",
    "u10 = fire_data.u10.tolist()\n",
    "v10 = fire_data.v10.tolist()\n",
    "for i in range(len(fire_data)):\n",
    "     wind_spe.append(np.sqrt(u10[i]**2 + v10[i]**2))"
   ]
  },
  {
   "cell_type": "code",
   "execution_count": 408,
   "metadata": {},
   "outputs": [],
   "source": [
    "# adding months to df\n",
    "fire_data['Month'] = month"
   ]
  },
  {
   "cell_type": "code",
   "execution_count": 409,
   "metadata": {},
   "outputs": [],
   "source": [
    "# introducing smote fro class imbalance\n",
    "sm = SMOTE(random_state = 42)"
   ]
  },
  {
   "cell_type": "code",
   "execution_count": 410,
   "metadata": {},
   "outputs": [],
   "source": [
    "# cretaing x,y variables to put into model\n",
    "x = fire_data.iloc[:, 8:10]\n",
    "x['Month'] = month\n",
    "x['Wind_Spe'] = wind_spe\n",
    "x['Eco'] = fire_data.Eco_Region.tolist()\n",
    "#x['u10'] = fire_data.u10.tolist()\n",
    "#x['v10'] = fire_data.v10.tolist()\n",
    "#x['Lat'] = fire_data.lat.tolist()\n",
    "x['Long'] = fire_data.long.tolist()\n",
    "y = fire_data.Classes"
   ]
  },
  {
   "cell_type": "code",
   "execution_count": 412,
   "metadata": {},
   "outputs": [],
   "source": [
    "# creates tarining set\n",
    "x_train, x_test, y_train, y_test = train_test_split(x, y, test_size=0.2, random_state=42)"
   ]
  },
  {
   "cell_type": "code",
   "execution_count": 413,
   "metadata": {},
   "outputs": [],
   "source": [
    "# uses smote to oversample\n",
    "x_train_res, y_train_res = sm.fit_sample(x_train, y_train)"
   ]
  },
  {
   "cell_type": "code",
   "execution_count": 434,
   "metadata": {},
   "outputs": [],
   "source": [
    "def accu_by_class(model):\n",
    "    \"\"\"\n",
    "    This breaks down the model accuracies into accuracies for each class\n",
    "    \n",
    "    \"\"\"\n",
    "    predicted_exp = model.predict(x_test)\n",
    "\n",
    "    accu = []\n",
    "    correct2 = []\n",
    "\n",
    "        #loops through all classes to index each seperately and compare to predicited values\n",
    "    for v in [0,1,2,3]:\n",
    "        ind = []\n",
    "        num = 0\n",
    "            #loops through y_test to create index of where facial expression occurs in y_test\n",
    "        for count, i in enumerate(y_test):\n",
    "            if i == v:\n",
    "                num += 1\n",
    "                ind.append(count)\n",
    "\n",
    "            # loops through predicted x_test classes and creates index\n",
    "        ind1 = []\n",
    "        num1 = 0\n",
    "        for count, i in enumerate(predicted_exp):\n",
    "            if i == v:\n",
    "                num1 += 1\n",
    "                ind1.append(count)\n",
    "\n",
    "            # checks to see how many of the predicted indexes are correct\n",
    "        correct = 0\n",
    "        for i in ind1:\n",
    "            if i in ind:\n",
    "                correct +=1\n",
    "\n",
    "            #appends number correct and accuracy percentage for each class\n",
    "        correct2.append(correct)\n",
    "        accu.append(correct/num)\n",
    "        \n",
    "    return accu"
   ]
  },
  {
   "cell_type": "markdown",
   "metadata": {},
   "source": [
    "## Random Forest"
   ]
  },
  {
   "cell_type": "code",
   "execution_count": 414,
   "metadata": {},
   "outputs": [],
   "source": [
    "# creates random forest model\n",
    "rfc = RandomForestClassifier(n_estimators = 1000, random_state = 42, min_samples_split= 2)\n",
    "results = rfc.fit(x_train_res, y_train_res)"
   ]
  },
  {
   "cell_type": "code",
   "execution_count": 209,
   "metadata": {},
   "outputs": [],
   "source": [
    "# model_params = {\n",
    "#     'n_estimators': [250],\n",
    "#     'min_samples_leaf': [1,2,3],\n",
    "#     'min_samples_split': [2, 4, 6],\n",
    "#     'max_features': ['sqrt','log2']}\n",
    "\n",
    "# clf = GridSearchCV(rfc, model_params, cv=5)\n",
    "# model = clf.fit(x, y)\n",
    "# from pprint import pprint\n",
    "# pprint(model.best_estimator_.get_params())"
   ]
  },
  {
   "cell_type": "code",
   "execution_count": 436,
   "metadata": {},
   "outputs": [
    {
     "name": "stdout",
     "output_type": "stream",
     "text": [
      "0.4803105934553522\n",
      "[0.630308076602831, 0.20430107526881722, 0.15348837209302327, 0.17592592592592593]\n"
     ]
    }
   ],
   "source": [
    "# prints accuracy and accuracy by class\n",
    "print(accuracy_score(results.predict(x_test), y_test))\n",
    "print(accu_by_class(results))"
   ]
  },
  {
   "cell_type": "markdown",
   "metadata": {},
   "source": [
    "## XGBOOST"
   ]
  },
  {
   "cell_type": "code",
   "execution_count": 424,
   "metadata": {},
   "outputs": [
    {
     "name": "stdout",
     "output_type": "stream",
     "text": [
      "[10:43:06] WARNING: /Users/travis/build/dmlc/xgboost/src/learner.cc:480: \n",
      "Parameters: { verbose } might not be used.\n",
      "\n",
      "  This may not be accurate due to some parameters are only used in language bindings but\n",
      "  passed down to XGBoost core.  Or some parameters are not used but slip through this\n",
      "  verification. Please open an issue if you find above cases.\n",
      "\n",
      "\n",
      "[0]\tvalidation_0-merror:0.16951\tvalidation_1-merror:0.60455\n",
      "Multiple eval metrics have been passed: 'validation_1-merror' will be used for early stopping.\n",
      "\n",
      "Will train until validation_1-merror hasn't improved in 150 rounds.\n",
      "[1]\tvalidation_0-merror:0.15275\tvalidation_1-merror:0.63783\n",
      "[2]\tvalidation_0-merror:0.13389\tvalidation_1-merror:0.62784\n",
      "[3]\tvalidation_0-merror:0.12883\tvalidation_1-merror:0.62673\n",
      "[4]\tvalidation_0-merror:0.12040\tvalidation_1-merror:0.62396\n",
      "[5]\tvalidation_0-merror:0.11560\tvalidation_1-merror:0.61841\n",
      "[6]\tvalidation_0-merror:0.11018\tvalidation_1-merror:0.62507\n",
      "[7]\tvalidation_0-merror:0.10476\tvalidation_1-merror:0.62008\n",
      "[8]\tvalidation_0-merror:0.10159\tvalidation_1-merror:0.62230\n",
      "[9]\tvalidation_0-merror:0.09981\tvalidation_1-merror:0.61897\n",
      "[10]\tvalidation_0-merror:0.09725\tvalidation_1-merror:0.62063\n",
      "[11]\tvalidation_0-merror:0.09546\tvalidation_1-merror:0.61952\n",
      "[12]\tvalidation_0-merror:0.09158\tvalidation_1-merror:0.61952\n",
      "[13]\tvalidation_0-merror:0.08943\tvalidation_1-merror:0.62396\n",
      "[14]\tvalidation_0-merror:0.08662\tvalidation_1-merror:0.61952\n",
      "[15]\tvalidation_0-merror:0.08279\tvalidation_1-merror:0.62119\n",
      "[16]\tvalidation_0-merror:0.08059\tvalidation_1-merror:0.62396\n",
      "[17]\tvalidation_0-merror:0.07783\tvalidation_1-merror:0.61897\n",
      "[18]\tvalidation_0-merror:0.07206\tvalidation_1-merror:0.61620\n",
      "[19]\tvalidation_0-merror:0.06843\tvalidation_1-merror:0.61176\n",
      "[20]\tvalidation_0-merror:0.06577\tvalidation_1-merror:0.60732\n",
      "[21]\tvalidation_0-merror:0.06388\tvalidation_1-merror:0.60455\n",
      "[22]\tvalidation_0-merror:0.05923\tvalidation_1-merror:0.60122\n",
      "[23]\tvalidation_0-merror:0.05688\tvalidation_1-merror:0.60122\n",
      "[24]\tvalidation_0-merror:0.05432\tvalidation_1-merror:0.59512\n",
      "[25]\tvalidation_0-merror:0.05126\tvalidation_1-merror:0.59013\n",
      "[26]\tvalidation_0-merror:0.04957\tvalidation_1-merror:0.59235\n",
      "[27]\tvalidation_0-merror:0.04737\tvalidation_1-merror:0.58791\n",
      "[28]\tvalidation_0-merror:0.04722\tvalidation_1-merror:0.58735\n",
      "[29]\tvalidation_0-merror:0.04610\tvalidation_1-merror:0.58569\n",
      "[30]\tvalidation_0-merror:0.04441\tvalidation_1-merror:0.58735\n",
      "[31]\tvalidation_0-merror:0.04211\tvalidation_1-merror:0.58514\n",
      "[32]\tvalidation_0-merror:0.04027\tvalidation_1-merror:0.58680\n",
      "[33]\tvalidation_0-merror:0.03971\tvalidation_1-merror:0.58569\n",
      "[34]\tvalidation_0-merror:0.03848\tvalidation_1-merror:0.58236\n",
      "[35]\tvalidation_0-merror:0.03674\tvalidation_1-merror:0.57959\n",
      "[36]\tvalidation_0-merror:0.03511\tvalidation_1-merror:0.57848\n",
      "[37]\tvalidation_0-merror:0.03332\tvalidation_1-merror:0.57959\n",
      "[38]\tvalidation_0-merror:0.03163\tvalidation_1-merror:0.57515\n",
      "[39]\tvalidation_0-merror:0.02959\tvalidation_1-merror:0.57238\n",
      "[40]\tvalidation_0-merror:0.02862\tvalidation_1-merror:0.56961\n",
      "[41]\tvalidation_0-merror:0.02688\tvalidation_1-merror:0.57183\n",
      "[42]\tvalidation_0-merror:0.02570\tvalidation_1-merror:0.57183\n",
      "[43]\tvalidation_0-merror:0.02392\tvalidation_1-merror:0.57238\n",
      "[44]\tvalidation_0-merror:0.02315\tvalidation_1-merror:0.57183\n",
      "[45]\tvalidation_0-merror:0.02177\tvalidation_1-merror:0.57071\n",
      "[46]\tvalidation_0-merror:0.02095\tvalidation_1-merror:0.56905\n",
      "[47]\tvalidation_0-merror:0.02054\tvalidation_1-merror:0.56683\n",
      "[48]\tvalidation_0-merror:0.01983\tvalidation_1-merror:0.56794\n",
      "[49]\tvalidation_0-merror:0.01824\tvalidation_1-merror:0.56406\n",
      "[50]\tvalidation_0-merror:0.01727\tvalidation_1-merror:0.56517\n",
      "[51]\tvalidation_0-merror:0.01671\tvalidation_1-merror:0.55907\n",
      "[52]\tvalidation_0-merror:0.01605\tvalidation_1-merror:0.56073\n",
      "[53]\tvalidation_0-merror:0.01559\tvalidation_1-merror:0.55907\n",
      "[54]\tvalidation_0-merror:0.01528\tvalidation_1-merror:0.55851\n",
      "[55]\tvalidation_0-merror:0.01508\tvalidation_1-merror:0.55851\n",
      "[56]\tvalidation_0-merror:0.01462\tvalidation_1-merror:0.55740\n",
      "[57]\tvalidation_0-merror:0.01456\tvalidation_1-merror:0.55629\n",
      "[58]\tvalidation_0-merror:0.01426\tvalidation_1-merror:0.55574\n",
      "[59]\tvalidation_0-merror:0.01390\tvalidation_1-merror:0.55740\n",
      "[60]\tvalidation_0-merror:0.01364\tvalidation_1-merror:0.55740\n",
      "[61]\tvalidation_0-merror:0.01298\tvalidation_1-merror:0.55629\n",
      "[62]\tvalidation_0-merror:0.01242\tvalidation_1-merror:0.55685\n",
      "[63]\tvalidation_0-merror:0.01226\tvalidation_1-merror:0.55796\n",
      "[64]\tvalidation_0-merror:0.01180\tvalidation_1-merror:0.55352\n",
      "[65]\tvalidation_0-merror:0.01196\tvalidation_1-merror:0.55352\n",
      "[66]\tvalidation_0-merror:0.01160\tvalidation_1-merror:0.55241\n",
      "[67]\tvalidation_0-merror:0.01104\tvalidation_1-merror:0.55186\n",
      "[68]\tvalidation_0-merror:0.01043\tvalidation_1-merror:0.55075\n",
      "[69]\tvalidation_0-merror:0.01032\tvalidation_1-merror:0.55019\n",
      "[70]\tvalidation_0-merror:0.01017\tvalidation_1-merror:0.55019\n",
      "[71]\tvalidation_0-merror:0.00976\tvalidation_1-merror:0.54964\n",
      "[72]\tvalidation_0-merror:0.00971\tvalidation_1-merror:0.54853\n",
      "[73]\tvalidation_0-merror:0.00971\tvalidation_1-merror:0.54631\n",
      "[74]\tvalidation_0-merror:0.00961\tvalidation_1-merror:0.54465\n",
      "[75]\tvalidation_0-merror:0.00930\tvalidation_1-merror:0.54520\n",
      "[76]\tvalidation_0-merror:0.00940\tvalidation_1-merror:0.54465\n",
      "[77]\tvalidation_0-merror:0.00915\tvalidation_1-merror:0.54631\n",
      "[78]\tvalidation_0-merror:0.00894\tvalidation_1-merror:0.54576\n",
      "[79]\tvalidation_0-merror:0.00864\tvalidation_1-merror:0.54409\n",
      "[80]\tvalidation_0-merror:0.00864\tvalidation_1-merror:0.54465\n",
      "[81]\tvalidation_0-merror:0.00848\tvalidation_1-merror:0.54354\n",
      "[82]\tvalidation_0-merror:0.00843\tvalidation_1-merror:0.54243\n",
      "[83]\tvalidation_0-merror:0.00828\tvalidation_1-merror:0.54187\n",
      "[84]\tvalidation_0-merror:0.00823\tvalidation_1-merror:0.54132\n",
      "[85]\tvalidation_0-merror:0.00823\tvalidation_1-merror:0.54298\n",
      "[86]\tvalidation_0-merror:0.00807\tvalidation_1-merror:0.54243\n",
      "[87]\tvalidation_0-merror:0.00787\tvalidation_1-merror:0.54354\n",
      "[88]\tvalidation_0-merror:0.00787\tvalidation_1-merror:0.54187\n",
      "[89]\tvalidation_0-merror:0.00767\tvalidation_1-merror:0.54132\n",
      "[90]\tvalidation_0-merror:0.00761\tvalidation_1-merror:0.54021\n",
      "[91]\tvalidation_0-merror:0.00746\tvalidation_1-merror:0.53910\n",
      "[92]\tvalidation_0-merror:0.00736\tvalidation_1-merror:0.53966\n",
      "[93]\tvalidation_0-merror:0.00721\tvalidation_1-merror:0.53910\n",
      "[94]\tvalidation_0-merror:0.00715\tvalidation_1-merror:0.53855\n",
      "[95]\tvalidation_0-merror:0.00705\tvalidation_1-merror:0.53688\n",
      "[96]\tvalidation_0-merror:0.00675\tvalidation_1-merror:0.53633\n",
      "[97]\tvalidation_0-merror:0.00670\tvalidation_1-merror:0.53744\n",
      "[98]\tvalidation_0-merror:0.00649\tvalidation_1-merror:0.53799\n",
      "[99]\tvalidation_0-merror:0.00649\tvalidation_1-merror:0.53633\n",
      "[100]\tvalidation_0-merror:0.00639\tvalidation_1-merror:0.53356\n",
      "[101]\tvalidation_0-merror:0.00639\tvalidation_1-merror:0.53356\n",
      "[102]\tvalidation_0-merror:0.00639\tvalidation_1-merror:0.53300\n",
      "[103]\tvalidation_0-merror:0.00613\tvalidation_1-merror:0.53356\n",
      "[104]\tvalidation_0-merror:0.00618\tvalidation_1-merror:0.53300\n",
      "[105]\tvalidation_0-merror:0.00613\tvalidation_1-merror:0.53245\n",
      "[106]\tvalidation_0-merror:0.00598\tvalidation_1-merror:0.53078\n",
      "[107]\tvalidation_0-merror:0.00567\tvalidation_1-merror:0.53023\n",
      "[108]\tvalidation_0-merror:0.00547\tvalidation_1-merror:0.52912\n",
      "[109]\tvalidation_0-merror:0.00542\tvalidation_1-merror:0.52967\n",
      "[110]\tvalidation_0-merror:0.00521\tvalidation_1-merror:0.53189\n",
      "[111]\tvalidation_0-merror:0.00501\tvalidation_1-merror:0.53189\n",
      "[112]\tvalidation_0-merror:0.00501\tvalidation_1-merror:0.53189\n",
      "[113]\tvalidation_0-merror:0.00501\tvalidation_1-merror:0.53411\n",
      "[114]\tvalidation_0-merror:0.00485\tvalidation_1-merror:0.53466\n",
      "[115]\tvalidation_0-merror:0.00470\tvalidation_1-merror:0.53577\n",
      "[116]\tvalidation_0-merror:0.00465\tvalidation_1-merror:0.53466\n",
      "[117]\tvalidation_0-merror:0.00439\tvalidation_1-merror:0.53356\n",
      "[118]\tvalidation_0-merror:0.00434\tvalidation_1-merror:0.53134\n",
      "[119]\tvalidation_0-merror:0.00429\tvalidation_1-merror:0.53189\n",
      "[120]\tvalidation_0-merror:0.00424\tvalidation_1-merror:0.53189\n",
      "[121]\tvalidation_0-merror:0.00424\tvalidation_1-merror:0.53189\n",
      "[122]\tvalidation_0-merror:0.00399\tvalidation_1-merror:0.53245\n",
      "[123]\tvalidation_0-merror:0.00368\tvalidation_1-merror:0.53078\n",
      "[124]\tvalidation_0-merror:0.00368\tvalidation_1-merror:0.53245\n",
      "[125]\tvalidation_0-merror:0.00368\tvalidation_1-merror:0.52967\n",
      "[126]\tvalidation_0-merror:0.00363\tvalidation_1-merror:0.52967\n",
      "[127]\tvalidation_0-merror:0.00363\tvalidation_1-merror:0.53078\n",
      "[128]\tvalidation_0-merror:0.00363\tvalidation_1-merror:0.52856\n",
      "[129]\tvalidation_0-merror:0.00347\tvalidation_1-merror:0.52912\n",
      "[130]\tvalidation_0-merror:0.00353\tvalidation_1-merror:0.52801\n",
      "[131]\tvalidation_0-merror:0.00347\tvalidation_1-merror:0.52745\n",
      "[132]\tvalidation_0-merror:0.00342\tvalidation_1-merror:0.52856\n",
      "[133]\tvalidation_0-merror:0.00353\tvalidation_1-merror:0.52801\n",
      "[134]\tvalidation_0-merror:0.00332\tvalidation_1-merror:0.52801\n",
      "[135]\tvalidation_0-merror:0.00327\tvalidation_1-merror:0.52579\n",
      "[136]\tvalidation_0-merror:0.00322\tvalidation_1-merror:0.52524\n",
      "[137]\tvalidation_0-merror:0.00312\tvalidation_1-merror:0.52524\n",
      "[138]\tvalidation_0-merror:0.00307\tvalidation_1-merror:0.52634\n",
      "[139]\tvalidation_0-merror:0.00301\tvalidation_1-merror:0.52579\n",
      "[140]\tvalidation_0-merror:0.00296\tvalidation_1-merror:0.52579\n",
      "[141]\tvalidation_0-merror:0.00291\tvalidation_1-merror:0.52524\n",
      "[142]\tvalidation_0-merror:0.00286\tvalidation_1-merror:0.52524\n",
      "[143]\tvalidation_0-merror:0.00286\tvalidation_1-merror:0.52413\n",
      "[144]\tvalidation_0-merror:0.00281\tvalidation_1-merror:0.52357\n",
      "[145]\tvalidation_0-merror:0.00281\tvalidation_1-merror:0.52191\n",
      "[146]\tvalidation_0-merror:0.00276\tvalidation_1-merror:0.52135\n",
      "[147]\tvalidation_0-merror:0.00276\tvalidation_1-merror:0.52191\n",
      "[148]\tvalidation_0-merror:0.00271\tvalidation_1-merror:0.52080\n",
      "[149]\tvalidation_0-merror:0.00266\tvalidation_1-merror:0.52135\n",
      "[150]\tvalidation_0-merror:0.00266\tvalidation_1-merror:0.52135\n",
      "[151]\tvalidation_0-merror:0.00261\tvalidation_1-merror:0.52135\n",
      "[152]\tvalidation_0-merror:0.00261\tvalidation_1-merror:0.52135\n",
      "[153]\tvalidation_0-merror:0.00261\tvalidation_1-merror:0.52246\n",
      "[154]\tvalidation_0-merror:0.00261\tvalidation_1-merror:0.52135\n",
      "[155]\tvalidation_0-merror:0.00261\tvalidation_1-merror:0.52135\n",
      "[156]\tvalidation_0-merror:0.00255\tvalidation_1-merror:0.52135\n",
      "[157]\tvalidation_0-merror:0.00255\tvalidation_1-merror:0.52191\n",
      "[158]\tvalidation_0-merror:0.00255\tvalidation_1-merror:0.52191\n",
      "[159]\tvalidation_0-merror:0.00255\tvalidation_1-merror:0.52191\n",
      "[160]\tvalidation_0-merror:0.00250\tvalidation_1-merror:0.52135\n",
      "[161]\tvalidation_0-merror:0.00245\tvalidation_1-merror:0.52135\n",
      "[162]\tvalidation_0-merror:0.00240\tvalidation_1-merror:0.52135\n",
      "[163]\tvalidation_0-merror:0.00240\tvalidation_1-merror:0.52024\n",
      "[164]\tvalidation_0-merror:0.00235\tvalidation_1-merror:0.52080\n",
      "[165]\tvalidation_0-merror:0.00220\tvalidation_1-merror:0.52080\n",
      "[166]\tvalidation_0-merror:0.00220\tvalidation_1-merror:0.52135\n",
      "[167]\tvalidation_0-merror:0.00220\tvalidation_1-merror:0.52135\n",
      "[168]\tvalidation_0-merror:0.00220\tvalidation_1-merror:0.52302\n",
      "[169]\tvalidation_0-merror:0.00220\tvalidation_1-merror:0.52357\n",
      "[170]\tvalidation_0-merror:0.00210\tvalidation_1-merror:0.52468\n",
      "[171]\tvalidation_0-merror:0.00189\tvalidation_1-merror:0.52579\n",
      "[172]\tvalidation_0-merror:0.00184\tvalidation_1-merror:0.52468\n",
      "[173]\tvalidation_0-merror:0.00179\tvalidation_1-merror:0.52413\n",
      "[174]\tvalidation_0-merror:0.00174\tvalidation_1-merror:0.52413\n",
      "[175]\tvalidation_0-merror:0.00179\tvalidation_1-merror:0.52357\n",
      "[176]\tvalidation_0-merror:0.00174\tvalidation_1-merror:0.52357\n",
      "[177]\tvalidation_0-merror:0.00158\tvalidation_1-merror:0.52413\n",
      "[178]\tvalidation_0-merror:0.00153\tvalidation_1-merror:0.52468\n",
      "[179]\tvalidation_0-merror:0.00153\tvalidation_1-merror:0.52468\n",
      "[180]\tvalidation_0-merror:0.00153\tvalidation_1-merror:0.52357\n",
      "[181]\tvalidation_0-merror:0.00153\tvalidation_1-merror:0.52357\n",
      "[182]\tvalidation_0-merror:0.00133\tvalidation_1-merror:0.52357\n",
      "[183]\tvalidation_0-merror:0.00133\tvalidation_1-merror:0.52302\n",
      "[184]\tvalidation_0-merror:0.00128\tvalidation_1-merror:0.52302\n",
      "[185]\tvalidation_0-merror:0.00128\tvalidation_1-merror:0.52191\n",
      "[186]\tvalidation_0-merror:0.00128\tvalidation_1-merror:0.52302\n",
      "[187]\tvalidation_0-merror:0.00123\tvalidation_1-merror:0.52246\n",
      "[188]\tvalidation_0-merror:0.00123\tvalidation_1-merror:0.52135\n",
      "[189]\tvalidation_0-merror:0.00118\tvalidation_1-merror:0.52135\n",
      "[190]\tvalidation_0-merror:0.00107\tvalidation_1-merror:0.52246\n",
      "[191]\tvalidation_0-merror:0.00107\tvalidation_1-merror:0.52024\n",
      "[192]\tvalidation_0-merror:0.00107\tvalidation_1-merror:0.52024\n",
      "[193]\tvalidation_0-merror:0.00107\tvalidation_1-merror:0.52080\n",
      "[194]\tvalidation_0-merror:0.00097\tvalidation_1-merror:0.52080\n",
      "[195]\tvalidation_0-merror:0.00087\tvalidation_1-merror:0.51969\n",
      "[196]\tvalidation_0-merror:0.00087\tvalidation_1-merror:0.51969\n",
      "[197]\tvalidation_0-merror:0.00087\tvalidation_1-merror:0.51969\n",
      "[198]\tvalidation_0-merror:0.00082\tvalidation_1-merror:0.51858\n",
      "[199]\tvalidation_0-merror:0.00082\tvalidation_1-merror:0.51969\n",
      "[200]\tvalidation_0-merror:0.00082\tvalidation_1-merror:0.51969\n",
      "[201]\tvalidation_0-merror:0.00072\tvalidation_1-merror:0.51914\n",
      "[202]\tvalidation_0-merror:0.00072\tvalidation_1-merror:0.51803\n",
      "[203]\tvalidation_0-merror:0.00066\tvalidation_1-merror:0.51858\n",
      "[204]\tvalidation_0-merror:0.00066\tvalidation_1-merror:0.51969\n",
      "[205]\tvalidation_0-merror:0.00066\tvalidation_1-merror:0.52080\n",
      "[206]\tvalidation_0-merror:0.00066\tvalidation_1-merror:0.52024\n",
      "[207]\tvalidation_0-merror:0.00066\tvalidation_1-merror:0.51969\n",
      "[208]\tvalidation_0-merror:0.00066\tvalidation_1-merror:0.52024\n",
      "[209]\tvalidation_0-merror:0.00066\tvalidation_1-merror:0.52024\n",
      "[210]\tvalidation_0-merror:0.00061\tvalidation_1-merror:0.52080\n",
      "[211]\tvalidation_0-merror:0.00061\tvalidation_1-merror:0.52246\n",
      "[212]\tvalidation_0-merror:0.00056\tvalidation_1-merror:0.52246\n",
      "[213]\tvalidation_0-merror:0.00066\tvalidation_1-merror:0.52191\n",
      "[214]\tvalidation_0-merror:0.00061\tvalidation_1-merror:0.52080\n",
      "[215]\tvalidation_0-merror:0.00056\tvalidation_1-merror:0.52191\n",
      "[216]\tvalidation_0-merror:0.00056\tvalidation_1-merror:0.52302\n",
      "[217]\tvalidation_0-merror:0.00056\tvalidation_1-merror:0.52024\n",
      "[218]\tvalidation_0-merror:0.00056\tvalidation_1-merror:0.51969\n",
      "[219]\tvalidation_0-merror:0.00056\tvalidation_1-merror:0.51969\n",
      "[220]\tvalidation_0-merror:0.00056\tvalidation_1-merror:0.52024\n",
      "[221]\tvalidation_0-merror:0.00056\tvalidation_1-merror:0.52024\n",
      "[222]\tvalidation_0-merror:0.00051\tvalidation_1-merror:0.52080\n",
      "[223]\tvalidation_0-merror:0.00051\tvalidation_1-merror:0.51969\n",
      "[224]\tvalidation_0-merror:0.00046\tvalidation_1-merror:0.52024\n",
      "[225]\tvalidation_0-merror:0.00046\tvalidation_1-merror:0.52024\n",
      "[226]\tvalidation_0-merror:0.00046\tvalidation_1-merror:0.52024\n",
      "[227]\tvalidation_0-merror:0.00041\tvalidation_1-merror:0.51969\n",
      "[228]\tvalidation_0-merror:0.00041\tvalidation_1-merror:0.51969\n",
      "[229]\tvalidation_0-merror:0.00041\tvalidation_1-merror:0.51914\n",
      "[230]\tvalidation_0-merror:0.00036\tvalidation_1-merror:0.52024\n",
      "[231]\tvalidation_0-merror:0.00031\tvalidation_1-merror:0.52024\n",
      "[232]\tvalidation_0-merror:0.00031\tvalidation_1-merror:0.51858\n",
      "[233]\tvalidation_0-merror:0.00026\tvalidation_1-merror:0.51747\n",
      "[234]\tvalidation_0-merror:0.00026\tvalidation_1-merror:0.51636\n",
      "[235]\tvalidation_0-merror:0.00026\tvalidation_1-merror:0.51636\n",
      "[236]\tvalidation_0-merror:0.00026\tvalidation_1-merror:0.51525\n",
      "[237]\tvalidation_0-merror:0.00026\tvalidation_1-merror:0.51581\n",
      "[238]\tvalidation_0-merror:0.00026\tvalidation_1-merror:0.51692\n",
      "[239]\tvalidation_0-merror:0.00026\tvalidation_1-merror:0.51636\n",
      "[240]\tvalidation_0-merror:0.00026\tvalidation_1-merror:0.51581\n",
      "[241]\tvalidation_0-merror:0.00026\tvalidation_1-merror:0.51581\n",
      "[242]\tvalidation_0-merror:0.00026\tvalidation_1-merror:0.51414\n",
      "[243]\tvalidation_0-merror:0.00020\tvalidation_1-merror:0.51525\n",
      "[244]\tvalidation_0-merror:0.00020\tvalidation_1-merror:0.51414\n",
      "[245]\tvalidation_0-merror:0.00020\tvalidation_1-merror:0.51470\n",
      "[246]\tvalidation_0-merror:0.00020\tvalidation_1-merror:0.51303\n",
      "[247]\tvalidation_0-merror:0.00020\tvalidation_1-merror:0.51359\n",
      "[248]\tvalidation_0-merror:0.00020\tvalidation_1-merror:0.51248\n",
      "[249]\tvalidation_0-merror:0.00020\tvalidation_1-merror:0.51414\n",
      "[250]\tvalidation_0-merror:0.00020\tvalidation_1-merror:0.51359\n",
      "[251]\tvalidation_0-merror:0.00020\tvalidation_1-merror:0.51470\n",
      "[252]\tvalidation_0-merror:0.00020\tvalidation_1-merror:0.51470\n",
      "[253]\tvalidation_0-merror:0.00020\tvalidation_1-merror:0.51414\n",
      "[254]\tvalidation_0-merror:0.00020\tvalidation_1-merror:0.51303\n",
      "[255]\tvalidation_0-merror:0.00020\tvalidation_1-merror:0.51414\n",
      "[256]\tvalidation_0-merror:0.00020\tvalidation_1-merror:0.51359\n",
      "[257]\tvalidation_0-merror:0.00020\tvalidation_1-merror:0.51414\n",
      "[258]\tvalidation_0-merror:0.00015\tvalidation_1-merror:0.51525\n",
      "[259]\tvalidation_0-merror:0.00015\tvalidation_1-merror:0.51636\n",
      "[260]\tvalidation_0-merror:0.00015\tvalidation_1-merror:0.51692\n",
      "[261]\tvalidation_0-merror:0.00015\tvalidation_1-merror:0.51692\n",
      "[262]\tvalidation_0-merror:0.00015\tvalidation_1-merror:0.51692\n",
      "[263]\tvalidation_0-merror:0.00015\tvalidation_1-merror:0.51692\n",
      "[264]\tvalidation_0-merror:0.00015\tvalidation_1-merror:0.51581\n",
      "[265]\tvalidation_0-merror:0.00015\tvalidation_1-merror:0.51692\n",
      "[266]\tvalidation_0-merror:0.00015\tvalidation_1-merror:0.51581\n",
      "[267]\tvalidation_0-merror:0.00015\tvalidation_1-merror:0.51636\n",
      "[268]\tvalidation_0-merror:0.00015\tvalidation_1-merror:0.51581\n",
      "[269]\tvalidation_0-merror:0.00010\tvalidation_1-merror:0.51470\n",
      "[270]\tvalidation_0-merror:0.00010\tvalidation_1-merror:0.51692\n",
      "[271]\tvalidation_0-merror:0.00010\tvalidation_1-merror:0.51636\n",
      "[272]\tvalidation_0-merror:0.00010\tvalidation_1-merror:0.51636\n",
      "[273]\tvalidation_0-merror:0.00010\tvalidation_1-merror:0.51636\n",
      "[274]\tvalidation_0-merror:0.00010\tvalidation_1-merror:0.51692\n",
      "[275]\tvalidation_0-merror:0.00010\tvalidation_1-merror:0.51692\n",
      "[276]\tvalidation_0-merror:0.00010\tvalidation_1-merror:0.51692\n",
      "[277]\tvalidation_0-merror:0.00010\tvalidation_1-merror:0.51747\n",
      "[278]\tvalidation_0-merror:0.00010\tvalidation_1-merror:0.51747\n",
      "[279]\tvalidation_0-merror:0.00010\tvalidation_1-merror:0.51747\n",
      "[280]\tvalidation_0-merror:0.00010\tvalidation_1-merror:0.51858\n",
      "[281]\tvalidation_0-merror:0.00005\tvalidation_1-merror:0.51969\n",
      "[282]\tvalidation_0-merror:0.00005\tvalidation_1-merror:0.51914\n",
      "[283]\tvalidation_0-merror:0.00005\tvalidation_1-merror:0.51914\n",
      "[284]\tvalidation_0-merror:0.00005\tvalidation_1-merror:0.51858\n",
      "[285]\tvalidation_0-merror:0.00005\tvalidation_1-merror:0.51858\n",
      "[286]\tvalidation_0-merror:0.00005\tvalidation_1-merror:0.51803\n",
      "[287]\tvalidation_0-merror:0.00005\tvalidation_1-merror:0.51803\n",
      "[288]\tvalidation_0-merror:0.00005\tvalidation_1-merror:0.51803\n",
      "[289]\tvalidation_0-merror:0.00005\tvalidation_1-merror:0.51803\n",
      "[290]\tvalidation_0-merror:0.00005\tvalidation_1-merror:0.51803\n",
      "[291]\tvalidation_0-merror:0.00005\tvalidation_1-merror:0.51803\n",
      "[292]\tvalidation_0-merror:0.00005\tvalidation_1-merror:0.51692\n",
      "[293]\tvalidation_0-merror:0.00005\tvalidation_1-merror:0.51747\n",
      "[294]\tvalidation_0-merror:0.00005\tvalidation_1-merror:0.51692\n",
      "[295]\tvalidation_0-merror:0.00005\tvalidation_1-merror:0.51692\n",
      "[296]\tvalidation_0-merror:0.00005\tvalidation_1-merror:0.51692\n",
      "[297]\tvalidation_0-merror:0.00005\tvalidation_1-merror:0.51747\n",
      "[298]\tvalidation_0-merror:0.00005\tvalidation_1-merror:0.51692\n",
      "[299]\tvalidation_0-merror:0.00005\tvalidation_1-merror:0.51581\n",
      "[300]\tvalidation_0-merror:0.00005\tvalidation_1-merror:0.51636\n",
      "[301]\tvalidation_0-merror:0.00005\tvalidation_1-merror:0.51692\n",
      "[302]\tvalidation_0-merror:0.00005\tvalidation_1-merror:0.51692\n",
      "[303]\tvalidation_0-merror:0.00005\tvalidation_1-merror:0.51692\n",
      "[304]\tvalidation_0-merror:0.00005\tvalidation_1-merror:0.51636\n",
      "[305]\tvalidation_0-merror:0.00005\tvalidation_1-merror:0.51692\n",
      "[306]\tvalidation_0-merror:0.00005\tvalidation_1-merror:0.51747\n",
      "[307]\tvalidation_0-merror:0.00005\tvalidation_1-merror:0.51747\n",
      "[308]\tvalidation_0-merror:0.00005\tvalidation_1-merror:0.51914\n",
      "[309]\tvalidation_0-merror:0.00005\tvalidation_1-merror:0.51858\n",
      "[310]\tvalidation_0-merror:0.00005\tvalidation_1-merror:0.51858\n",
      "[311]\tvalidation_0-merror:0.00000\tvalidation_1-merror:0.51858\n",
      "[312]\tvalidation_0-merror:0.00000\tvalidation_1-merror:0.51858\n",
      "[313]\tvalidation_0-merror:0.00000\tvalidation_1-merror:0.51858\n",
      "[314]\tvalidation_0-merror:0.00000\tvalidation_1-merror:0.51747\n",
      "[315]\tvalidation_0-merror:0.00000\tvalidation_1-merror:0.51747\n",
      "[316]\tvalidation_0-merror:0.00000\tvalidation_1-merror:0.51803\n",
      "[317]\tvalidation_0-merror:0.00000\tvalidation_1-merror:0.51803\n",
      "[318]\tvalidation_0-merror:0.00000\tvalidation_1-merror:0.51914\n",
      "[319]\tvalidation_0-merror:0.00000\tvalidation_1-merror:0.51914\n",
      "[320]\tvalidation_0-merror:0.00000\tvalidation_1-merror:0.51858\n",
      "[321]\tvalidation_0-merror:0.00000\tvalidation_1-merror:0.51969\n",
      "[322]\tvalidation_0-merror:0.00000\tvalidation_1-merror:0.51858\n",
      "[323]\tvalidation_0-merror:0.00000\tvalidation_1-merror:0.52024\n",
      "[324]\tvalidation_0-merror:0.00000\tvalidation_1-merror:0.51969\n",
      "[325]\tvalidation_0-merror:0.00000\tvalidation_1-merror:0.51858\n",
      "[326]\tvalidation_0-merror:0.00000\tvalidation_1-merror:0.51914\n",
      "[327]\tvalidation_0-merror:0.00000\tvalidation_1-merror:0.51803\n",
      "[328]\tvalidation_0-merror:0.00000\tvalidation_1-merror:0.51803\n",
      "[329]\tvalidation_0-merror:0.00000\tvalidation_1-merror:0.51858\n",
      "[330]\tvalidation_0-merror:0.00000\tvalidation_1-merror:0.51969\n",
      "[331]\tvalidation_0-merror:0.00000\tvalidation_1-merror:0.51914\n",
      "[332]\tvalidation_0-merror:0.00000\tvalidation_1-merror:0.51969\n",
      "[333]\tvalidation_0-merror:0.00000\tvalidation_1-merror:0.52080\n",
      "[334]\tvalidation_0-merror:0.00000\tvalidation_1-merror:0.52024\n",
      "[335]\tvalidation_0-merror:0.00000\tvalidation_1-merror:0.52024\n",
      "[336]\tvalidation_0-merror:0.00000\tvalidation_1-merror:0.51914\n",
      "[337]\tvalidation_0-merror:0.00000\tvalidation_1-merror:0.51969\n",
      "[338]\tvalidation_0-merror:0.00000\tvalidation_1-merror:0.51969\n",
      "[339]\tvalidation_0-merror:0.00000\tvalidation_1-merror:0.51914\n",
      "[340]\tvalidation_0-merror:0.00000\tvalidation_1-merror:0.51858\n",
      "[341]\tvalidation_0-merror:0.00000\tvalidation_1-merror:0.51803\n",
      "[342]\tvalidation_0-merror:0.00000\tvalidation_1-merror:0.51969\n",
      "[343]\tvalidation_0-merror:0.00000\tvalidation_1-merror:0.52024\n",
      "[344]\tvalidation_0-merror:0.00000\tvalidation_1-merror:0.52024\n",
      "[345]\tvalidation_0-merror:0.00000\tvalidation_1-merror:0.52024\n",
      "[346]\tvalidation_0-merror:0.00000\tvalidation_1-merror:0.51969\n",
      "[347]\tvalidation_0-merror:0.00000\tvalidation_1-merror:0.52024\n",
      "[348]\tvalidation_0-merror:0.00000\tvalidation_1-merror:0.51969\n",
      "[349]\tvalidation_0-merror:0.00000\tvalidation_1-merror:0.51969\n",
      "[350]\tvalidation_0-merror:0.00000\tvalidation_1-merror:0.52080\n",
      "[351]\tvalidation_0-merror:0.00000\tvalidation_1-merror:0.52135\n",
      "[352]\tvalidation_0-merror:0.00000\tvalidation_1-merror:0.52024\n",
      "[353]\tvalidation_0-merror:0.00000\tvalidation_1-merror:0.52024\n",
      "[354]\tvalidation_0-merror:0.00000\tvalidation_1-merror:0.52080\n",
      "[355]\tvalidation_0-merror:0.00000\tvalidation_1-merror:0.52024\n",
      "[356]\tvalidation_0-merror:0.00000\tvalidation_1-merror:0.52080\n",
      "[357]\tvalidation_0-merror:0.00000\tvalidation_1-merror:0.52080\n",
      "[358]\tvalidation_0-merror:0.00000\tvalidation_1-merror:0.52135\n",
      "[359]\tvalidation_0-merror:0.00000\tvalidation_1-merror:0.52135\n",
      "[360]\tvalidation_0-merror:0.00000\tvalidation_1-merror:0.52135\n",
      "[361]\tvalidation_0-merror:0.00000\tvalidation_1-merror:0.52135\n",
      "[362]\tvalidation_0-merror:0.00000\tvalidation_1-merror:0.52080\n",
      "[363]\tvalidation_0-merror:0.00000\tvalidation_1-merror:0.52080\n",
      "[364]\tvalidation_0-merror:0.00000\tvalidation_1-merror:0.52080\n",
      "[365]\tvalidation_0-merror:0.00000\tvalidation_1-merror:0.52080\n",
      "[366]\tvalidation_0-merror:0.00000\tvalidation_1-merror:0.52080\n",
      "[367]\tvalidation_0-merror:0.00000\tvalidation_1-merror:0.52080\n",
      "[368]\tvalidation_0-merror:0.00000\tvalidation_1-merror:0.52135\n",
      "[369]\tvalidation_0-merror:0.00000\tvalidation_1-merror:0.52135\n",
      "[370]\tvalidation_0-merror:0.00000\tvalidation_1-merror:0.52135\n",
      "[371]\tvalidation_0-merror:0.00000\tvalidation_1-merror:0.52080\n",
      "[372]\tvalidation_0-merror:0.00000\tvalidation_1-merror:0.52191\n",
      "[373]\tvalidation_0-merror:0.00000\tvalidation_1-merror:0.52246\n",
      "[374]\tvalidation_0-merror:0.00000\tvalidation_1-merror:0.52246\n",
      "[375]\tvalidation_0-merror:0.00000\tvalidation_1-merror:0.52191\n",
      "[376]\tvalidation_0-merror:0.00000\tvalidation_1-merror:0.52191\n",
      "[377]\tvalidation_0-merror:0.00000\tvalidation_1-merror:0.52191\n",
      "[378]\tvalidation_0-merror:0.00000\tvalidation_1-merror:0.52191\n",
      "[379]\tvalidation_0-merror:0.00000\tvalidation_1-merror:0.52246\n",
      "[380]\tvalidation_0-merror:0.00000\tvalidation_1-merror:0.52246\n",
      "[381]\tvalidation_0-merror:0.00000\tvalidation_1-merror:0.52302\n",
      "[382]\tvalidation_0-merror:0.00000\tvalidation_1-merror:0.52246\n",
      "[383]\tvalidation_0-merror:0.00000\tvalidation_1-merror:0.52302\n",
      "[384]\tvalidation_0-merror:0.00000\tvalidation_1-merror:0.52357\n",
      "[385]\tvalidation_0-merror:0.00000\tvalidation_1-merror:0.52302\n",
      "[386]\tvalidation_0-merror:0.00000\tvalidation_1-merror:0.52135\n",
      "[387]\tvalidation_0-merror:0.00000\tvalidation_1-merror:0.52191\n",
      "[388]\tvalidation_0-merror:0.00000\tvalidation_1-merror:0.52191\n",
      "[389]\tvalidation_0-merror:0.00000\tvalidation_1-merror:0.52246\n",
      "[390]\tvalidation_0-merror:0.00000\tvalidation_1-merror:0.52191\n",
      "[391]\tvalidation_0-merror:0.00000\tvalidation_1-merror:0.52135\n",
      "[392]\tvalidation_0-merror:0.00000\tvalidation_1-merror:0.52135\n",
      "[393]\tvalidation_0-merror:0.00000\tvalidation_1-merror:0.52080\n",
      "[394]\tvalidation_0-merror:0.00000\tvalidation_1-merror:0.52024\n",
      "[395]\tvalidation_0-merror:0.00000\tvalidation_1-merror:0.52135\n",
      "[396]\tvalidation_0-merror:0.00000\tvalidation_1-merror:0.52080\n",
      "[397]\tvalidation_0-merror:0.00000\tvalidation_1-merror:0.52191\n",
      "[398]\tvalidation_0-merror:0.00000\tvalidation_1-merror:0.52302\n",
      "Stopping. Best iteration:\n",
      "[248]\tvalidation_0-merror:0.00020\tvalidation_1-merror:0.51248\n",
      "\n"
     ]
    }
   ],
   "source": [
    "# xgboost model\n",
    "boost = XGBClassifier(max_depth=15, colsample_bytree =1, min_child_weight = .2 ,gamma =0, max_delta_step = 1,  \n",
    "                      learning_rate=.05, n_estimators=10000, verbose = 1 , objective='multi:softprob')\n",
    "        \n",
    "eval_set = [(x_train_res,y_train_res),(x_test,y_test)] \n",
    "results_xg = boost.fit(x_train_res, y_train_res, eval_set = eval_set, verbose=True, early_stopping_rounds=150)"
   ]
  },
  {
   "cell_type": "code",
   "execution_count": 435,
   "metadata": {},
   "outputs": [
    {
     "name": "stdout",
     "output_type": "stream",
     "text": [
      "0.4875207986688852\n"
     ]
    },
    {
     "ename": "NameError",
     "evalue": "name 'accuracy_by_class' is not defined",
     "output_type": "error",
     "traceback": [
      "\u001b[0;31m---------------------------------------------------------------------------\u001b[0m",
      "\u001b[0;31mNameError\u001b[0m                                 Traceback (most recent call last)",
      "\u001b[0;32m<ipython-input-435-a4a38f480dd7>\u001b[0m in \u001b[0;36m<module>\u001b[0;34m\u001b[0m\n\u001b[1;32m      1\u001b[0m \u001b[0mprint\u001b[0m\u001b[0;34m(\u001b[0m\u001b[0maccuracy_score\u001b[0m\u001b[0;34m(\u001b[0m\u001b[0mresults_xg\u001b[0m\u001b[0;34m.\u001b[0m\u001b[0mpredict\u001b[0m\u001b[0;34m(\u001b[0m\u001b[0mx_test\u001b[0m\u001b[0;34m)\u001b[0m\u001b[0;34m,\u001b[0m \u001b[0my_test\u001b[0m\u001b[0;34m)\u001b[0m\u001b[0;34m)\u001b[0m\u001b[0;34m\u001b[0m\u001b[0;34m\u001b[0m\u001b[0m\n\u001b[0;32m----> 2\u001b[0;31m \u001b[0mprint\u001b[0m\u001b[0;34m(\u001b[0m\u001b[0maccuracy_by_class\u001b[0m\u001b[0;34m(\u001b[0m\u001b[0mresults_xg\u001b[0m\u001b[0;34m)\u001b[0m\u001b[0;34m)\u001b[0m\u001b[0;34m\u001b[0m\u001b[0;34m\u001b[0m\u001b[0m\n\u001b[0m",
      "\u001b[0;31mNameError\u001b[0m: name 'accuracy_by_class' is not defined"
     ]
    }
   ],
   "source": [
    "print(accuracy_score(results_xg.predict(x_test), y_test))\n",
    "print(accu_by_class(results_xg))"
   ]
  },
  {
   "cell_type": "markdown",
   "metadata": {},
   "source": [
    "## Support Vector Machine"
   ]
  },
  {
   "cell_type": "code",
   "execution_count": 390,
   "metadata": {},
   "outputs": [
    {
     "name": "stdout",
     "output_type": "stream",
     "text": [
      "[LibSVM]"
     ]
    }
   ],
   "source": [
    "lin_svm = svm.NuSVC(random_state = 42, verbose = 1)#, probability = True)\n",
    "results_svm = lin_svm.fit(x_train_res,y_train_res)\n",
    "accuracy = accuracy_score(results_svm.predict(x_test), y_test)"
   ]
  },
  {
   "cell_type": "code",
   "execution_count": 391,
   "metadata": {},
   "outputs": [
    {
     "data": {
      "text/plain": [
       "0.5402107598447032"
      ]
     },
     "execution_count": 391,
     "metadata": {},
     "output_type": "execute_result"
    }
   ],
   "source": [
    "print(accuracy_score(results_xg.predict(x_test), y_test))\n",
    "print(accu_by_class(results_svm))"
   ]
  },
  {
   "cell_type": "code",
   "execution_count": 431,
   "metadata": {},
   "outputs": [],
   "source": []
  },
  {
   "cell_type": "markdown",
   "metadata": {},
   "source": [
    "## XGBOOST accuracy by class plot"
   ]
  },
  {
   "cell_type": "code",
   "execution_count": 370,
   "metadata": {},
   "outputs": [
    {
     "data": {
      "image/png": "[encoded data removed]",
      "text/plain": [
       "<Figure size 432x288 with 1 Axes>"
      ]
     },
     "metadata": {
      "needs_background": "light"
     },
     "output_type": "display_data"
    }
   ],
   "source": [
    "plt.bar(['Class A-D','Class E', 'Class F', \"Class G\"],accu, color = 'Orange')\n",
    "plt.savefig('Accuray_per_class',dpi = 300, transparent = True)"
   ]
  },
  {
   "cell_type": "code",
   "execution_count": 265,
   "metadata": {},
   "outputs": [],
   "source": [
    "y_test.reset_index(inplace= True, drop = True)"
   ]
  },
  {
   "cell_type": "code",
   "execution_count": 302,
   "metadata": {},
   "outputs": [],
   "source": []
  },
  {
   "cell_type": "markdown",
   "metadata": {},
   "source": [
    "## XGBOOST feature importance plot"
   ]
  },
  {
   "cell_type": "code",
   "execution_count": 270,
   "metadata": {},
   "outputs": [],
   "source": [
    "imp = results_xg.feature_importances_"
   ]
  },
  {
   "cell_type": "code",
   "execution_count": 329,
   "metadata": {},
   "outputs": [
    {
     "data": {
      "text/plain": [
       "[0.13634087, 0.15995002, 0.16016737, 0.17139214, 0.17508388, 0.19706571]"
      ]
     },
     "execution_count": 329,
     "metadata": {},
     "output_type": "execute_result"
    }
   ],
   "source": [
    "sorted(imp)"
   ]
  },
  {
   "cell_type": "code",
   "execution_count": 433,
   "metadata": {},
   "outputs": [
    {
     "data": {
      "image/png": "[encoded data removed]",
      "text/plain": [
       "<Figure size 432x288 with 1 Axes>"
      ]
     },
     "metadata": {
      "needs_background": "light"
     },
     "output_type": "display_data"
    }
   ],
   "source": [
    "plt.barh(['Wind Spe','Temp', 'Long', \"Soil Temp\", 'Month','Ecoregion'],sorted(imp), color = 'Orange')\n",
    "plt.yticks(rotation=30)\n",
    "plt.savefig('feature_importance',dpi = 300, transparent = True, bbox_inches='tight')"
   ]
  },
  {
   "cell_type": "code",
   "execution_count": null,
   "metadata": {},
   "outputs": [],
   "source": []
  }
 ],
 "metadata": {
  "kernelspec": {
   "display_name": "Python 3",
   "language": "python",
   "name": "python3"
  },
  "language_info": {
   "codemirror_mode": {
    "name": "ipython",
    "version": 3
   },
   "file_extension": ".py",
   "mimetype": "text/x-python",
   "name": "python",
   "nbconvert_exporter": "python",
   "pygments_lexer": "ipython3",
   "version": "3.7.6"
  }
 },
 "nbformat": 4,
 "nbformat_minor": 4
}
