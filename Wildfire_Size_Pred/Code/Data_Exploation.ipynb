{
 "cells": [
  {
   "cell_type": "markdown",
   "metadata": {},
   "source": [
    "## EDA NOtebook"
   ]
  },
  {
   "cell_type": "code",
   "execution_count": 261,
   "metadata": {},
   "outputs": [],
   "source": [
    "import numpy as np\n",
    "import pandas as pd\n",
    "import geopandas as gpd\n",
    "import shapely\n",
    "from shapely.geometry import Point\n",
    "from shapely.geometry import shape \n",
    "from shapely.geometry import Polygon\n",
    "from descartes import PolygonPatch\n",
    "from matplotlib import pyplot\n",
    "import matplotlib.pyplot as plt\n",
    "\n",
    "import cfgrib\n",
    "from collections import Counter\n",
    "import pickle"
   ]
  },
  {
   "cell_type": "code",
   "execution_count": 408,
   "metadata": {},
   "outputs": [
    {
     "data": {
      "text/html": [
       "<div>\n",
       "<style scoped>\n",
       "    .dataframe tbody tr th:only-of-type {\n",
       "        vertical-align: middle;\n",
       "    }\n",
       "\n",
       "    .dataframe tbody tr th {\n",
       "        vertical-align: top;\n",
       "    }\n",
       "\n",
       "    .dataframe thead th {\n",
       "        text-align: right;\n",
       "    }\n",
       "</style>\n",
       "<table border=\"1\" class=\"dataframe\">\n",
       "  <thead>\n",
       "    <tr style=\"text-align: right;\">\n",
       "      <th></th>\n",
       "      <th>Unnamed: 0</th>\n",
       "      <th>ALARM_DATE</th>\n",
       "      <th>GIS_ACRES</th>\n",
       "      <th>long</th>\n",
       "      <th>lat</th>\n",
       "      <th>Eco_Region</th>\n",
       "      <th>u10</th>\n",
       "      <th>v10</th>\n",
       "      <th>t2m</th>\n",
       "      <th>stl1</th>\n",
       "      <th>Classes</th>\n",
       "    </tr>\n",
       "  </thead>\n",
       "  <tbody>\n",
       "    <tr>\n",
       "      <th>0</th>\n",
       "      <td>0</td>\n",
       "      <td>2007-10-21</td>\n",
       "      <td>25.73670</td>\n",
       "      <td>-118.496607</td>\n",
       "      <td>34.381640</td>\n",
       "      <td>6</td>\n",
       "      <td>-2.150987</td>\n",
       "      <td>-4.989490</td>\n",
       "      <td>287.876770</td>\n",
       "      <td>288.388916</td>\n",
       "      <td>0</td>\n",
       "    </tr>\n",
       "    <tr>\n",
       "      <th>1</th>\n",
       "      <td>1</td>\n",
       "      <td>2007-10-22</td>\n",
       "      <td>2824.88000</td>\n",
       "      <td>-118.619628</td>\n",
       "      <td>34.405067</td>\n",
       "      <td>6</td>\n",
       "      <td>-3.168478</td>\n",
       "      <td>-4.262221</td>\n",
       "      <td>291.141541</td>\n",
       "      <td>290.155029</td>\n",
       "      <td>2</td>\n",
       "    </tr>\n",
       "    <tr>\n",
       "      <th>2</th>\n",
       "      <td>2</td>\n",
       "      <td>2007-10-20</td>\n",
       "      <td>58410.30000</td>\n",
       "      <td>-118.757048</td>\n",
       "      <td>34.499173</td>\n",
       "      <td>6</td>\n",
       "      <td>0.252504</td>\n",
       "      <td>-2.009733</td>\n",
       "      <td>287.955566</td>\n",
       "      <td>287.808228</td>\n",
       "      <td>3</td>\n",
       "    </tr>\n",
       "    <tr>\n",
       "      <th>3</th>\n",
       "      <td>3</td>\n",
       "      <td>2007-09-11</td>\n",
       "      <td>172.21500</td>\n",
       "      <td>-118.063284</td>\n",
       "      <td>34.506141</td>\n",
       "      <td>4</td>\n",
       "      <td>0.073152</td>\n",
       "      <td>0.294251</td>\n",
       "      <td>295.471497</td>\n",
       "      <td>294.271423</td>\n",
       "      <td>0</td>\n",
       "    </tr>\n",
       "    <tr>\n",
       "      <th>4</th>\n",
       "      <td>4</td>\n",
       "      <td>2007-05-19</td>\n",
       "      <td>2373.84000</td>\n",
       "      <td>-118.812542</td>\n",
       "      <td>34.758866</td>\n",
       "      <td>6</td>\n",
       "      <td>-0.783942</td>\n",
       "      <td>0.899935</td>\n",
       "      <td>288.027161</td>\n",
       "      <td>288.846619</td>\n",
       "      <td>2</td>\n",
       "    </tr>\n",
       "    <tr>\n",
       "      <th>...</th>\n",
       "      <td>...</td>\n",
       "      <td>...</td>\n",
       "      <td>...</td>\n",
       "      <td>...</td>\n",
       "      <td>...</td>\n",
       "      <td>...</td>\n",
       "      <td>...</td>\n",
       "      <td>...</td>\n",
       "      <td>...</td>\n",
       "      <td>...</td>\n",
       "      <td>...</td>\n",
       "    </tr>\n",
       "    <tr>\n",
       "      <th>9010</th>\n",
       "      <td>9010</td>\n",
       "      <td>2019-10-10</td>\n",
       "      <td>80.32770</td>\n",
       "      <td>-118.959240</td>\n",
       "      <td>34.148530</td>\n",
       "      <td>6</td>\n",
       "      <td>-1.054124</td>\n",
       "      <td>1.073116</td>\n",
       "      <td>290.747437</td>\n",
       "      <td>293.034363</td>\n",
       "      <td>0</td>\n",
       "    </tr>\n",
       "    <tr>\n",
       "      <th>9011</th>\n",
       "      <td>9011</td>\n",
       "      <td>2019-10-21</td>\n",
       "      <td>42.28260</td>\n",
       "      <td>-118.553277</td>\n",
       "      <td>34.059152</td>\n",
       "      <td>6</td>\n",
       "      <td>-0.477139</td>\n",
       "      <td>-2.543455</td>\n",
       "      <td>290.651184</td>\n",
       "      <td>290.919922</td>\n",
       "      <td>0</td>\n",
       "    </tr>\n",
       "    <tr>\n",
       "      <th>9012</th>\n",
       "      <td>9012</td>\n",
       "      <td>2019-10-30</td>\n",
       "      <td>6.29773</td>\n",
       "      <td>-118.674104</td>\n",
       "      <td>34.150865</td>\n",
       "      <td>6</td>\n",
       "      <td>-3.460055</td>\n",
       "      <td>-4.287656</td>\n",
       "      <td>284.759064</td>\n",
       "      <td>286.267578</td>\n",
       "      <td>0</td>\n",
       "    </tr>\n",
       "    <tr>\n",
       "      <th>9013</th>\n",
       "      <td>9013</td>\n",
       "      <td>2019-10-28</td>\n",
       "      <td>8.48267</td>\n",
       "      <td>-118.695438</td>\n",
       "      <td>34.148867</td>\n",
       "      <td>6</td>\n",
       "      <td>-1.826030</td>\n",
       "      <td>-3.613246</td>\n",
       "      <td>286.134644</td>\n",
       "      <td>287.730652</td>\n",
       "      <td>0</td>\n",
       "    </tr>\n",
       "    <tr>\n",
       "      <th>9014</th>\n",
       "      <td>9014</td>\n",
       "      <td>2019-10-10</td>\n",
       "      <td>8799.33000</td>\n",
       "      <td>-118.516473</td>\n",
       "      <td>34.321859</td>\n",
       "      <td>6</td>\n",
       "      <td>-1.864793</td>\n",
       "      <td>-0.233708</td>\n",
       "      <td>284.152466</td>\n",
       "      <td>284.859192</td>\n",
       "      <td>3</td>\n",
       "    </tr>\n",
       "  </tbody>\n",
       "</table>\n",
       "<p>9015 rows × 11 columns</p>\n",
       "</div>"
      ],
      "text/plain": [
       "      Unnamed: 0  ALARM_DATE    GIS_ACRES        long        lat  Eco_Region  \\\n",
       "0              0  2007-10-21     25.73670 -118.496607  34.381640           6   \n",
       "1              1  2007-10-22   2824.88000 -118.619628  34.405067           6   \n",
       "2              2  2007-10-20  58410.30000 -118.757048  34.499173           6   \n",
       "3              3  2007-09-11    172.21500 -118.063284  34.506141           4   \n",
       "4              4  2007-05-19   2373.84000 -118.812542  34.758866           6   \n",
       "...          ...         ...          ...         ...        ...         ...   \n",
       "9010        9010  2019-10-10     80.32770 -118.959240  34.148530           6   \n",
       "9011        9011  2019-10-21     42.28260 -118.553277  34.059152           6   \n",
       "9012        9012  2019-10-30      6.29773 -118.674104  34.150865           6   \n",
       "9013        9013  2019-10-28      8.48267 -118.695438  34.148867           6   \n",
       "9014        9014  2019-10-10   8799.33000 -118.516473  34.321859           6   \n",
       "\n",
       "           u10       v10         t2m        stl1  Classes  \n",
       "0    -2.150987 -4.989490  287.876770  288.388916        0  \n",
       "1    -3.168478 -4.262221  291.141541  290.155029        2  \n",
       "2     0.252504 -2.009733  287.955566  287.808228        3  \n",
       "3     0.073152  0.294251  295.471497  294.271423        0  \n",
       "4    -0.783942  0.899935  288.027161  288.846619        2  \n",
       "...        ...       ...         ...         ...      ...  \n",
       "9010 -1.054124  1.073116  290.747437  293.034363        0  \n",
       "9011 -0.477139 -2.543455  290.651184  290.919922        0  \n",
       "9012 -3.460055 -4.287656  284.759064  286.267578        0  \n",
       "9013 -1.826030 -3.613246  286.134644  287.730652        0  \n",
       "9014 -1.864793 -0.233708  284.152466  284.859192        3  \n",
       "\n",
       "[9015 rows x 11 columns]"
      ]
     },
     "execution_count": 408,
     "metadata": {},
     "output_type": "execute_result"
    }
   ],
   "source": [
    "## load in data from data prpocessing\n",
    "fire_data = pd.read_csv('Fire_regions_w_r')\n",
    "fire_data"
   ]
  },
  {
   "cell_type": "code",
   "execution_count": 265,
   "metadata": {},
   "outputs": [],
   "source": [
    "## load iin shapefiles\n",
    "eco_regions_shape_map_path = 'eco_regions_qgis_l4.shp'\n",
    "eco_regions_shape_map = gpd.read_file(eco_regions_shape_map_path)\n",
    "\n",
    "cal_fires_shape_map_path = 'Cal_fires.shp'\n",
    "cal_fires_shape_map = gpd.read_file(cal_fires_shape_map_path)"
   ]
  },
  {
   "cell_type": "markdown",
   "metadata": {},
   "source": [
    "### List of questions to ask/ visulations needed to understand data \n",
    "\n",
    "    - Fires by date\n",
    "    - Fires by date by class\n",
    "    - Fires per ecoregion\n",
    "    - Fires per ecoregion as a ratio of total area (cal area = 163,696 square miles (423,970 km2))\n",
    "    - Large fires per eco region per class as a ratio of total area \n",
    "    - make an average across all fires than look at how far the classes devaite in distance from that average "
   ]
  },
  {
   "cell_type": "code",
   "execution_count": 9,
   "metadata": {},
   "outputs": [
    {
     "data": {
      "text/plain": [
       "409597.0401913525"
      ]
     },
     "execution_count": 9,
     "metadata": {},
     "output_type": "execute_result"
    }
   ],
   "source": [
    "## look at area of shape files\n",
    "sum(eco_regions_shape_map.Shape_Area.tolist())/1000000"
   ]
  },
  {
   "cell_type": "markdown",
   "metadata": {},
   "source": [
    "## Histogram Fire Sizes"
   ]
  },
  {
   "cell_type": "code",
   "execution_count": 306,
   "metadata": {},
   "outputs": [
    {
     "data": {
      "text/plain": [
       "(array([8.118e+03, 3.220e+02, 1.430e+02, 8.800e+01, 5.600e+01, 4.600e+01,\n",
       "        3.000e+01, 2.200e+01, 1.800e+01, 1.500e+01, 1.300e+01, 1.000e+01,\n",
       "        1.000e+01, 1.100e+01, 1.100e+01, 1.100e+01, 6.000e+00, 6.000e+00,\n",
       "        4.000e+00, 8.000e+00, 4.000e+00, 2.000e+00, 4.000e+00, 2.000e+00,\n",
       "        4.000e+00, 7.000e+00, 2.000e+00, 3.000e+00, 1.000e+00, 0.000e+00,\n",
       "        3.000e+00, 2.000e+00, 1.000e+00, 3.000e+00, 1.000e+00, 1.000e+00,\n",
       "        3.000e+00, 1.000e+00, 2.000e+00, 1.000e+00, 0.000e+00, 0.000e+00,\n",
       "        2.000e+00, 0.000e+00, 0.000e+00, 0.000e+00, 0.000e+00, 0.000e+00,\n",
       "        1.000e+00, 1.000e+00, 0.000e+00, 0.000e+00, 2.000e+00, 1.000e+00,\n",
       "        0.000e+00, 0.000e+00, 0.000e+00, 0.000e+00, 0.000e+00, 1.000e+00,\n",
       "        1.000e+00, 0.000e+00, 0.000e+00, 0.000e+00, 3.000e+00, 1.000e+00,\n",
       "        0.000e+00, 0.000e+00, 0.000e+00, 0.000e+00, 0.000e+00, 0.000e+00,\n",
       "        0.000e+00, 0.000e+00, 0.000e+00, 0.000e+00, 0.000e+00, 0.000e+00,\n",
       "        0.000e+00, 0.000e+00, 0.000e+00, 0.000e+00, 0.000e+00, 0.000e+00,\n",
       "        0.000e+00, 0.000e+00, 0.000e+00, 0.000e+00, 0.000e+00, 0.000e+00,\n",
       "        0.000e+00, 1.000e+00, 0.000e+00, 0.000e+00, 0.000e+00, 1.000e+00,\n",
       "        0.000e+00, 0.000e+00, 0.000e+00, 0.000e+00, 0.000e+00, 0.000e+00,\n",
       "        1.000e+00, 0.000e+00, 0.000e+00, 0.000e+00, 0.000e+00, 0.000e+00,\n",
       "        1.000e+00, 0.000e+00, 0.000e+00, 0.000e+00, 0.000e+00, 0.000e+00,\n",
       "        0.000e+00, 0.000e+00, 0.000e+00, 0.000e+00, 0.000e+00, 0.000e+00,\n",
       "        0.000e+00, 0.000e+00, 0.000e+00, 0.000e+00, 0.000e+00, 1.000e+00,\n",
       "        0.000e+00, 0.000e+00, 0.000e+00, 0.000e+00, 0.000e+00, 0.000e+00,\n",
       "        0.000e+00, 0.000e+00, 0.000e+00, 0.000e+00, 0.000e+00, 0.000e+00,\n",
       "        0.000e+00, 0.000e+00, 0.000e+00, 0.000e+00, 0.000e+00, 0.000e+00,\n",
       "        0.000e+00, 0.000e+00, 0.000e+00, 0.000e+00, 0.000e+00, 0.000e+00,\n",
       "        0.000e+00, 0.000e+00, 0.000e+00, 0.000e+00, 0.000e+00, 0.000e+00,\n",
       "        0.000e+00, 0.000e+00, 0.000e+00, 0.000e+00, 0.000e+00, 0.000e+00,\n",
       "        0.000e+00, 1.000e+00, 0.000e+00, 0.000e+00, 0.000e+00, 0.000e+00,\n",
       "        0.000e+00, 0.000e+00, 0.000e+00, 0.000e+00, 0.000e+00, 0.000e+00,\n",
       "        0.000e+00, 0.000e+00, 0.000e+00, 0.000e+00, 0.000e+00, 0.000e+00,\n",
       "        0.000e+00, 0.000e+00, 0.000e+00, 0.000e+00, 0.000e+00, 0.000e+00,\n",
       "        0.000e+00, 0.000e+00, 0.000e+00, 0.000e+00, 0.000e+00, 0.000e+00,\n",
       "        0.000e+00, 0.000e+00, 0.000e+00, 0.000e+00, 0.000e+00, 0.000e+00,\n",
       "        0.000e+00, 1.000e+00]),\n",
       " array([     0.  ,   2505.41,   5010.82,   7516.23,  10021.64,  12527.05,\n",
       "         15032.46,  17537.87,  20043.28,  22548.69,  25054.1 ,  27559.51,\n",
       "         30064.92,  32570.33,  35075.74,  37581.15,  40086.56,  42591.97,\n",
       "         45097.38,  47602.79,  50108.2 ,  52613.61,  55119.02,  57624.43,\n",
       "         60129.84,  62635.25,  65140.66,  67646.07,  70151.48,  72656.89,\n",
       "         75162.3 ,  77667.71,  80173.12,  82678.53,  85183.94,  87689.35,\n",
       "         90194.76,  92700.17,  95205.58,  97710.99, 100216.4 , 102721.81,\n",
       "        105227.22, 107732.63, 110238.04, 112743.45, 115248.86, 117754.27,\n",
       "        120259.68, 122765.09, 125270.5 , 127775.91, 130281.32, 132786.73,\n",
       "        135292.14, 137797.55, 140302.96, 142808.37, 145313.78, 147819.19,\n",
       "        150324.6 , 152830.01, 155335.42, 157840.83, 160346.24, 162851.65,\n",
       "        165357.06, 167862.47, 170367.88, 172873.29, 175378.7 , 177884.11,\n",
       "        180389.52, 182894.93, 185400.34, 187905.75, 190411.16, 192916.57,\n",
       "        195421.98, 197927.39, 200432.8 , 202938.21, 205443.62, 207949.03,\n",
       "        210454.44, 212959.85, 215465.26, 217970.67, 220476.08, 222981.49,\n",
       "        225486.9 , 227992.31, 230497.72, 233003.13, 235508.54, 238013.95,\n",
       "        240519.36, 243024.77, 245530.18, 248035.59, 250541.  , 253046.41,\n",
       "        255551.82, 258057.23, 260562.64, 263068.05, 265573.46, 268078.87,\n",
       "        270584.28, 273089.69, 275595.1 , 278100.51, 280605.92, 283111.33,\n",
       "        285616.74, 288122.15, 290627.56, 293132.97, 295638.38, 298143.79,\n",
       "        300649.2 , 303154.61, 305660.02, 308165.43, 310670.84, 313176.25,\n",
       "        315681.66, 318187.07, 320692.48, 323197.89, 325703.3 , 328208.71,\n",
       "        330714.12, 333219.53, 335724.94, 338230.35, 340735.76, 343241.17,\n",
       "        345746.58, 348251.99, 350757.4 , 353262.81, 355768.22, 358273.63,\n",
       "        360779.04, 363284.45, 365789.86, 368295.27, 370800.68, 373306.09,\n",
       "        375811.5 , 378316.91, 380822.32, 383327.73, 385833.14, 388338.55,\n",
       "        390843.96, 393349.37, 395854.78, 398360.19, 400865.6 , 403371.01,\n",
       "        405876.42, 408381.83, 410887.24, 413392.65, 415898.06, 418403.47,\n",
       "        420908.88, 423414.29, 425919.7 , 428425.11, 430930.52, 433435.93,\n",
       "        435941.34, 438446.75, 440952.16, 443457.57, 445962.98, 448468.39,\n",
       "        450973.8 , 453479.21, 455984.62, 458490.03, 460995.44, 463500.85,\n",
       "        466006.26, 468511.67, 471017.08, 473522.49, 476027.9 , 478533.31,\n",
       "        481038.72, 483544.13, 486049.54, 488554.95, 491060.36, 493565.77,\n",
       "        496071.18, 498576.59, 501082.  ]),\n",
       " <a list of 200 Patch objects>)"
      ]
     },
     "execution_count": 306,
     "metadata": {},
     "output_type": "execute_result"
    },
    {
     "data": {
      "image/png": "[encoded data removed]",
      "text/plain": [
       "<Figure size 432x288 with 1 Axes>"
      ]
     },
     "metadata": {
      "needs_background": "light"
     },
     "output_type": "display_data"
    }
   ],
   "source": [
    "fire_size = fire_data.GIS_ACRES.tolist()\n",
    "fire_data[fire_data['GIS_ACRES'] > 10000]\n",
    "plt.hist(fire_size, bins = 200)"
   ]
  },
  {
   "cell_type": "markdown",
   "metadata": {},
   "source": [
    "## Fires by Date"
   ]
  },
  {
   "cell_type": "code",
   "execution_count": 20,
   "metadata": {},
   "outputs": [],
   "source": [
    "dates = fire_data.ALARM_DATE\n",
    "dates_months = []\n",
    "for i in dates:\n",
    "    dates_months.append(int(i[5:7]))"
   ]
  },
  {
   "cell_type": "code",
   "execution_count": 45,
   "metadata": {},
   "outputs": [
    {
     "name": "stdout",
     "output_type": "stream",
     "text": [
      "dict_keys(['10', '09', '05', '07', '08', '06'])\n",
      "dict_values([732, 1347, 720, 2418, 2062, 1736])\n"
     ]
    }
   ],
   "source": [
    "print(Counter(dates_months).keys()) # months\n",
    "print(Counter(dates_months).values()) # counts "
   ]
  },
  {
   "cell_type": "code",
   "execution_count": 385,
   "metadata": {},
   "outputs": [
    {
     "data": {
      "image/png": "[encoded data removed]",
      "text/plain": [
       "<Figure size 432x288 with 1 Axes>"
      ]
     },
     "metadata": {
      "needs_background": "light"
     },
     "output_type": "display_data"
    }
   ],
   "source": [
    "# Plotting fires by month\n",
    "months = ['May','June','July','August','September','October']\n",
    "fires_per_month = [720,1736,2418,2062,1347,732]\n",
    "plt.bar(months, fires_per_month, color = 'orange')\n",
    "plt.savefig('Fires_by_month',dpi = 300, transparent = True)"
   ]
  },
  {
   "cell_type": "markdown",
   "metadata": {},
   "source": [
    "## Fires Per Ecoregion"
   ]
  },
  {
   "cell_type": "code",
   "execution_count": 369,
   "metadata": {},
   "outputs": [],
   "source": [
    "eco_region = fire_data.Eco_Region.tolist()"
   ]
  },
  {
   "cell_type": "code",
   "execution_count": 70,
   "metadata": {},
   "outputs": [],
   "source": [
    "eco_regions_types = list(Counter(eco_region).keys()) # ecoregion\n",
    "eco_regions_counts = list(Counter(eco_region).values()) # eco region counts\n",
    "eco_regions_types\n",
    "# converting ecoregions into 1-13 count\n",
    "eco_regions_types_conv = [4,2,10,7,5,1,13,3,6,8,9,12,11]"
   ]
  },
  {
   "cell_type": "code",
   "execution_count": 71,
   "metadata": {},
   "outputs": [
    {
     "data": {
      "text/plain": [
       "<BarContainer object of 13 artists>"
      ]
     },
     "execution_count": 71,
     "metadata": {},
     "output_type": "execute_result"
    },
    {
     "data": {
      "image/png": "[encoded data removed]",
      "text/plain": [
       "<Figure size 432x288 with 1 Axes>"
      ]
     },
     "metadata": {
      "needs_background": "light"
     },
     "output_type": "display_data"
    }
   ],
   "source": [
    "plt.bar(eco_regions_types_conv, eco_regions_counts)"
   ]
  },
  {
   "cell_type": "markdown",
   "metadata": {},
   "source": [
    "## Fires Per ECoregion per area "
   ]
  },
  {
   "cell_type": "code",
   "execution_count": 75,
   "metadata": {},
   "outputs": [],
   "source": [
    "eco_region_classes = pickle.load( open( \"eco_region_classes\", \"rb\" ) )"
   ]
  },
  {
   "cell_type": "code",
   "execution_count": 77,
   "metadata": {},
   "outputs": [],
   "source": [
    "eco_regions_shape_map['Base_Regions'] = eco_region_classes"
   ]
  },
  {
   "cell_type": "code",
   "execution_count": 367,
   "metadata": {},
   "outputs": [],
   "source": [
    "## getting area per ecoregion\n",
    "area_list = eco_regions_shape_map.Shape_Area.tolist()\n",
    "area1 = 0\n",
    "area2 = 0\n",
    "area3 = 0\n",
    "area4 = 0\n",
    "area5 = 0\n",
    "area6 = 0\n",
    "area7 = 0\n",
    "area8 = 0\n",
    "area9 = 0\n",
    "area10 = 0\n",
    "area11 = 0\n",
    "area12 = 0\n",
    "area13 = 0\n",
    "for i in range(len(eco_regions_shape_map)):\n",
    "    if int(eco_region_classes[i]) == 1:\n",
    "         area1 += area_list[i]/1000000\n",
    "    elif int(eco_region_classes[i]) == 4:\n",
    "         area2 += area_list[i]/1000000\n",
    "    elif int(eco_region_classes[i]) == 5:\n",
    "         area3 += area_list[i]/1000000\n",
    "    elif int(eco_region_classes[i]) == 6:\n",
    "         area4 += area_list[i]/1000000\n",
    "    elif int(eco_region_classes[i]) == 7:\n",
    "         area5 += area_list[i]/1000000\n",
    "    elif int(eco_region_classes[i]) == 8:\n",
    "         area6 += area_list[i]/1000000\n",
    "    elif int(eco_region_classes[i]) == 9:\n",
    "         area7 += area_list[i]/1000000\n",
    "    elif int(eco_region_classes[i]) == 13:\n",
    "         area8 += area_list[i]/1000000\n",
    "    elif int(eco_region_classes[i]) == 14:\n",
    "         area9 += area_list[i]/1000000\n",
    "    elif int(eco_region_classes[i]) == 78:\n",
    "         area10 += area_list[i]/1000000\n",
    "    elif int(eco_region_classes[i]) == 80:\n",
    "         area11 += area_list[i]/1000000\n",
    "    elif int(eco_region_classes[i]) == 81:\n",
    "         area12 += area_list[i]/1000000\n",
    "    elif int(eco_region_classes[i]) == 85:\n",
    "         area13 += area_list[i]/1000000"
   ]
  },
  {
   "cell_type": "code",
   "execution_count": 375,
   "metadata": {},
   "outputs": [
    {
     "name": "stdout",
     "output_type": "stream",
     "text": [
      "[6, 4, 78, 9, 7, 1, 85, 5, 8, 13, 14, 81, 80]\n",
      "[2226, 371, 954, 209, 1114, 157, 1768, 1260, 626, 112, 81, 87, 50]\n"
     ]
    }
   ],
   "source": [
    "eco_regions_counts = list(Counter(eco_region).values())\n",
    "print(list(Counter(eco_region).keys())) \n",
    "print(eco_regions_counts)\n",
    "eco_counts_ordered = [209,371,1260,2226,1114,626,209,112,81,954,50,87,1768]"
   ]
  },
  {
   "cell_type": "code",
   "execution_count": 92,
   "metadata": {},
   "outputs": [],
   "source": [
    "# [4,2,10,7,5,1,13,3,6,8,9,12,11]\n",
    "eco_region_areas = [76678.7199, 13899.7443, 32779.1236, 17660.1209, 46490.2030, \n",
    "                    13328.3889, 20955.4590, 52119.9807, 15837.8427, 12591.7992, \n",
    "                    74772.2336, 28521.1121, 3962.3117]"
   ]
  },
  {
   "cell_type": "code",
   "execution_count": 95,
   "metadata": {},
   "outputs": [],
   "source": [
    "eco_regions_fires_per_area = []\n",
    "for i in range(len(eco_region_areas)):\n",
    "    area_per = eco_regions_counts[i]/eco_region_areas[i]\n",
    "    eco_regions_fires_per_area.append(area_per)"
   ]
  },
  {
   "cell_type": "code",
   "execution_count": 96,
   "metadata": {},
   "outputs": [
    {
     "data": {
      "text/plain": [
       "<BarContainer object of 13 artists>"
      ]
     },
     "execution_count": 96,
     "metadata": {},
     "output_type": "execute_result"
    },
    {
     "data": {
      "image/png": "[encoded data removed]",
      "text/plain": [
       "<Figure size 432x288 with 1 Axes>"
      ]
     },
     "metadata": {
      "needs_background": "light"
     },
     "output_type": "display_data"
    }
   ],
   "source": [
    "plt.bar(eco_regions_types_conv, eco_regions_fires_per_area)"
   ]
  },
  {
   "cell_type": "code",
   "execution_count": 344,
   "metadata": {},
   "outputs": [],
   "source": [
    "regions = sorted(fire_data.Eco_Region.unique())\n",
    "regions1 = fire_data.Eco_Region\n",
    "eco_region3_count = []\n",
    "count = 0\n",
    "for i in regions:\n",
    "    for j in range(len(fire_data)):\n",
    "        if classes[j] == 3 and regions1[j] == i:\n",
    "             #fire_years.append(fire_classes[k])\n",
    "            count += 1\n",
    "    eco_region3_count.append(count)\n",
    "    count = 0\n",
    "    "
   ]
  },
  {
   "cell_type": "code",
   "execution_count": 392,
   "metadata": {},
   "outputs": [
    {
     "name": "stdout",
     "output_type": "stream",
     "text": [
      "[19, 28, 64, 150, 59, 52, 19, 14, 5, 52, 6, 5, 102]\n",
      "575\n",
      "0.5495652173913044\n",
      "0.8295652173913044\n"
     ]
    },
    {
     "data": {
      "image/png": "[encoded data removed]",
      "text/plain": [
       "<Figure size 432x288 with 1 Axes>"
      ]
     },
     "metadata": {
      "needs_background": "light"
     },
     "output_type": "display_data"
    }
   ],
   "source": [
    "print(eco_region3_count)\n",
    "print(sum(eco_region3_count))\n",
    "print(316/575)\n",
    "print(477/575)\n",
    "list1 = [1,2,3,4,5,6,7,8,9,10,11,12,13]\n",
    "plt.bar(list1,eco_region3_count, color = 'orange')\n",
    "plt.savefig('Large_Fires_by_eco_region',dpi = 300, transparent = True)"
   ]
  },
  {
   "cell_type": "code",
   "execution_count": 352,
   "metadata": {},
   "outputs": [],
   "source": [
    "eco_regions_fires_per_area3 = []\n",
    "for i in range(len(eco_region_areas)):\n",
    "    area_per = eco_region3_count[i]/eco_region_areas[i]\n",
    "    eco_regions_fires_per_area3.append(area_per)"
   ]
  },
  {
   "cell_type": "code",
   "execution_count": 391,
   "metadata": {},
   "outputs": [
    {
     "data": {
      "image/png": "[encoded data removed]",
      "text/plain": [
       "<Figure size 432x288 with 1 Axes>"
      ]
     },
     "metadata": {
      "needs_background": "light"
     },
     "output_type": "display_data"
    }
   ],
   "source": [
    "plt.bar(list1,eco_regions_fires_per_area3, color = 'Orange')\n",
    "plt.savefig('Large_Fires_by_eco_region_per_area',dpi = 300, transparent = True)"
   ]
  },
  {
   "cell_type": "code",
   "execution_count": 389,
   "metadata": {},
   "outputs": [
    {
     "name": "stdout",
     "output_type": "stream",
     "text": [
      "[2226, 371, 954, 209, 1114, 157, 1768, 1260, 626, 112, 81, 87, 50]\n",
      "[19, 28, 64, 150, 59, 52, 19, 14, 5, 52, 6, 5, 102]\n"
     ]
    }
   ],
   "source": [
    "print(eco_regions_counts)\n",
    "print(eco_region3_count)\n",
    "classg_ratio = []\n",
    "for i in range(len(eco_region_areas)):\n",
    "    area_per = eco_region3_count[i]/eco_counts_ordered[i]\n",
    "    classg_ratio.append(area_per)"
   ]
  },
  {
   "cell_type": "code",
   "execution_count": 390,
   "metadata": {},
   "outputs": [
    {
     "data": {
      "text/plain": [
       "<BarContainer object of 13 artists>"
      ]
     },
     "execution_count": 390,
     "metadata": {},
     "output_type": "execute_result"
    },
    {
     "data": {
      "image/png": "[encoded data removed]",
      "text/plain": [
       "<Figure size 432x288 with 1 Axes>"
      ]
     },
     "metadata": {
      "needs_background": "light"
     },
     "output_type": "display_data"
    }
   ],
   "source": [
    "plt.bar(list1,classg_ratio)"
   ]
  },
  {
   "cell_type": "markdown",
   "metadata": {},
   "source": [
    "## Fires per eco region per class"
   ]
  },
  {
   "cell_type": "code",
   "execution_count": 275,
   "metadata": {},
   "outputs": [],
   "source": [
    "#finds class counts for each ecoregion \n",
    "regions_list = fire_data.Eco_Region.tolist()\n",
    "fire_classes = fire_data.Classes.tolist()\n",
    "index = []\n",
    "class_sep = []\n",
    "for i in [1,4,5,6,7,8,9,13,14,78,80,81,85]:\n",
    "    for k in range(len(regions_list)):\n",
    "        if regions_list[k] == i:\n",
    "            index.append(fire_classes[k]) \n",
    "    class_sep.append(index)\n",
    "    index = []"
   ]
  },
  {
   "cell_type": "code",
   "execution_count": 425,
   "metadata": {},
   "outputs": [],
   "source": [
    "ind = 12\n",
    "fire_class_pr = Counter(class_sep[ind]).keys() # equals to list(set(words))\n",
    "fire_class_pr_count = Counter(class_sep[ind]).values() # counts the elements' frequency"
   ]
  },
  {
   "cell_type": "code",
   "execution_count": 426,
   "metadata": {},
   "outputs": [
    {
     "data": {
      "text/plain": [
       "<BarContainer object of 4 artists>"
      ]
     },
     "execution_count": 426,
     "metadata": {},
     "output_type": "execute_result"
    },
    {
     "data": {
      "image/png": "[encoded data removed]",
      "text/plain": [
       "<Figure size 432x288 with 1 Axes>"
      ]
     },
     "metadata": {
      "needs_background": "light"
     },
     "output_type": "display_data"
    }
   ],
   "source": [
    "plt.bar(fire_class_pr, fire_class_pr_count)"
   ]
  },
  {
   "cell_type": "code",
   "execution_count": 152,
   "metadata": {},
   "outputs": [],
   "source": []
  },
  {
   "cell_type": "markdown",
   "metadata": {},
   "source": [
    "## Create Standard Line \n",
    "make an average across all fires than look at how far the classes devaite in distance from that average"
   ]
  },
  {
   "cell_type": "code",
   "execution_count": 283,
   "metadata": {},
   "outputs": [],
   "source": [
    "# creating list of wind magnitudes\n",
    "u10 = fire_data.u10.tolist()\n",
    "v10 = fire_data.v10.tolist()"
   ]
  },
  {
   "cell_type": "code",
   "execution_count": 284,
   "metadata": {},
   "outputs": [],
   "source": [
    "# wind speed calc\n",
    "wind_vel = []\n",
    "for i in range(len(u10)):\n",
    "    wind_vel.append(np.sqrt(u10[i]**2 + v10[i]**2))"
   ]
  },
  {
   "cell_type": "code",
   "execution_count": 285,
   "metadata": {},
   "outputs": [],
   "source": [
    "# wind speed not velicty, mislabled\n",
    "fire_data['Wind_Velocity'] = wind_vel"
   ]
  },
  {
   "cell_type": "code",
   "execution_count": 295,
   "metadata": {},
   "outputs": [],
   "source": [
    "# creates the values fro avg temp, avg soil temp and avg wind speed across all fires\n",
    "t2m = fire_data.t2m.tolist()\n",
    "stl1 = fire_data.stl1.tolist()\n",
    "avg_temp = 0\n",
    "avg_soil_temp = 0\n",
    "avg_wind_vel =0\n",
    "for i in range(len(u10)):\n",
    "    avg_temp += t2m[i]/len(t2m)\n",
    "    avg_soil_temp += stl1[i]/len(t2m)\n",
    "    avg_wind_vel += wind_vel[i]/len(t2m)"
   ]
  },
  {
   "cell_type": "code",
   "execution_count": 296,
   "metadata": {},
   "outputs": [],
   "source": [
    "# this calculates teh distance from a fire to the avgerages, with directionality, so we can have a negative distance\n",
    "dist_from_avg = []\n",
    "for i in range(len(u10)):\n",
    "    if t2m[i]-avg_temp > 0 and stl1[i]-avg_soil_temp > 0 and wind_vel[i]-avg_wind_vel > 0:\n",
    "        dist_from_avg.append(np.sqrt((t2m[i]-avg_temp)**2 + (stl1[i]-avg_soil_temp)**2 + (wind_vel[i]-avg_wind_vel)**2))\n",
    "    elif t2m[i]-avg_temp > 0 and stl1[i]-avg_soil_temp > 0 and wind_vel[i]-avg_wind_vel < 0:\n",
    "        if ((t2m[i]-avg_temp)**2 + (stl1[i]-avg_soil_temp)**2 - (wind_vel[i]-avg_wind_vel)**2) > 0:\n",
    "            dist_from_avg.append(np.sqrt((t2m[i]-avg_temp)**2 + (stl1[i]-avg_soil_temp)**2 - (wind_vel[i]-avg_wind_vel)**2))\n",
    "        else:\n",
    "            dist_from_avg.append(-np.sqrt(np.absolute((t2m[i]-avg_temp)**2 + (stl1[i]-avg_soil_temp)**2 - (wind_vel[i]-avg_wind_vel)**2)))\n",
    "    elif t2m[i]-avg_temp > 0 and stl1[i]-avg_soil_temp < 0 and wind_vel[i]-avg_wind_vel > 0:\n",
    "        if ((t2m[i]-avg_temp)**2 - (stl1[i]-avg_soil_temp)**2 + (wind_vel[i]-avg_wind_vel)**2) > 0:\n",
    "            dist_from_avg.append(np.sqrt((t2m[i]-avg_temp)**2 - (stl1[i]-avg_soil_temp)**2 + (wind_vel[i]-avg_wind_vel)**2))\n",
    "        else:\n",
    "            dist_from_avg.append(-np.sqrt(np.absolute((t2m[i]-avg_temp)**2 - (stl1[i]-avg_soil_temp)**2 + (wind_vel[i]-avg_wind_vel)**2)))\n",
    "    elif t2m[i]-avg_temp < 0 and stl1[i]-avg_soil_temp > 0 and wind_vel[i]-avg_wind_vel > 0:\n",
    "        if (-(t2m[i]-avg_temp)**2 + (stl1[i]-avg_soil_temp)**2 + (wind_vel[i]-avg_wind_vel)**2) > 0:\n",
    "            dist_from_avg.append(np.sqrt(-(t2m[i]-avg_temp)**2 + (stl1[i]-avg_soil_temp)**2 + (wind_vel[i]-avg_wind_vel)**2))\n",
    "        else:\n",
    "            dist_from_avg.append(-np.sqrt(np.absolute(-(t2m[i]-avg_temp)**2 + (stl1[i]-avg_soil_temp)**2 + (wind_vel[i]-avg_wind_vel)**2)))\n",
    "    elif t2m[i]-avg_temp > 0 and stl1[i]-avg_soil_temp < 0 and wind_vel[i]-avg_wind_vel < 0:\n",
    "        if (t2m[i]-avg_temp)**2 - (stl1[i]-avg_soil_temp)**2 - (wind_vel[i]-avg_wind_vel)**2 > 0:\n",
    "            dist_from_avg.append(np.sqrt((t2m[i]-avg_temp)**2 - (stl1[i]-avg_soil_temp)**2 - (wind_vel[i]-avg_wind_vel)**2))\n",
    "        else:\n",
    "            dist_from_avg.append(-np.sqrt(np.absolute((t2m[i]-avg_temp)**2 - (stl1[i]-avg_soil_temp)**2 - (wind_vel[i]-avg_wind_vel)**2)))\n",
    "    elif t2m[i]-avg_temp < 0 and stl1[i]-avg_soil_temp > 0 and wind_vel[i]-avg_wind_vel < 0:\n",
    "        if -(t2m[i]-avg_temp)**2 + (stl1[i]-avg_soil_temp)**2 - (wind_vel[i]-avg_wind_vel)**2 > 0:\n",
    "            dist_from_avg.append(np.sqrt(-(t2m[i]-avg_temp)**2 + (stl1[i]-avg_soil_temp)**2 - (wind_vel[i]-avg_wind_vel)**2))\n",
    "        else:\n",
    "            dist_from_avg.append(-np.sqrt(np.absolute(-(t2m[i]-avg_temp)**2 + (stl1[i]-avg_soil_temp)**2 - (wind_vel[i]-avg_wind_vel)**2)))\n",
    "    elif t2m[i]-avg_temp < 0 and stl1[i]-avg_soil_temp < 0 and wind_vel[i]-avg_wind_vel > 0:\n",
    "        if -(t2m[i]-avg_temp)**2 - (stl1[i]-avg_soil_temp)**2 + (wind_vel[i]-avg_wind_vel)**2 > 0:\n",
    "            dist_from_avg.append(np.sqrt(-(t2m[i]-avg_temp)**2 - (stl1[i]-avg_soil_temp)**2 + (wind_vel[i]-avg_wind_vel)**2))\n",
    "        else:\n",
    "            dist_from_avg.append(-np.sqrt(np.absolute(-(t2m[i]-avg_temp)**2 - (stl1[i]-avg_soil_temp)**2 + (wind_vel[i]-avg_wind_vel)**2)))\n",
    "    elif t2m[i]-avg_temp < 0 and stl1[i]-avg_soil_temp < 0 and wind_vel[i]-avg_wind_vel < 0:\n",
    "        dist_from_avg.append(-np.sqrt((t2m[i]-avg_temp)**2 + (stl1[i]-avg_soil_temp)**2 + (wind_vel[i]-avg_wind_vel)**2))"
   ]
  },
  {
   "cell_type": "code",
   "execution_count": 299,
   "metadata": {},
   "outputs": [],
   "source": [
    "# looking at counts by classes for differnce distances from teh standard line \n",
    "dist10 = []\n",
    "dist5 = []\n",
    "dist0 = []\n",
    "distn5 = []\n",
    "distn10 =[]\n",
    "for i in range(len(fire_classes)):\n",
    "    if dist_from_avg[i] > 10:\n",
    "        dist10.append(fire_classes[i])\n",
    "    elif dist_from_avg[i] > 5 and dist_from_avg[i] <= 10:\n",
    "        dist5.append(fire_classes[i])\n",
    "    elif dist_from_avg[i] > 0 and dist_from_avg[i] <= 5:\n",
    "        dist0.append(fire_classes[i])\n",
    "    elif dist_from_avg[i] > -5 and dist_from_avg[i] <= 0:\n",
    "        distn5.append(fire_classes[i])\n",
    "    elif dist_from_avg[i] < -5:\n",
    "        distn10.append(fire_classes[i])"
   ]
  },
  {
   "cell_type": "code",
   "execution_count": 300,
   "metadata": {},
   "outputs": [
    {
     "name": "stdout",
     "output_type": "stream",
     "text": [
      "dict_keys([0, 3, 1, 2])\n",
      "dict_values([307, 53, 62, 47])\n",
      "5\n",
      "dict_keys([0, 1, 3, 2])\n",
      "dict_values([1196, 266, 141, 198])\n",
      "0\n",
      "dict_keys([2, 0, 3, 1])\n",
      "dict_values([293, 1774, 156, 366])\n",
      "n5\n",
      "dict_keys([0, 1, 3, 2])\n",
      "dict_values([1471, 355, 119, 252])\n",
      "n10\n",
      "dict_keys([3, 2, 0, 1])\n",
      "dict_values([106, 193, 1345, 315])\n"
     ]
    }
   ],
   "source": [
    "print(Counter(dist10).keys()) # equals to list(set(words))\n",
    "print(Counter(dist10).values()) # counts the elements' frequency\n",
    "\n",
    "print('5')\n",
    "print(Counter(dist5).keys()) # equals to list(set(words))\n",
    "print(Counter(dist5).values()) # counts the elements' frequency\n",
    "\n",
    "print('0')\n",
    "print(Counter(dist0).keys()) # equals to list(set(words))\n",
    "print(Counter(dist0).values()) # counts the elements' frequency\n",
    "\n",
    "print('n5')\n",
    "print(Counter(distn5).keys()) # equals to list(set(words))\n",
    "print(Counter(distn5).values()) # counts the elements' frequency\n",
    "\n",
    "print('n10')\n",
    "print(Counter(distn10).keys()) # equals to list(set(words))\n",
    "print(Counter(distn10).values()) # counts the elements' frequency"
   ]
  },
  {
   "cell_type": "markdown",
   "metadata": {},
   "source": [
    "## Class G fires by year"
   ]
  },
  {
   "cell_type": "code",
   "execution_count": 308,
   "metadata": {},
   "outputs": [],
   "source": [
    "# looking at class g fires counts from 1980 to 2019\n",
    "year_list = []\n",
    "for i in range(len(fire_data)):\n",
    "    year_list.append(int(fire_data.ALARM_DATE[i][0:4]))"
   ]
  },
  {
   "cell_type": "code",
   "execution_count": 311,
   "metadata": {},
   "outputs": [],
   "source": [
    "fire_data['Year'] = year_list"
   ]
  },
  {
   "cell_type": "code",
   "execution_count": 327,
   "metadata": {},
   "outputs": [],
   "source": [
    "years = fire_data.Year.unique()\n",
    "years = sorted(years)"
   ]
  },
  {
   "cell_type": "code",
   "execution_count": 326,
   "metadata": {},
   "outputs": [],
   "source": [
    "classG_yr = []\n",
    "count = 0\n",
    "for i in years:\n",
    "    for j in range(len(fire_data)):\n",
    "        if classes[j] == 3 and year_list[j] == i:\n",
    "             #fire_years.append(fire_classes[k])\n",
    "            count += 1\n",
    "    classG_yr.append(count)\n",
    "    count = 0"
   ]
  },
  {
   "cell_type": "code",
   "execution_count": 383,
   "metadata": {},
   "outputs": [
    {
     "name": "stdout",
     "output_type": "stream",
     "text": [
      "[0, 1, 2, 3, 4, 5, 6, 7, 8, 9, 10, 11, 12, 13, 14, 15, 16, 17, 18, 19, 20, 21, 22, 23, 24, 25, 26, 27, 28, 29, 30, 31, 32, 33, 34, 35, 36, 37, 38, 39, 40, 41, 42, 43, 44, 45, 46, 47, 48, 49, 50, 51, 52, 53, 54, 55, 56, 57, 58, 59]\n"
     ]
    },
    {
     "data": {
      "image/png": "[encoded data removed]",
      "text/plain": [
       "<Figure size 504x360 with 1 Axes>"
      ]
     },
     "metadata": {
      "needs_background": "light"
     },
     "output_type": "display_data"
    }
   ],
   "source": [
    "# plot of teh graph with best fit line, that doesnt fit \n",
    "plt.figure(figsize=(7,5))\n",
    "y = []\n",
    "for i in range(len(classG_yr)):\n",
    "    y.append(i)\n",
    "print(y)\n",
    "plt.plot(classG_yr)\n",
    "z = np.polyfit(classG_yr, y, 1)\n",
    "p = np.poly1d(z)\n",
    "plt.plot(classG_yr,p(classG_yr),\"r--\")\n",
    "plt.xlim(0,40)\n",
    "plt.savefig('ClassGfiresOverTime')"
   ]
  },
  {
   "cell_type": "markdown",
   "metadata": {},
   "source": [
    "## Wind Speed"
   ]
  },
  {
   "cell_type": "code",
   "execution_count": 417,
   "metadata": {},
   "outputs": [],
   "source": [
    "# looks at average wind speed per class\n",
    "wind_spe = []\n",
    "u10 = fire_data.u10.tolist()\n",
    "v10 = fire_data.v10.tolist()\n",
    "for i in range(len(fire_data)):\n",
    "     wind_spe.append(np.sqrt(u10[i]**2 + v10[i]**2))"
   ]
  },
  {
   "cell_type": "code",
   "execution_count": 418,
   "metadata": {},
   "outputs": [],
   "source": [
    "fire_data['Wind_spe'] = wind_spe"
   ]
  },
  {
   "cell_type": "code",
   "execution_count": 421,
   "metadata": {},
   "outputs": [],
   "source": [
    "# creates average fro each class\n",
    "wind_by_class = []\n",
    "wind_avg = 0\n",
    "\n",
    "for i in [0,1,2,3]:\n",
    "    temp_df = fire_data[fire_data['Classes'] == i]\n",
    "    wind_avg = sum(temp_df.Wind_spe.tolist())/len(temp_df)\n",
    "    wind_by_class.append(wind_avg)\n",
    "    wind_avg = 0"
   ]
  },
  {
   "cell_type": "code",
   "execution_count": 422,
   "metadata": {},
   "outputs": [
    {
     "data": {
      "text/plain": [
       "[1.1507191299756185, 1.0939101814814551, 1.1758582509455366, 1.183371511931756]"
      ]
     },
     "execution_count": 422,
     "metadata": {},
     "output_type": "execute_result"
    }
   ],
   "source": [
    "wind_by_class"
   ]
  },
  {
   "cell_type": "code",
   "execution_count": 423,
   "metadata": {},
   "outputs": [
    {
     "data": {
      "text/plain": [
       "<BarContainer object of 4 artists>"
      ]
     },
     "execution_count": 423,
     "metadata": {},
     "output_type": "execute_result"
    },
    {
     "data": {
      "image/png": "[encoded data removed]",
      "text/plain": [
       "<Figure size 432x288 with 1 Axes>"
      ]
     },
     "metadata": {
      "needs_background": "light"
     },
     "output_type": "display_data"
    }
   ],
   "source": [
    "# plot of average winnd speeds per class\n",
    "plt.bar(['Class 1','Class 2','Class 3','Class 4'], wind_by_class)"
   ]
  },
  {
   "cell_type": "code",
   "execution_count": null,
   "metadata": {},
   "outputs": [],
   "source": []
  }
 ],
 "metadata": {
  "kernelspec": {
   "display_name": "Python 3",
   "language": "python",
   "name": "python3"
  },
  "language_info": {
   "codemirror_mode": {
    "name": "ipython",
    "version": 3
   },
   "file_extension": ".py",
   "mimetype": "text/x-python",
   "name": "python",
   "nbconvert_exporter": "python",
   "pygments_lexer": "ipython3",
   "version": "3.7.6"
  }
 },
 "nbformat": 4,
 "nbformat_minor": 4
}
